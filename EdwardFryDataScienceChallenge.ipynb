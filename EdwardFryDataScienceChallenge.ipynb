{
 "cells": [
  {
   "cell_type": "markdown",
   "metadata": {},
   "source": [
    "# Data Science Challenge\n",
    "#### Edward Fry\n",
    "#### 4/13/2021\n",
    "#### Phishing Attacks\n",
    "#### Microsoft Data & AI\n",
    "#### Joao Pedro Martins, Proctor\n",
    "---\n",
    "\n",
    "# Abstract\n",
    "XYZ Corporation is a credit card company. They are having difficulty controlling their fraud \n",
    "detection and recovery costs, especially through phishing attacks. It is important that XYZ understand \n",
    "first, who is likely to be attacked and why, and second, activities they can engage in to start decreasing \n",
    "the volume of attacks they receive.\n",
    "\n",
    "They have collected data on their on their email phishing attacks that they have found so far and \n",
    "would like to use this dataset to predict which employees are being targeted and why. The dataset \n",
    "contains records for email users stretching back for one year.\n",
    "\n",
    "The dataset has been obfuscated to prevent any leak of IP or identities from our analysis, and \n",
    "thus the column variables will be general in nature. The columns included were what the IT leads could \n",
    "put together is such short notice, but they are trying to get more data in the coming months. The \n",
    "business leaders of XYZ company would like to understand causality if at all possible, especially to \n",
    "understand which variables they should be looking at and if there are any more that would be \n",
    "worthwhile to try to get for future attempts. \n",
    "\n",
    "The variable that XYZ would like you to try to build a model around is labeled \n",
    "“EmployeeTargetedOverPastYear”. \n",
    "### Auto ML\n",
    "Please do NOT use any form of AutoML for your models\n",
    "\n",
    "### Explainability\n",
    "Please prepare to explain local feature effects for every observation of the dataset.\n",
    "\n",
    "### Deployment\n",
    "Please deploy your models and be ready to demonstrate a live online REST API call to those models.\n",
    "\n",
    "\n",
    "# Introduction\n",
    "With the significant amount of data that the businesss needs to analyze, it is infeasible for humans to sift through it in order to determine how to best identify phishing attacks.  Thus, this study aims to identify a model (or models) that can be used to accurately identify attack candidates as new data comes in.  Phishing attacks expose XYZ to risk and potentially high reactive costs, including expenses for legal activity, brand reputation, and regulatory consequences.  As such, it is important to minimize the volume of attacks.  One promising approach is to predict which employees may be targeted.  Additionally, if reasons can be pinpointed as to why certain employees are targeted, then more holistic remedies can be implemented proactively.\n",
    "\n",
    "In this study, data is first normalized, cleaned-up, and imputed.  Then, an exhaustive search of possible parameter combinations for each of 11 candidate models is undertaken.  Keeping the prediction goal in mind, a scoring function is chosen to minimize the cost by maximizing the true values chosen by the model.  Specifically, 4 classification states are possible: True and false positives and negatives. True positives and true negatives represent accurate identification, so these are desirable.  False positives are less desirable; however, the consequences of a false positive are that an employee perhaps takes unnecessary security precations, which is not very impactful.  The consquences of a false negative, however, would mean that a likely target ends up not taking additional precautions, plus systemic remedies might also be missed.  Therefore, it would be useful to weight false negatives more highly than false positives.  \n",
    "\n",
    "Once results are computed, then, those results are compared to identify the lowest cost and other metrics of interest.  Finally, promising models are discussed and recommmended to the business along with specific steps to address the most common reasons for being targeted.\n",
    "\n",
    "# Methods\n",
    "### Data cleanup\n",
    "As with any data set, it's important to make sure that the data is clean, normalized, and as complete as possible.  The incoming dataset was 14k rows in length.  The data was well-behaved for the most part with no extraneous characters, obvious errors, or crazy outliers.  Most of the columns were categorial and numerical.  Two columns, city & email, were strings and accordingly converted to lowercase for normalization.\n",
    "\n",
    "A short function to display any missing values revealed that there were, in fact, a few missing values throughout the dataset for every variable.  Very few values were missing relative to the total size of the dataset that only performing a visual inspection of the data would have probably led one to conclude that there were no missing values, so having the computer perform the check is important.  Four columns have missing values.\n",
    "\n",
    "Once missing values are identified, an appropriate imputation strategy for each variable is determined.  Some variables, especially the many categoricals, are best imputed by looking at the mode.  Some need the median to protect against outliers, and the remainder can use the mean.  To determine the distribution, each variable's histogram was plotted and examined.  The few continuous variables followed a slightly right-skewed normal distribution.\n",
    "\n",
    "As a final check, once all imputation is complete, the program again checks each variable for missing values.  This time, nothing is displayed, so the data is ready for modeling.\n",
    "\n",
    "### Phishing Leading Indicators of \"Causality\"\n",
    "Truly determing causality requires a randomized experiment.  Since this dataset is observational, the best we can do is look at correlation.  A heat map of all feature correlations to the phishing target reveals that the red team evaluation is a leading indicator of someone being a phishing target.  Additional variables that showed some correlation - though nowhere near the extent of the red team eval - were usage metric 5, fraud training, and gender.  Future data collection might consider focusing on these variables and perhaps adding variables that may be related to these that may not have been collected this time, which could yield a more accurate association.\n",
    "\n",
    "### Grid Search\n",
    "Because it is so important to get the model right in order to correctly identify the maximum number of potential phishing targets, a variety of potential classifers were chosen for examination.  For each model, various combinations of parameters were used to fit models on a set of training data.  A hold-out test set was then used to compute the relative performance of each set of parameters by model.  The collection of tested parameters is called a \"grid\" since the parameters could be listed in a tabular or grid-like format.  Because each combintation is fit in turn, the technique is a \"grid search\".  The grid search results in a thorough study of possible models and parameters with minimal preconceptions about which ones might ultimately be the best.  While a random grid search, in which only a portion of possible parameters in the grid are chosen at random for evaluation, was an option, it seemed that an exhaustive grid search that tried every single combination would be better in this situation since the business stands to lose so much money on false results.\n",
    "\n",
    "Part of the grid search process is cross-validation to guard against overfitting.  It works by holding out a 1/n potion of the training data, then using the heldout data for validation.  Then, the next portion is held out until all n portions have been held out and used for validation.  Originally, a 10-fold cross validation scheme was attempted; however, for the number of models and parameter grids under examination, 10-fold cross validation simply took too long to compute.  Thus, this was reduced to 5-fold cross validation.  This is still an adequate amount according to the literature and equates to 20% of the data being held out for validation on each pass.\n",
    "\n",
    "### Scoring\n",
    "All models need a way to determine the relative effectiveness of the model, and the models under grid search are no exception.  In fact, choosing a scoring model was very important to this particular problem.  Because we want to optimize to minmimize losses and specifically to minimize false positives and false negatives, this is accounted for in the scoring model.  Minimizing the number of false positives could also be considered maximizing the precision, which denotes the relative number of true positives.  Similarly, minimizing the number of false negatives is equivalent to maximizing recall.  There is a commonly used scoring metric called F1, which is the harmonic mean of precision and recall.  That seems promising all by itself, but the next step is to assign appropriate weighting.  For this exercise, let's assume that false negatives are 5 times worse than false positives due to the much more serious repercussions of a false negative.  Fortunately, there is a weighted variant of the F1 score known as f-beta, where beta is the relative weight to use.  Thus, for the main scorer, f-beta is maximized to meet XYZ's requirements.\n",
    "\n",
    "### Models\n",
    "Eleven models were examined for this problem, each one with its own set of parameters.  Tree-based classifiers included decisions trees and random forests, and they were fit with gini and entropy criterion, 200 estimators (which is twice the new scikit default of 100), bootstrap and oob both on and off, various leaf configurations, and square root and log maximum features.\n",
    "\n",
    "A ridge classifer examined 6 solvers for a range of alpha between 0 and 1.  Logistic regression tried 5 solvers with each of l1, l2, elastic net, or no penalty, an exponential set of C values, and an l1 ratio between 0 and 1.  A passive aggressive classifer used a similar range of C values.  Support vector machines can provide accurate predictions; however, they are computationally expensive.  For 160,000 rows of data, a linear SVM is used in its place with an exponential range of C, hinge and squared hinge losses, and l1 and l2 penalties.  AdaBoost simply varied the learning rate between .01 and .5.  Stochastic gradient descent followed a similar scheme to logistic regression.\n",
    "\n",
    "Finally, three more exotic models were fit.  LightGBM was fit on each of 4 boosting methods with depths between 2 and 10 and learning rates between .05 and .1.  XGBoost ranged the same depths and learning rate while varying the number of estimators between 60 and 220.  And a multilayer perceptron (neural network) combined 4 activations, 3 common solvers, and 3 learning rates with 5 exponentially increasing alphas.\n",
    "\n",
    "### Computational Considerations\n",
    "As noted above, the cross validation rate was reduced to 5 from 10 in order to speed up calculations.  In addition, each model examined in the grid search needed to be temporarily pulled into its own small Python code file that contained the logic for that one model along with some logic to save the results in a pickle file.  This let the project leverage parallel computation.  Later, the saved results of each grid search were read back into the main application and further examined for the final solution to the problem.\n",
    "\n",
    "\n",
    "# Results\n",
    "### Top Models\n",
    "Several models scored perfectly in the grid search, including Ada Boost, Decision Tree, Logistic Regression, Passive Aggressive, Random Forest, Ridge Regression and Support Vector Machine\n",
    ".  Cost was calculated using the formula false positive + 5 * false negative.  For completeness, the exact counts of true and false positives and negatives is available.\n",
    "\n",
    "The other models were lower performers by all of the same measures, and the multilayer perceptron (neural network), surprisingly, ended up being the worst performer of all.  This is perhaps because the simple nature of the correlations lend themselves well to simple linear models. The full list of optimal parameters is in Appendix A.\n",
    "\n",
    "### Relative performance\n",
    "In order to better visualize the relative performance of each model against its peers, the four key metrics of f-beta, accuracy, precision, and recall were plotted together.  This might be convenient if, for example, it was desired to look at another metric, like precision, and see at a glance if that might be a better solver than f-beta.  It also gives a good indication of how the models stratify in their performance.  For the most part, models tended to stay in their performance \"lane\" and not vary too much.  For instance, a moderate f-beta model would likely also have a moderate accuracy, precision, and recall.  There were exceptions to this, of course, but they were not too much outside expectations.  For instance, AdaBoost had a moderately high precision even though its other scores were all at the bottom of the group.  However, the top models dominated all of their categories, and there is clear white space between those and the others below them.\n",
    "\n",
    "\n",
    "# Conclusion\n",
    "This model study sought to identify that model that would produce accurate identification of potential phishing targets.  False positives are undesirable, but false negatives are much more so and weighted accordingly.  After cleaning and normalizing the data, an exhaustive grid search was executed on 11 candidate models.  The best model was the Ada Boost.  The neural network was poor and is not recommended.\n",
    "\n",
    "Thoughts for additional research might include using a tool like Tensorflow or PyTorch to try a variety of neural networks to see if that model can be improved with a different configuration.  In addition, an ensemble method combining the top models from this study might provide a small improvement over using them separately.\n",
    "\n",
    "\n",
    "# Appendix A: Best Model Parameters\n",
    "\n",
    "\n",
    "Optimal parameters\n",
    "==================\n",
    "### Ada Boost\n",
    "\t C : 0.001\n",
    "\t class_weight : balanced\n",
    "\t fit_intercept : False\n",
    "\t loss : squared_hinge\n",
    "\t penalty : l2\n",
    "     \n",
    "### Decision Tree\n",
    "\t bootstrap : False\n",
    "\t criterion : gini\n",
    "\t max_depth : None\n",
    "\t max_features : sqrt\n",
    "\t max_leaf_nodes : None\n",
    "\t min_impurity_split : 0.1\n",
    "\t n_estimators : 50\n",
    "\t oob_score : False\n",
    "     \n",
    "### Extreme Gradient Boosting (XGB)\n",
    "\t alpha : 1e-06\n",
    "\t fit_intercept : False\n",
    "\t l1_ratio : 0.0\n",
    "\t penalty : elasticnet\n",
    "     \n",
    "### Gradient Boosted Decision Trees (LGBM)\n",
    "\t alpha : 1e-06\n",
    "\t fit_intercept : False\n",
    "\t l1_ratio : 0.0\n",
    "\t penalty : elasticnet\n",
    "     \n",
    "### Logistic Regression\n",
    "\t bootstrap : False\n",
    "\t criterion : gini\n",
    "\t max_depth : None\n",
    "\t max_features : sqrt\n",
    "\t max_leaf_nodes : None\n",
    "\t min_impurity_split : 0.1\n",
    "\t n_estimators : 50\n",
    "\t oob_score : False\n",
    "     \n",
    "### Multilayer Perceptron\n",
    "\t activation : tanh\n",
    "\t alpha : 1\n",
    "\t early_stopping : True\n",
    "\t learning_rate : adaptive\n",
    "\t solver : adam\n",
    "     \n",
    "### Passive Aggressive\n",
    "\t bootstrap : False\n",
    "\t criterion : gini\n",
    "\t max_depth : None\n",
    "\t max_features : sqrt\n",
    "\t max_leaf_nodes : None\n",
    "\t min_impurity_split : 0.1\n",
    "\t n_estimators : 50\n",
    "\t oob_score : False\n",
    "     \n",
    "### Random Forest\n",
    "\t bootstrap : False\n",
    "\t criterion : gini\n",
    "\t max_depth : None\n",
    "\t max_features : sqrt\n",
    "\t max_leaf_nodes : None\n",
    "\t min_impurity_split : 0.1\n",
    "\t n_estimators : 50\n",
    "\t oob_score : False\n",
    "     \n",
    "### Ridge Regression\n",
    "\t bootstrap : False\n",
    "\t criterion : gini\n",
    "\t max_depth : None\n",
    "\t max_features : sqrt\n",
    "\t max_leaf_nodes : None\n",
    "\t min_impurity_split : 0.1\n",
    "\t n_estimators : 50\n",
    "\t oob_score : False\n",
    "     \n",
    "### Stochastic Gradient Descent\n",
    "\t alpha : 1e-06\n",
    "\t fit_intercept : False\n",
    "\t l1_ratio : 0.0\n",
    "\t penalty : elasticnet\n",
    "     \n",
    "### Support Vector Machine\n",
    "\t C : 0.001\n",
    "\t class_weight : balanced\n",
    "\t fit_intercept : False\n",
    "\t loss : squared_hinge\n",
    "\t penalty : l2\n",
    "     \n",
    "# Appendix B: Code and Output"
   ]
  },
  {
   "cell_type": "code",
   "execution_count": 1,
   "metadata": {},
   "outputs": [
    {
     "data": {
      "text/html": [
       "<div>\n",
       "<style scoped>\n",
       "    .dataframe tbody tr th:only-of-type {\n",
       "        vertical-align: middle;\n",
       "    }\n",
       "\n",
       "    .dataframe tbody tr th {\n",
       "        vertical-align: top;\n",
       "    }\n",
       "\n",
       "    .dataframe thead th {\n",
       "        text-align: right;\n",
       "    }\n",
       "</style>\n",
       "<table border=\"1\" class=\"dataframe\">\n",
       "  <thead>\n",
       "    <tr style=\"text-align: right;\">\n",
       "      <th></th>\n",
       "      <th>Activity on Company Forums</th>\n",
       "      <th>City</th>\n",
       "      <th>Email Domain</th>\n",
       "      <th>EmployeeTargetedOverPastYear</th>\n",
       "      <th>Gender (code)</th>\n",
       "      <th>Manager Rating of Likelihood to Leave Company</th>\n",
       "      <th>NS100Training Completed</th>\n",
       "      <th>Social Media Activity (Scaled)</th>\n",
       "      <th>Survey, Employee Satisfaction (Scaled)</th>\n",
       "      <th>behaviorPattern3</th>\n",
       "      <th>...</th>\n",
       "      <th>fraudTraining Completed</th>\n",
       "      <th>peerUsageMetric2</th>\n",
       "      <th>peerUsageMetric3</th>\n",
       "      <th>peerUsageMetric4</th>\n",
       "      <th>peerUsageMetric5</th>\n",
       "      <th>phishingTraining Completed</th>\n",
       "      <th>redTeamEval</th>\n",
       "      <th>usageMetric1</th>\n",
       "      <th>usageMetric4</th>\n",
       "      <th>usageMetric5</th>\n",
       "    </tr>\n",
       "  </thead>\n",
       "  <tbody>\n",
       "    <tr>\n",
       "      <th>0</th>\n",
       "      <td>12.0</td>\n",
       "      <td>Kachkanar</td>\n",
       "      <td>si.edu</td>\n",
       "      <td>0.0</td>\n",
       "      <td>1</td>\n",
       "      <td>1.0</td>\n",
       "      <td>1</td>\n",
       "      <td>3</td>\n",
       "      <td>1</td>\n",
       "      <td>0</td>\n",
       "      <td>...</td>\n",
       "      <td>0</td>\n",
       "      <td>6</td>\n",
       "      <td>1</td>\n",
       "      <td>0</td>\n",
       "      <td>4</td>\n",
       "      <td>0</td>\n",
       "      <td>4.0</td>\n",
       "      <td>4.0</td>\n",
       "      <td>8</td>\n",
       "      <td>NaN</td>\n",
       "    </tr>\n",
       "    <tr>\n",
       "      <th>1</th>\n",
       "      <td>28.0</td>\n",
       "      <td>Kista</td>\n",
       "      <td>earthlink.net</td>\n",
       "      <td>1.0</td>\n",
       "      <td>1</td>\n",
       "      <td>1.0</td>\n",
       "      <td>1</td>\n",
       "      <td>0</td>\n",
       "      <td>4</td>\n",
       "      <td>1</td>\n",
       "      <td>...</td>\n",
       "      <td>0</td>\n",
       "      <td>0</td>\n",
       "      <td>0</td>\n",
       "      <td>4</td>\n",
       "      <td>0</td>\n",
       "      <td>1</td>\n",
       "      <td>27.0</td>\n",
       "      <td>0.0</td>\n",
       "      <td>4</td>\n",
       "      <td>0.0</td>\n",
       "    </tr>\n",
       "    <tr>\n",
       "      <th>2</th>\n",
       "      <td>16.0</td>\n",
       "      <td>Belleville</td>\n",
       "      <td>sciencedaily.com</td>\n",
       "      <td>1.0</td>\n",
       "      <td>1</td>\n",
       "      <td>1.0</td>\n",
       "      <td>1</td>\n",
       "      <td>6</td>\n",
       "      <td>5</td>\n",
       "      <td>0</td>\n",
       "      <td>...</td>\n",
       "      <td>1</td>\n",
       "      <td>2</td>\n",
       "      <td>1</td>\n",
       "      <td>1</td>\n",
       "      <td>2</td>\n",
       "      <td>0</td>\n",
       "      <td>10.0</td>\n",
       "      <td>5.0</td>\n",
       "      <td>8</td>\n",
       "      <td>0.0</td>\n",
       "    </tr>\n",
       "    <tr>\n",
       "      <th>3</th>\n",
       "      <td>30.0</td>\n",
       "      <td>Chwałowice</td>\n",
       "      <td>tripadvisor.com</td>\n",
       "      <td>0.0</td>\n",
       "      <td>1</td>\n",
       "      <td>1.0</td>\n",
       "      <td>1</td>\n",
       "      <td>0</td>\n",
       "      <td>2</td>\n",
       "      <td>1</td>\n",
       "      <td>...</td>\n",
       "      <td>0</td>\n",
       "      <td>2</td>\n",
       "      <td>0</td>\n",
       "      <td>0</td>\n",
       "      <td>2</td>\n",
       "      <td>0</td>\n",
       "      <td>15.0</td>\n",
       "      <td>3.0</td>\n",
       "      <td>8</td>\n",
       "      <td>0.0</td>\n",
       "    </tr>\n",
       "    <tr>\n",
       "      <th>4</th>\n",
       "      <td>6.0</td>\n",
       "      <td>Kachkanar</td>\n",
       "      <td>redcross.org</td>\n",
       "      <td>1.0</td>\n",
       "      <td>1</td>\n",
       "      <td>1.0</td>\n",
       "      <td>0</td>\n",
       "      <td>3</td>\n",
       "      <td>4</td>\n",
       "      <td>0</td>\n",
       "      <td>...</td>\n",
       "      <td>0</td>\n",
       "      <td>1</td>\n",
       "      <td>1</td>\n",
       "      <td>0</td>\n",
       "      <td>4</td>\n",
       "      <td>1</td>\n",
       "      <td>13.0</td>\n",
       "      <td>3.0</td>\n",
       "      <td>8</td>\n",
       "      <td>2.0</td>\n",
       "    </tr>\n",
       "  </tbody>\n",
       "</table>\n",
       "<p>5 rows × 22 columns</p>\n",
       "</div>"
      ],
      "text/plain": [
       "   Activity on Company Forums        City      Email Domain  \\\n",
       "0                        12.0   Kachkanar            si.edu   \n",
       "1                        28.0       Kista     earthlink.net   \n",
       "2                        16.0  Belleville  sciencedaily.com   \n",
       "3                        30.0  Chwałowice   tripadvisor.com   \n",
       "4                         6.0   Kachkanar      redcross.org   \n",
       "\n",
       "   EmployeeTargetedOverPastYear  Gender (code)  \\\n",
       "0                           0.0              1   \n",
       "1                           1.0              1   \n",
       "2                           1.0              1   \n",
       "3                           0.0              1   \n",
       "4                           1.0              1   \n",
       "\n",
       "   Manager Rating of Likelihood to Leave Company  NS100Training Completed  \\\n",
       "0                                            1.0                        1   \n",
       "1                                            1.0                        1   \n",
       "2                                            1.0                        1   \n",
       "3                                            1.0                        1   \n",
       "4                                            1.0                        0   \n",
       "\n",
       "   Social Media Activity (Scaled)  Survey, Employee Satisfaction (Scaled)  \\\n",
       "0                               3                                       1   \n",
       "1                               0                                       4   \n",
       "2                               6                                       5   \n",
       "3                               0                                       2   \n",
       "4                               3                                       4   \n",
       "\n",
       "   behaviorPattern3  ...  fraudTraining Completed  peerUsageMetric2  \\\n",
       "0                 0  ...                        0                 6   \n",
       "1                 1  ...                        0                 0   \n",
       "2                 0  ...                        1                 2   \n",
       "3                 1  ...                        0                 2   \n",
       "4                 0  ...                        0                 1   \n",
       "\n",
       "   peerUsageMetric3  peerUsageMetric4  peerUsageMetric5  \\\n",
       "0                 1                 0                 4   \n",
       "1                 0                 4                 0   \n",
       "2                 1                 1                 2   \n",
       "3                 0                 0                 2   \n",
       "4                 1                 0                 4   \n",
       "\n",
       "   phishingTraining Completed  redTeamEval  usageMetric1  usageMetric4  \\\n",
       "0                           0          4.0           4.0             8   \n",
       "1                           1         27.0           0.0             4   \n",
       "2                           0         10.0           5.0             8   \n",
       "3                           0         15.0           3.0             8   \n",
       "4                           1         13.0           3.0             8   \n",
       "\n",
       "   usageMetric5  \n",
       "0           NaN  \n",
       "1           0.0  \n",
       "2           0.0  \n",
       "3           0.0  \n",
       "4           2.0  \n",
       "\n",
       "[5 rows x 22 columns]"
      ]
     },
     "execution_count": 1,
     "metadata": {},
     "output_type": "execute_result"
    }
   ],
   "source": [
    "import pandas as pd, numpy as np, matplotlib.pyplot as plt, os, sklearn, re, pickle, json, joblib, glob\n",
    "import plotly.graph_objects as go\n",
    "from utils import load_data\n",
    "import seaborn as sb\n",
    "from operator import attrgetter\n",
    "from collections import Counter\n",
    "\n",
    "from sklearn import metrics\n",
    "from sklearn.metrics import fbeta_score, make_scorer, precision_score, recall_score, confusion_matrix\n",
    "from sklearn.model_selection import train_test_split, GridSearchCV\n",
    "from sklearn.preprocessing import StandardScaler\n",
    "from sklearn.dummy import DummyClassifier\n",
    "from sklearn.base import BaseEstimator, ClassifierMixin\n",
    "\n",
    "from sklearn import linear_model as lm\n",
    "from sklearn.ensemble import RandomForestClassifier, AdaBoostClassifier, GradientBoostingClassifier\n",
    "from sklearn.neural_network import MLPClassifier\n",
    "from sklearn.naive_bayes import MultinomialNB\n",
    "from sklearn.tree import DecisionTreeClassifier\n",
    "from sklearn.svm import LinearSVC\n",
    "from sklearn.neighbors import KNeighborsClassifier\n",
    "from lightgbm.sklearn import LGBMClassifier\n",
    "from xgboost import XGBClassifier\n",
    "\n",
    "import azureml.core\n",
    "from azureml.core.webservice import AciWebservice, Webservice\n",
    "from azureml.core.model import InferenceConfig, Model\n",
    "from azureml.core.environment import Environment\n",
    "from azureml.core import Workspace, Dataset\n",
    "\n",
    "%matplotlib inline\n",
    "\n",
    "# Load data\n",
    "wd = r\"C:\\Code\\EdwardFryDataScienceChallenge\"\n",
    "dataSourceFilename = r\"EdwardFry_Microsoft_issueDataset.csv\"\n",
    "os.chdir(wd)\n",
    "df = pd.read_csv(dataSourceFilename)\n",
    "df.head()"
   ]
  },
  {
   "cell_type": "code",
   "execution_count": 58,
   "metadata": {},
   "outputs": [
    {
     "data": {
      "text/html": [
       "<div>\n",
       "<style scoped>\n",
       "    .dataframe tbody tr th:only-of-type {\n",
       "        vertical-align: middle;\n",
       "    }\n",
       "\n",
       "    .dataframe tbody tr th {\n",
       "        vertical-align: top;\n",
       "    }\n",
       "\n",
       "    .dataframe thead th {\n",
       "        text-align: right;\n",
       "    }\n",
       "</style>\n",
       "<table border=\"1\" class=\"dataframe\">\n",
       "  <thead>\n",
       "    <tr style=\"text-align: right;\">\n",
       "      <th></th>\n",
       "      <th>Gender (code)</th>\n",
       "      <th>Social Media Activity (Scaled)</th>\n",
       "      <th>Manager Rating of Likelihood to Leave Company</th>\n",
       "      <th>Survey, Employee Satisfaction (Scaled)</th>\n",
       "      <th>NS100Training Completed</th>\n",
       "      <th>peerUsageMetric4</th>\n",
       "      <th>peerUsageMetric5</th>\n",
       "      <th>behaviorPattern5</th>\n",
       "      <th>datumThreatMonitoringScore</th>\n",
       "      <th>redTeamEval</th>\n",
       "      <th>...</th>\n",
       "      <th>peerUsageMetric2</th>\n",
       "      <th>usageMetric4</th>\n",
       "      <th>peerUsageMetric3</th>\n",
       "      <th>City</th>\n",
       "      <th>behaviorPattern3</th>\n",
       "      <th>fraudTraining Completed</th>\n",
       "      <th>EmployeeTargetedOverPastYear</th>\n",
       "      <th>usageMetric1</th>\n",
       "      <th>Activity on Company Forums</th>\n",
       "      <th>Email Domain</th>\n",
       "    </tr>\n",
       "  </thead>\n",
       "  <tbody>\n",
       "    <tr>\n",
       "      <th>0</th>\n",
       "      <td>0</td>\n",
       "      <td>1</td>\n",
       "      <td>1.0</td>\n",
       "      <td>7</td>\n",
       "      <td>1</td>\n",
       "      <td>0</td>\n",
       "      <td>2</td>\n",
       "      <td>0</td>\n",
       "      <td>552.0</td>\n",
       "      <td>12.0</td>\n",
       "      <td>...</td>\n",
       "      <td>5</td>\n",
       "      <td>8</td>\n",
       "      <td>0</td>\n",
       "      <td>Chwałowice</td>\n",
       "      <td>3</td>\n",
       "      <td>1</td>\n",
       "      <td>0.0</td>\n",
       "      <td>2.0</td>\n",
       "      <td>13.0</td>\n",
       "      <td>tripadvisor.com</td>\n",
       "    </tr>\n",
       "    <tr>\n",
       "      <th>1</th>\n",
       "      <td>1</td>\n",
       "      <td>4</td>\n",
       "      <td>1.0</td>\n",
       "      <td>5</td>\n",
       "      <td>0</td>\n",
       "      <td>3</td>\n",
       "      <td>4</td>\n",
       "      <td>0</td>\n",
       "      <td>776.0</td>\n",
       "      <td>15.0</td>\n",
       "      <td>...</td>\n",
       "      <td>3</td>\n",
       "      <td>2</td>\n",
       "      <td>1</td>\n",
       "      <td>Tongzha</td>\n",
       "      <td>2</td>\n",
       "      <td>0</td>\n",
       "      <td>0.0</td>\n",
       "      <td>0.0</td>\n",
       "      <td>18.0</td>\n",
       "      <td>sciencedaily.com</td>\n",
       "    </tr>\n",
       "    <tr>\n",
       "      <th>2</th>\n",
       "      <td>0</td>\n",
       "      <td>6</td>\n",
       "      <td>1.0</td>\n",
       "      <td>4</td>\n",
       "      <td>1</td>\n",
       "      <td>3</td>\n",
       "      <td>2</td>\n",
       "      <td>1</td>\n",
       "      <td>627.0</td>\n",
       "      <td>17.0</td>\n",
       "      <td>...</td>\n",
       "      <td>6</td>\n",
       "      <td>2</td>\n",
       "      <td>1</td>\n",
       "      <td>Kiruru</td>\n",
       "      <td>1</td>\n",
       "      <td>1</td>\n",
       "      <td>1.0</td>\n",
       "      <td>4.0</td>\n",
       "      <td>11.0</td>\n",
       "      <td>tripadvisor.com</td>\n",
       "    </tr>\n",
       "    <tr>\n",
       "      <th>3</th>\n",
       "      <td>1</td>\n",
       "      <td>0</td>\n",
       "      <td>1.0</td>\n",
       "      <td>2</td>\n",
       "      <td>0</td>\n",
       "      <td>1</td>\n",
       "      <td>2</td>\n",
       "      <td>4</td>\n",
       "      <td>608.0</td>\n",
       "      <td>14.0</td>\n",
       "      <td>...</td>\n",
       "      <td>2</td>\n",
       "      <td>8</td>\n",
       "      <td>0</td>\n",
       "      <td>Kista</td>\n",
       "      <td>0</td>\n",
       "      <td>0</td>\n",
       "      <td>0.0</td>\n",
       "      <td>5.0</td>\n",
       "      <td>11.0</td>\n",
       "      <td>tripadvisor.com</td>\n",
       "    </tr>\n",
       "    <tr>\n",
       "      <th>4</th>\n",
       "      <td>0</td>\n",
       "      <td>1</td>\n",
       "      <td>1.0</td>\n",
       "      <td>4</td>\n",
       "      <td>0</td>\n",
       "      <td>3</td>\n",
       "      <td>2</td>\n",
       "      <td>4</td>\n",
       "      <td>740.0</td>\n",
       "      <td>7.0</td>\n",
       "      <td>...</td>\n",
       "      <td>4</td>\n",
       "      <td>6</td>\n",
       "      <td>1</td>\n",
       "      <td>Tongzha</td>\n",
       "      <td>1</td>\n",
       "      <td>0</td>\n",
       "      <td>0.0</td>\n",
       "      <td>0.0</td>\n",
       "      <td>8.0</td>\n",
       "      <td>earthlink.net</td>\n",
       "    </tr>\n",
       "  </tbody>\n",
       "</table>\n",
       "<p>5 rows × 22 columns</p>\n",
       "</div>"
      ],
      "text/plain": [
       "   Gender (code)  Social Media Activity (Scaled)  \\\n",
       "0              0                               1   \n",
       "1              1                               4   \n",
       "2              0                               6   \n",
       "3              1                               0   \n",
       "4              0                               1   \n",
       "\n",
       "   Manager Rating of Likelihood to Leave Company  \\\n",
       "0                                            1.0   \n",
       "1                                            1.0   \n",
       "2                                            1.0   \n",
       "3                                            1.0   \n",
       "4                                            1.0   \n",
       "\n",
       "   Survey, Employee Satisfaction (Scaled)  NS100Training Completed  \\\n",
       "0                                       7                        1   \n",
       "1                                       5                        0   \n",
       "2                                       4                        1   \n",
       "3                                       2                        0   \n",
       "4                                       4                        0   \n",
       "\n",
       "   peerUsageMetric4  peerUsageMetric5  behaviorPattern5  \\\n",
       "0                 0                 2                 0   \n",
       "1                 3                 4                 0   \n",
       "2                 3                 2                 1   \n",
       "3                 1                 2                 4   \n",
       "4                 3                 2                 4   \n",
       "\n",
       "   datumThreatMonitoringScore  redTeamEval  ...  peerUsageMetric2  \\\n",
       "0                       552.0         12.0  ...                 5   \n",
       "1                       776.0         15.0  ...                 3   \n",
       "2                       627.0         17.0  ...                 6   \n",
       "3                       608.0         14.0  ...                 2   \n",
       "4                       740.0          7.0  ...                 4   \n",
       "\n",
       "   usageMetric4  peerUsageMetric3        City  behaviorPattern3  \\\n",
       "0             8                 0  Chwałowice                 3   \n",
       "1             2                 1     Tongzha                 2   \n",
       "2             2                 1      Kiruru                 1   \n",
       "3             8                 0       Kista                 0   \n",
       "4             6                 1     Tongzha                 1   \n",
       "\n",
       "  fraudTraining Completed  EmployeeTargetedOverPastYear  usageMetric1  \\\n",
       "0                       1                           0.0           2.0   \n",
       "1                       0                           0.0           0.0   \n",
       "2                       1                           1.0           4.0   \n",
       "3                       0                           0.0           5.0   \n",
       "4                       0                           0.0           0.0   \n",
       "\n",
       "   Activity on Company Forums      Email Domain  \n",
       "0                        13.0   tripadvisor.com  \n",
       "1                        18.0  sciencedaily.com  \n",
       "2                        11.0   tripadvisor.com  \n",
       "3                        11.0   tripadvisor.com  \n",
       "4                         8.0     earthlink.net  \n",
       "\n",
       "[5 rows x 22 columns]"
      ]
     },
     "execution_count": 58,
     "metadata": {},
     "output_type": "execute_result"
    }
   ],
   "source": [
    "# Load data\n",
    "wd = r\"C:\\Code\\EdwardFryDataScienceChallenge\"\n",
    "dataSourceFilename = r\"EdwardFry_Microsoft_holdoutDataset.csv\"\n",
    "os.chdir(wd)\n",
    "df = pd.read_csv(dataSourceFilename)\n",
    "df.head()"
   ]
  },
  {
   "cell_type": "code",
   "execution_count": 59,
   "metadata": {},
   "outputs": [
    {
     "name": "stdout",
     "output_type": "stream",
     "text": [
      "['Gender (code)', 'Social Media Activity (Scaled)', 'Manager Rating of Likelihood to Leave Company', 'Survey, Employee Satisfaction (Scaled)', 'NS100Training Completed', 'peerUsageMetric4', 'peerUsageMetric5', 'behaviorPattern5', 'datumThreatMonitoringScore', 'redTeamEval', 'usageMetric5', 'phishingTraining Completed', 'peerUsageMetric2', 'usageMetric4', 'peerUsageMetric3', 'City', 'behaviorPattern3', 'fraudTraining Completed', 'EmployeeTargetedOverPastYear', 'usageMetric1', 'Activity on Company Forums', 'Email Domain']\n"
     ]
    }
   ],
   "source": [
    "# Normalize and examine column names; refer to cols by name in case future datasets are in a different order\n",
    "col_names = list(df.columns)\n",
    "print(col_names)"
   ]
  },
  {
   "cell_type": "code",
   "execution_count": 60,
   "metadata": {},
   "outputs": [],
   "source": [
    "# Init each index in case a future column is missing\n",
    "col_forums = -1\n",
    "col_city = -1\n",
    "col_email = -1\n",
    "col_employee_target = -1\n",
    "col_gender = -1\n",
    "col_leave = -1    \n",
    "col_ns100 = -1\n",
    "col_social = -1\n",
    "col_sat = -1\n",
    "col_behavior3 = -1\n",
    "col_behavior5 = -1\n",
    "col_threat = -1\n",
    "col_fraud = -1\n",
    "col_peer2 = -1\n",
    "col_peer3 = -1\n",
    "col_peer4 = -1\n",
    "col_peer5 = -1\n",
    "col_phish = -1\n",
    "col_redteam = -1\n",
    "col_usage1 = -1\n",
    "col_usage4 = -1\n",
    "col_usage5 = -1"
   ]
  },
  {
   "cell_type": "code",
   "execution_count": 61,
   "metadata": {},
   "outputs": [
    {
     "name": "stdout",
     "output_type": "stream",
     "text": [
      "[20, 15, 21, 18, 0, 2, 4, 1, 3, 16, 7, 8, 17, 12, 14, 5, 6, 11, 9, 19, 13, 10]\n"
     ]
    }
   ],
   "source": [
    "# Name each index so column can be referred to by name regardless of input ordering\n",
    "# Use matching to identify columns in case ordering or name strings are confounded\n",
    "for name in col_names:\n",
    "    name_lower = name.lower()\n",
    "    if re.search(r\"forums\", name_lower):\n",
    "        col_forums = col_names.index(name)\n",
    "    elif re.search(r\"city\", name_lower):\n",
    "        col_city = col_names.index(name)        \n",
    "    elif re.search(r\"email\", name_lower):\n",
    "        col_email = col_names.index(name)\n",
    "    elif re.search(r\"employee.*target\", name_lower):\n",
    "        col_employee_target = col_names.index(name)        \n",
    "    elif re.search(r\"(gender|sex)\", name_lower):\n",
    "        col_gender = col_names.index(name)        \n",
    "    elif re.search(r\"like.*leave\", name_lower):\n",
    "        col_leave = col_names.index(name)        \n",
    "    elif re.search(r\"ns100\", name_lower):\n",
    "        col_ns100 = col_names.index(name)        \n",
    "    elif re.search(r\"social.*media\", name_lower):\n",
    "        col_social = col_names.index(name)        \n",
    "    elif re.search(r\"satisfaction\", name_lower):\n",
    "        col_sat = col_names.index(name)        \n",
    "    elif re.search(r\"behavior.*3\", name_lower):\n",
    "        col_behavior3 = col_names.index(name)        \n",
    "    elif re.search(r\"behavior.*5\", name_lower):\n",
    "        col_behavior5 = col_names.index(name)        \n",
    "    elif re.search(r\"threat.*mon\", name_lower):\n",
    "        col_threat = col_names.index(name)        \n",
    "    elif re.search(r\"fraud.*training\", name_lower):\n",
    "        col_fraud = col_names.index(name)        \n",
    "    elif re.search(r\"peer.*2\", name_lower):\n",
    "        col_peer2 = col_names.index(name)        \n",
    "    elif re.search(r\"peer.*3\", name_lower):\n",
    "        col_peer3 = col_names.index(name)        \n",
    "    elif re.search(r\"peer.*4\", name_lower):\n",
    "        col_peer4 = col_names.index(name)         \n",
    "    elif re.search(r\"peer.*5\", name_lower):\n",
    "        col_peer5 = col_names.index(name)           \n",
    "    elif re.search(r\"ish.*training\", name_lower):\n",
    "        col_phish = col_names.index(name)           \n",
    "    elif re.search(r\"red.*team\", name_lower):\n",
    "        col_redteam = col_names.index(name)           \n",
    "    elif re.search(r\"^usage.*1\", name_lower):\n",
    "        col_usage1 = col_names.index(name)        \n",
    "    elif re.search(r\"^usage.*4\", name_lower):\n",
    "        col_usage4 = col_names.index(name)        \n",
    "    elif re.search(r\"^usage.*5\", name_lower):\n",
    "        col_usage5 = col_names.index(name)\n",
    "        \n",
    "all_col_indices = [col_forums, col_city, col_email, col_employee_target,\n",
    "                   col_gender, col_leave, col_ns100, col_social, col_sat,\n",
    "                   col_behavior3, col_behavior5, col_threat, col_fraud,\n",
    "                   col_peer2, col_peer3, col_peer4, col_peer5, col_phish,\n",
    "                   col_redteam, col_usage1, col_usage4, col_usage5]\n",
    "print(all_col_indices)  # If all goes as planned, the output from the original training dataset should be a list of increasing integers"
   ]
  },
  {
   "cell_type": "code",
   "execution_count": 62,
   "metadata": {},
   "outputs": [],
   "source": [
    "# Initialize containers\n",
    "est_with_means = [col_redteam]\n",
    "est_with_medians = [col_forums]  # Determined after looking at histogram plots for outliers (below)\n",
    "est_with_modes = []  # Most categoricals will get this\n",
    "est_excludes = [col_employee_target]\n",
    "target = col_employee_target\n",
    "categoricals = [col_city, col_email, col_employee_target,\n",
    "                col_gender, col_leave, col_ns100, col_social, col_sat,\n",
    "                col_behavior3, col_behavior5, col_threat, col_fraud,\n",
    "                col_peer2, col_peer3, col_peer4, col_peer5, col_phish,\n",
    "                col_usage1, col_usage4, col_usage5]\n",
    "\n",
    "# Normalize categoricals\n",
    "for i in categoricals:\n",
    "    try:\n",
    "        df[i] = df[i].str.lower()\n",
    "    except:  # Ignore non-strings\n",
    "        pass"
   ]
  },
  {
   "cell_type": "code",
   "execution_count": 63,
   "metadata": {},
   "outputs": [],
   "source": [
    "# Functions\n",
    "def show_missing(df): \n",
    "    print(\"Number of missing values by column:\")\n",
    "    for i in df.columns:\n",
    "        if df.loc[df[i].isna(), i].shape[0] > 0:\n",
    "            print(\"\\t\", i, df.loc[df[i].isna(), i].shape)"
   ]
  },
  {
   "cell_type": "code",
   "execution_count": 65,
   "metadata": {},
   "outputs": [
    {
     "name": "stdout",
     "output_type": "stream",
     "text": [
      "Shape:  (1000, 22)\n",
      "Number of missing values by column:\n",
      "\t Manager Rating of Likelihood to Leave Company (18,)\n",
      "\t usageMetric5 (106,)\n",
      "\t usageMetric1 (19,)\n",
      "\n",
      "Most commmonly used values and distribution by column:\n",
      "\t 20 [('Activity on Company Forums', 1)]\n"
     ]
    },
    {
     "data": {
      "image/png": "[encoded data removed]",
      "text/plain": [
       "<Figure size 432x288 with 1 Axes>"
      ]
     },
     "metadata": {
      "needs_background": "light"
     },
     "output_type": "display_data"
    },
    {
     "name": "stdout",
     "output_type": "stream",
     "text": [
      "\t 15 [('City', 1)]\n"
     ]
    },
    {
     "data": {
      "image/png": "[encoded data removed]",
      "text/plain": [
       "<Figure size 432x288 with 1 Axes>"
      ]
     },
     "metadata": {
      "needs_background": "light"
     },
     "output_type": "display_data"
    },
    {
     "name": "stdout",
     "output_type": "stream",
     "text": [
      "\t 21 [('Email Domain', 1)]\n"
     ]
    },
    {
     "data": {
      "image/png": "[encoded data removed]",
      "text/plain": [
       "<Figure size 432x288 with 1 Axes>"
      ]
     },
     "metadata": {
      "needs_background": "light"
     },
     "output_type": "display_data"
    },
    {
     "name": "stdout",
     "output_type": "stream",
     "text": [
      "\t 18 [('EmployeeTargetedOverPastYear', 1)]\n"
     ]
    },
    {
     "data": {
      "image/png": "[encoded data removed]",
      "text/plain": [
       "<Figure size 432x288 with 1 Axes>"
      ]
     },
     "metadata": {
      "needs_background": "light"
     },
     "output_type": "display_data"
    },
    {
     "name": "stdout",
     "output_type": "stream",
     "text": [
      "\t 0 [('Gender (code)', 1)]\n"
     ]
    },
    {
     "data": {
      "image/png": "[encoded data removed]",
      "text/plain": [
       "<Figure size 432x288 with 1 Axes>"
      ]
     },
     "metadata": {
      "needs_background": "light"
     },
     "output_type": "display_data"
    },
    {
     "name": "stdout",
     "output_type": "stream",
     "text": [
      "\t 2 [('Manager Rating of Likelihood to Leave Company', 1)]\n"
     ]
    },
    {
     "data": {
      "image/png": "[encoded data removed]",
      "text/plain": [
       "<Figure size 432x288 with 1 Axes>"
      ]
     },
     "metadata": {
      "needs_background": "light"
     },
     "output_type": "display_data"
    },
    {
     "name": "stdout",
     "output_type": "stream",
     "text": [
      "\t 4 [('NS100Training Completed', 1)]\n"
     ]
    },
    {
     "data": {
      "image/png": "[encoded data removed]",
      "text/plain": [
       "<Figure size 432x288 with 1 Axes>"
      ]
     },
     "metadata": {
      "needs_background": "light"
     },
     "output_type": "display_data"
    },
    {
     "name": "stdout",
     "output_type": "stream",
     "text": [
      "\t 1 [('Social Media Activity (Scaled)', 1)]\n"
     ]
    },
    {
     "data": {
      "image/png": "[encoded data removed]",
      "text/plain": [
       "<Figure size 432x288 with 1 Axes>"
      ]
     },
     "metadata": {
      "needs_background": "light"
     },
     "output_type": "display_data"
    },
    {
     "name": "stdout",
     "output_type": "stream",
     "text": [
      "\t 3 [('Survey, Employee Satisfaction (Scaled)', 1)]\n"
     ]
    },
    {
     "data": {
      "image/png": "[encoded data removed]",
      "text/plain": [
       "<Figure size 432x288 with 1 Axes>"
      ]
     },
     "metadata": {
      "needs_background": "light"
     },
     "output_type": "display_data"
    },
    {
     "name": "stdout",
     "output_type": "stream",
     "text": [
      "\t 16 [('behaviorPattern3', 1)]\n"
     ]
    },
    {
     "data": {
      "image/png": "[encoded data removed]",
      "text/plain": [
       "<Figure size 432x288 with 1 Axes>"
      ]
     },
     "metadata": {
      "needs_background": "light"
     },
     "output_type": "display_data"
    },
    {
     "name": "stdout",
     "output_type": "stream",
     "text": [
      "\t 7 [('behaviorPattern5', 1)]\n"
     ]
    },
    {
     "data": {
      "image/png": "[encoded data removed]",
      "text/plain": [
       "<Figure size 432x288 with 1 Axes>"
      ]
     },
     "metadata": {
      "needs_background": "light"
     },
     "output_type": "display_data"
    },
    {
     "name": "stdout",
     "output_type": "stream",
     "text": [
      "\t 8 [('datumThreatMonitoringScore', 1)]\n"
     ]
    },
    {
     "data": {
      "image/png": "[encoded data removed]",
      "text/plain": [
       "<Figure size 432x288 with 1 Axes>"
      ]
     },
     "metadata": {
      "needs_background": "light"
     },
     "output_type": "display_data"
    },
    {
     "name": "stdout",
     "output_type": "stream",
     "text": [
      "\t 17 [('fraudTraining Completed', 1)]\n"
     ]
    },
    {
     "data": {
      "image/png": "[encoded data removed]",
      "text/plain": [
       "<Figure size 432x288 with 1 Axes>"
      ]
     },
     "metadata": {
      "needs_background": "light"
     },
     "output_type": "display_data"
    },
    {
     "name": "stdout",
     "output_type": "stream",
     "text": [
      "\t 12 [('peerUsageMetric2', 1)]\n"
     ]
    },
    {
     "data": {
      "image/png": "[encoded data removed]",
      "text/plain": [
       "<Figure size 432x288 with 1 Axes>"
      ]
     },
     "metadata": {
      "needs_background": "light"
     },
     "output_type": "display_data"
    },
    {
     "name": "stdout",
     "output_type": "stream",
     "text": [
      "\t 14 [('peerUsageMetric3', 1)]\n"
     ]
    },
    {
     "data": {
      "image/png": "[encoded data removed]",
      "text/plain": [
       "<Figure size 432x288 with 1 Axes>"
      ]
     },
     "metadata": {
      "needs_background": "light"
     },
     "output_type": "display_data"
    },
    {
     "name": "stdout",
     "output_type": "stream",
     "text": [
      "\t 5 [('peerUsageMetric4', 1)]\n"
     ]
    },
    {
     "data": {
      "image/png": "[encoded data removed]",
      "text/plain": [
       "<Figure size 432x288 with 1 Axes>"
      ]
     },
     "metadata": {
      "needs_background": "light"
     },
     "output_type": "display_data"
    },
    {
     "name": "stdout",
     "output_type": "stream",
     "text": [
      "\t 6 [('peerUsageMetric5', 1)]\n"
     ]
    },
    {
     "data": {
      "image/png": "[encoded data removed]",
      "text/plain": [
       "<Figure size 432x288 with 1 Axes>"
      ]
     },
     "metadata": {
      "needs_background": "light"
     },
     "output_type": "display_data"
    },
    {
     "name": "stdout",
     "output_type": "stream",
     "text": [
      "\t 11 [('phishingTraining Completed', 1)]\n"
     ]
    },
    {
     "data": {
      "image/png": "[encoded data removed]",
      "text/plain": [
       "<Figure size 432x288 with 1 Axes>"
      ]
     },
     "metadata": {
      "needs_background": "light"
     },
     "output_type": "display_data"
    },
    {
     "name": "stdout",
     "output_type": "stream",
     "text": [
      "\t 9 [('redTeamEval', 1)]\n"
     ]
    },
    {
     "data": {
      "image/png": "[encoded data removed]",
      "text/plain": [
       "<Figure size 432x288 with 1 Axes>"
      ]
     },
     "metadata": {
      "needs_background": "light"
     },
     "output_type": "display_data"
    },
    {
     "name": "stdout",
     "output_type": "stream",
     "text": [
      "\t 19 [('usageMetric1', 1)]\n"
     ]
    },
    {
     "data": {
      "image/png": "[encoded data removed]",
      "text/plain": [
       "<Figure size 432x288 with 1 Axes>"
      ]
     },
     "metadata": {
      "needs_background": "light"
     },
     "output_type": "display_data"
    },
    {
     "name": "stdout",
     "output_type": "stream",
     "text": [
      "\t 13 [('usageMetric4', 1)]\n"
     ]
    },
    {
     "data": {
      "image/png": "[encoded data removed]",
      "text/plain": [
       "<Figure size 432x288 with 1 Axes>"
      ]
     },
     "metadata": {
      "needs_background": "light"
     },
     "output_type": "display_data"
    },
    {
     "name": "stdout",
     "output_type": "stream",
     "text": [
      "\t 10 [('usageMetric5', 1)]\n"
     ]
    },
    {
     "data": {
      "image/png": "[encoded data removed]",
      "text/plain": [
       "<Figure size 432x288 with 1 Axes>"
      ]
     },
     "metadata": {
      "needs_background": "light"
     },
     "output_type": "display_data"
    },
    {
     "name": "stdout",
     "output_type": "stream",
     "text": [
      "\n",
      "Categorical variables:  [15, 21, 18, 0, 2, 4, 1, 3, 16, 7, 8, 17, 12, 14, 5, 6, 11, 19, 13, 10]\n",
      "\n",
      "Mean estimation variables:  [9]\n",
      "\n",
      "Median estimation variables:  [20]\n",
      "\n",
      "Mode estimation variables:  [15, 21, 18, 0, 2, 4, 1, 3, 16, 7, 8, 17, 12, 14, 5, 6, 11, 19, 13, 10]\n"
     ]
    }
   ],
   "source": [
    "# Examine data\n",
    "print(\"Shape: \", df.shape)\n",
    "\n",
    "# Study data topography to determine best way to fill in missing values and place in appropriate container\n",
    "show_missing(df)\n",
    "print(\"\\nMost commmonly used values and distribution by column:\")\n",
    "for i in all_col_indices:\n",
    "    if df.iloc[:, [i]].isna().shape[0] > 0:\n",
    "        print(\"\\t\", i, Counter(df.iloc[:, [i]]).most_common(3))\n",
    "        \n",
    "        # Looking for outliers, if normal, can you mean, otherwise use median\n",
    "        plt.hist(df.iloc[:, [i]])    \n",
    "        plt.show()\n",
    "\n",
    "        # Sort columns by the type of missing value estimation best for it to use\n",
    "        if i in categoricals:\n",
    "            est_with_modes.append(i)\n",
    "        else:   # Anything not using median or mode will use mean\n",
    "            if i not in categoricals + est_with_means + est_with_medians + est_with_modes + est_excludes:\n",
    "                est_with_means.append(i)\n",
    "\n",
    "print(\"\\nCategorical variables: \", categoricals)\n",
    "print(\"\\nMean estimation variables: \", est_with_means)\n",
    "print(\"\\nMedian estimation variables: \", est_with_medians)\n",
    "print(\"\\nMode estimation variables: \", est_with_modes)"
   ]
  },
  {
   "cell_type": "code",
   "execution_count": 66,
   "metadata": {},
   "outputs": [
    {
     "name": "stdout",
     "output_type": "stream",
     "text": [
      "Number of missing values by column:\n"
     ]
    }
   ],
   "source": [
    "# Impute missing values\n",
    "for i in est_with_medians:\n",
    "    col_name = df.columns[i]\n",
    "    df[col_name] = df[col_name].fillna(df[col_name].median())\n",
    "    \n",
    "for i in est_with_means:\n",
    "    col_name = df.columns[i]\n",
    "    df[col_name] = df[col_name].fillna(df[col_name].mean())\n",
    "    \n",
    "for i in est_with_modes:\n",
    "    col_name = df.columns[i]\n",
    "    df[col_name] = df[col_name].fillna(df[col_name].mode()[0])\n",
    "    \n",
    "show_missing(df)  # Should display nothing"
   ]
  },
  {
   "cell_type": "code",
   "execution_count": 9,
   "metadata": {},
   "outputs": [
    {
     "data": {
      "image/png": "[encoded data removed]",
      "text/plain": [
       "<Figure size 432x288 with 2 Axes>"
      ]
     },
     "metadata": {
      "needs_background": "light"
     },
     "output_type": "display_data"
    }
   ],
   "source": [
    "# Plotting correlation heatmap\n",
    "xyz_corr = sb.heatmap(df.corr())\n",
    "  \n",
    "# Displaying heatmap\n",
    "plt.show()"
   ]
  },
  {
   "cell_type": "code",
   "execution_count": 67,
   "metadata": {},
   "outputs": [
    {
     "name": "stdout",
     "output_type": "stream",
     "text": [
      "Working dataframe...\n",
      "[[-0.52526755 -0.3026396  -0.27645301 ...  0.63289827 -0.39843262\n",
      "  -0.41843534]\n",
      " [-0.09752525  0.30482647 -0.27645301 ... -1.58003275 -0.39843262\n",
      "   2.38985552]\n",
      " [ 0.18763629 -0.54562602 -0.27645301 ...  0.63289827 -0.39843262\n",
      "  -0.41843534]]\n",
      "0    0.0\n",
      "1    0.0\n",
      "2    1.0\n",
      "3    0.0\n",
      "4    0.0\n",
      "Name: EmployeeTargetedOverPastYear, dtype: float64\n"
     ]
    }
   ],
   "source": [
    "# Pre-train prep\n",
    "\n",
    "# Identify correlated features\n",
    "corr_features = [col_redteam, col_peer5, col_fraud, col_sat, col_gender]\n",
    "\n",
    "# Split target from features and drop unused columns\n",
    "drop_columnns = []\n",
    "df = df.drop(drop_columnns, axis=1)\n",
    "\n",
    "X = df.iloc[:, df.columns != target]  # All except target column\n",
    "y = df.iloc[:, target]  # Target column\n",
    "\n",
    "# One hot encode the categoricals\n",
    "for column in categoricals:\n",
    "    column_title = str(df.columns[column])\n",
    "    ohe = pd.get_dummies(df[column_title], prefix=column_title)\n",
    "    X = X.drop([column_title], axis=1)\n",
    "    X = pd.concat([X, ohe], axis=1)  # Merge the continuous and one-hot frames together\n",
    "\n",
    "# Standardize the data\n",
    "scaler = StandardScaler()\n",
    "scaler.fit(X)\n",
    "X = scaler.transform(X)\n",
    "\n",
    "# Split the data\n",
    "#X_train, X_test, y_train, y_test = train_test_split(X, y, test_size=0.20, random_state=14)\n",
    "X_test = X\n",
    "y_test = y\n",
    "    \n",
    "print(r\"Working dataframe...\")\n",
    "print(X[:3])\n",
    "print(y.head())"
   ]
  },
  {
   "cell_type": "code",
   "execution_count": 17,
   "metadata": {},
   "outputs": [],
   "source": [
    "# The models and their parameter permutations to be examined\n",
    "models = [\n",
    "    { \n",
    "        \"model\" : [RandomForestClassifier()],\n",
    "        \"name\" : \"Random Forest\",\n",
    "        \"params\" : \n",
    "        {\n",
    "            \"n_estimators\"        : [50],\n",
    "            \"max_features\"        : [\"sqrt\", \"log2\"],\n",
    "            \"bootstrap\"           : [False, True],\n",
    "            \"criterion\"           : ['gini', 'entropy'],\n",
    "            \"oob_score\"           : [True, False],\n",
    "            \"max_depth\"           : [None, 6, 10],\n",
    "            \"max_leaf_nodes\"      : [None, 5, 10],\n",
    "            \"min_impurity_split\"  : [0.1, 0.3]\n",
    "        }\n",
    "    },\n",
    "    { \n",
    "        \"model\" : [lm.RidgeClassifier()],\n",
    "        \"name\" : \"Ridge Regression\",\n",
    "        \"params\" : \n",
    "        {\n",
    "            \"alpha\"                : [0.1, 0.5, 1.0],\n",
    "            \"fit_intercept\"        : [False],  # Data should already be normalized\n",
    "            \"solver\"               : ['svd', 'cholesky', 'lsqr', 'sparse_cg', 'sag', 'saga']\n",
    "        }\n",
    "    },\n",
    "    { \n",
    "        \"model\" : [lm.LogisticRegression()],\n",
    "        \"name\" : \"Logistic Regression\",\n",
    "        \"params\" : \n",
    "        {\n",
    "            \"penalty\"              : ['l1', 'l2', 'elasticnet', 'none'],\n",
    "            \"C\"                    : [0.001, 0.1, 1, 10, 100, 10e5],\n",
    "            \"fit_intercept\"        : [False],  # Data should already be normalized\n",
    "            \"solver\"               : ['newton-cg', 'lbfgs', 'liblinear', 'sag', 'saga'],\n",
    "            \"l1_ratio\"             : [0.0, 0.2, 0.6, 1.0]\n",
    "       }\n",
    "    },\n",
    "    { \n",
    "        \"model\" : [lm.PassiveAggressiveClassifier()],\n",
    "        \"name\" : \"Passive Aggressive\",\n",
    "        \"params\" : \n",
    "        {\n",
    "            \"fit_intercept\"        : [False],  # Data should already be normalized\n",
    "            \"C\"                    : [0.001, 0.1, 1, 10, 100, 10e5],\n",
    "            \"early_stopping\"       : [True]\n",
    "        }\n",
    "    },\n",
    "    { \n",
    "        \"model\" : [DecisionTreeClassifier()],\n",
    "        \"name\" : \"Decision Tree\",\n",
    "        \"params\" : \n",
    "        {\n",
    "            \"criterion\"            : ['gini','entropy'],\n",
    "            \"splitter\"             : ['best','random'],\n",
    "            \"class_weight\"         : ['balanced', None],\n",
    "            \"max_depth\"            : [None, 6, 8, 10],\n",
    "            \"max_features\"         : [\"sqrt\", \"log2\"]\n",
    "        }\n",
    "    },\n",
    "    { \n",
    "        \"model\" : [LinearSVC()],  # Regular SVC is not practical for this much data\n",
    "        \"name\" : \"Support Vector Machine\",\n",
    "        \"params\" : \n",
    "        {\n",
    "            \"C\"                     : [0.001, 0.1, 1, 10, 100, 10e5],\n",
    "            \"class_weight\"          : ['balanced'],\n",
    "            \"penalty\"               : ['l1', 'l2'],\n",
    "            \"loss\"                  : ['hinge', 'squared_hinge'],\n",
    "            \"fit_intercept\"         : [False] # Data should already be normalized\n",
    "        }\n",
    "    },\n",
    "    { \n",
    "        \"model\" : [AdaBoostClassifier()],\n",
    "        \"name\" : \"Ada Boost\",\n",
    "        \"params\" : \n",
    "        {\n",
    "            \"n_estimators\"          : [50],\n",
    "            \"learning_rate\"         : [0.01, 0.1, 0.5]\n",
    "        }\n",
    "    },\n",
    "    { \n",
    "        \"model\" : [lm.SGDClassifier()],\n",
    "        \"name\" : \"Stochastic Gradient Descent\",\n",
    "        \"params\" : \n",
    "        {\n",
    "            \"alpha\"                 : [0.00001, 0.000001],\n",
    "            \"penalty\"               : ['l1', 'l2', 'elasticnet'],\n",
    "            \"l1_ratio\"              : [0.0, 0.2, 0.6, 1.0],\n",
    "            \"fit_intercept\"         : [False]  # Data should already be normalized\n",
    "        }\n",
    "    },\n",
    "    { \n",
    "        \"model\" : [LGBMClassifier()],\n",
    "        \"name\" : \"Gradient Boosted Decision Trees (LGBM)\",\n",
    "        \"params\" : \n",
    "        {\n",
    "            \"boosting\"               : ['gbdt', 'rf', 'dart', 'goss'],\n",
    "            \"max_depth\"              : range (2, 10, 1),\n",
    "            \"learning_rate\"          : [0.1, 0.01, 0.05]\n",
    "        }\n",
    "    },\n",
    "    { \n",
    "        \"model\" : [XGBClassifier()],\n",
    "        \"name\" : \"Extreme Gradient Boosting (XGB)\",\n",
    "        \"params\" : \n",
    "        {\n",
    "            \"max_depth\"              : range (2, 10, 1),\n",
    "            \"n_estimators\"           : range(60, 220, 40),\n",
    "            \"learning_rate\"          : [0.1, 0.01, 0.05]\n",
    "        }\n",
    "    },\n",
    "    { \n",
    "        \"model\" : [MLPClassifier()],\n",
    "        \"name\" : \"Multilayer Perceptron\",\n",
    "        \"params\" : \n",
    "        {\n",
    "            \"alpha\"                  : [0.001, 0.1, 1, 10, 100],\n",
    "            \"activation\"             : ['identity', 'logistic', 'tanh', 'relu'],\n",
    "            \"solver\"                 : ['lbfgs', 'sgd', 'adam'],\n",
    "            \"learning_rate\"          : ['constant', 'invscaling', 'adaptive'],\n",
    "            \"early_stopping\"         : [True] \n",
    "        }\n",
    "    }]"
   ]
  },
  {
   "cell_type": "code",
   "execution_count": 18,
   "metadata": {
    "scrolled": true
   },
   "outputs": [
    {
     "name": "stdout",
     "output_type": "stream",
     "text": [
      "Grid search on Multilayer Perceptron\n",
      "Fitting 5 folds for each of 6 candidates, totalling 30 fits\n"
     ]
    },
    {
     "name": "stderr",
     "output_type": "stream",
     "text": [
      "[Parallel(n_jobs=-1)]: Using backend LokyBackend with 8 concurrent workers.\n",
      "[Parallel(n_jobs=-1)]: Done   9 tasks      | elapsed:   37.4s\n",
      "[Parallel(n_jobs=-1)]: Done  23 out of  30 | elapsed:  1.2min remaining:   21.3s\n",
      "[Parallel(n_jobs=-1)]: Done  30 out of  30 | elapsed:  1.3min finished\n"
     ]
    }
   ],
   "source": [
    "# Grid search for optimal model and parameters\n",
    "\n",
    "\n",
    "# Minimize false positive = maximize precision\n",
    "# Minimize false negative = maximize recall\n",
    "# F-beta is weighted harmonic mean of preicision and recall, so weight ratio recall:precision is 5:1\n",
    "custom_scorer = make_scorer(fbeta_score, beta=5)\n",
    "\n",
    "results=[]\n",
    "\n",
    "for model in models:\n",
    "\n",
    "    # Classifier\n",
    "    clf = model['model'][0]\n",
    "    print(\"Grid search on\", model['name'])\n",
    "\n",
    "    # Grid search many potential models and parameters to find optimal fit and save the boss some $$$\n",
    "    grid = GridSearchCV(clf, param_grid=model['params'], scoring=custom_scorer, cv=5, n_jobs=-1, verbose=4)\n",
    "    grid.fit(X_train, y_train.values.ravel())\n",
    "    \n",
    "    # Get metrics of interest for report\n",
    "    y_pred = grid.predict(X_test)\n",
    "    pre = precision_score(y_test, y_pred)\n",
    "    rec = recall_score(y_test, y_pred)\n",
    "    CM = confusion_matrix(y_test, y_pred)\n",
    "\n",
    "    # Results for later comparison\n",
    "    results.append(\n",
    "        {\n",
    "            'name'       : model['name'],\n",
    "            'grid'       : grid,\n",
    "            'classifier' : grid.best_estimator_,\n",
    "            'best score' : grid.best_score_,\n",
    "            'best params': grid.best_params_,\n",
    "            'precision'  : pre,\n",
    "            'recall'     : rec,\n",
    "            'TN'         : CM[0][0],\n",
    "            'FN'         : CM[1][0],\n",
    "            'TP'         : CM[1][1],\n",
    "            'FP'         : CM[0][1],\n",
    "            'cv'         : grid.cv\n",
    "        })\n",
    "    \n",
    "    # Save model\n",
    "    modelFilename = model['name'] + \".pkl\"\n",
    "    os.chdir(wd)\n",
    "\n",
    "    modelData = results\n",
    "\n",
    "    modelDataFile = open(modelFilename, 'wb')\n",
    "    pickle.dump(modelData, modelDataFile)\n",
    "    modelDataFile.close()\n",
    "\n",
    "# Sort result by best score\n",
    "results = sorted(results, key=lambda x: x['best score'],reverse=True)"
   ]
  },
  {
   "cell_type": "code",
   "execution_count": 68,
   "metadata": {},
   "outputs": [
    {
     "name": "stdout",
     "output_type": "stream",
     "text": [
      "Ada Boost\n",
      "Decision Tree\n",
      "Extreme Gradient Boosting (XGB)\n",
      "Gradient Boosted Decision Trees (LGBM)\n",
      "Logistic Regression\n",
      "Multilayer Perceptron\n",
      "Passive Aggressive\n",
      "Random Forest\n",
      "Ridge Regression\n",
      "Stochastic Gradient Descent\n",
      "Support Vector Machine\n"
     ]
    },
    {
     "data": {
      "text/plain": [
       "[None, None, None, None, None, None, None, None, None, None, None]"
      ]
     },
     "execution_count": 68,
     "metadata": {},
     "output_type": "execute_result"
    }
   ],
   "source": [
    "p =  r\"C:\\Code\\EdwardFryDataScienceChallenge\"\n",
    "os.chdir(p)\n",
    "\n",
    "pick = glob.glob(r\"*.pkl\")\n",
    "\n",
    "results = []\n",
    "for result in pick:\n",
    "    try:\n",
    "        file = open(result, 'rb')\n",
    "        r = pickle.load(file)\n",
    "        file.close()\n",
    "        r[0]['name'] = result[:-4]\n",
    "        results.append(r[0])\n",
    "    except:\n",
    "        pass\n",
    "    \n",
    "[print(r['name']) for r in results]"
   ]
  },
  {
   "cell_type": "code",
   "execution_count": 32,
   "metadata": {},
   "outputs": [
    {
     "data": {
      "image/png": "[encoded data removed]",
      "text/plain": [
       "<Figure size 432x288 with 1 Axes>"
      ]
     },
     "metadata": {
      "needs_background": "light"
     },
     "output_type": "display_data"
    }
   ],
   "source": [
    "# Create a bar chart to illustrate the most important metric according to the business owner - cost\n",
    "\n",
    "cost = []\n",
    "xlabels = []\n",
    "for result in results:\n",
    "    FP = result['FP']\n",
    "    FN = result['FN']\n",
    "    TP = result['TP']\n",
    "    TN = result['TN']\n",
    "    score = result['best score']\n",
    "    loss = (FP + 5*FN)\n",
    "    cost.append((result['name'], loss))\n",
    "    \n",
    "# Plot the results neatly\n",
    "cost.sort(key = lambda x: x[1])\n",
    "xlabels = [x[0] for x in cost]\n",
    "costvals = [x[1] for x in cost]\n",
    "\n",
    "N = len(cost)\n",
    "ind = np.arange(N)    # X locations for the groups\n",
    "\n",
    "p = plt.bar(ind, costvals)\n",
    "\n",
    "plt.ylabel('Loss')\n",
    "plt.title('Estimated Loss by Model')\n",
    "plt.xticks(ind, xlabels, rotation = 90)\n",
    "\n",
    "plt.show()"
   ]
  },
  {
   "cell_type": "code",
   "execution_count": 33,
   "metadata": {},
   "outputs": [
    {
     "name": "stdout",
     "output_type": "stream",
     "text": [
      "Optimal parameters\n",
      "==================\n",
      "Ada Boost\n",
      "\t C : 0.001\n",
      "\t class_weight : balanced\n",
      "\t fit_intercept : False\n",
      "\t loss : squared_hinge\n",
      "\t penalty : l2\n",
      "Decision Tree\n",
      "\t bootstrap : False\n",
      "\t criterion : gini\n",
      "\t max_depth : None\n",
      "\t max_features : sqrt\n",
      "\t max_leaf_nodes : None\n",
      "\t min_impurity_split : 0.1\n",
      "\t n_estimators : 50\n",
      "\t oob_score : False\n",
      "Extreme Gradient Boosting (XGB)\n",
      "\t alpha : 1e-06\n",
      "\t fit_intercept : False\n",
      "\t l1_ratio : 0.0\n",
      "\t penalty : elasticnet\n",
      "Gradient Boosted Decision Trees (LGBM)\n",
      "\t alpha : 1e-06\n",
      "\t fit_intercept : False\n",
      "\t l1_ratio : 0.0\n",
      "\t penalty : elasticnet\n",
      "Logistic Regression\n",
      "\t bootstrap : False\n",
      "\t criterion : gini\n",
      "\t max_depth : None\n",
      "\t max_features : sqrt\n",
      "\t max_leaf_nodes : None\n",
      "\t min_impurity_split : 0.1\n",
      "\t n_estimators : 50\n",
      "\t oob_score : False\n",
      "Multilayer Perceptron\n",
      "\t activation : tanh\n",
      "\t alpha : 1\n",
      "\t early_stopping : True\n",
      "\t learning_rate : adaptive\n",
      "\t solver : adam\n",
      "Passive Aggressive\n",
      "\t bootstrap : False\n",
      "\t criterion : gini\n",
      "\t max_depth : None\n",
      "\t max_features : sqrt\n",
      "\t max_leaf_nodes : None\n",
      "\t min_impurity_split : 0.1\n",
      "\t n_estimators : 50\n",
      "\t oob_score : False\n",
      "Random Forest\n",
      "\t bootstrap : False\n",
      "\t criterion : gini\n",
      "\t max_depth : None\n",
      "\t max_features : sqrt\n",
      "\t max_leaf_nodes : None\n",
      "\t min_impurity_split : 0.1\n",
      "\t n_estimators : 50\n",
      "\t oob_score : False\n",
      "Ridge Regression\n",
      "\t bootstrap : False\n",
      "\t criterion : gini\n",
      "\t max_depth : None\n",
      "\t max_features : sqrt\n",
      "\t max_leaf_nodes : None\n",
      "\t min_impurity_split : 0.1\n",
      "\t n_estimators : 50\n",
      "\t oob_score : False\n",
      "Stochastic Gradient Descent\n",
      "\t alpha : 1e-06\n",
      "\t fit_intercept : False\n",
      "\t l1_ratio : 0.0\n",
      "\t penalty : elasticnet\n",
      "Support Vector Machine\n",
      "\t C : 0.001\n",
      "\t class_weight : balanced\n",
      "\t fit_intercept : False\n",
      "\t loss : squared_hinge\n",
      "\t penalty : l2\n"
     ]
    }
   ],
   "source": [
    "# Print out the final top parameters for each model\n",
    "\n",
    "title = \"Optimal parameters\"\n",
    "print(title)\n",
    "print('='*len(title))\n",
    "\n",
    "for r in results:\n",
    "    print(r['name'])\n",
    "    \n",
    "    for i, (k, v) in enumerate(r['best params'].items()):\n",
    "        print('\\t', k, ':', v)"
   ]
  },
  {
   "cell_type": "code",
   "execution_count": 35,
   "metadata": {},
   "outputs": [
    {
     "data": {
      "application/vnd.plotly.v1+json": {
       "config": {
        "plotlyServerURL": "https://plot.ly"
       },
       "data": [
        {
         "cells": {
          "align": [
           "left",
           "center"
          ],
          "fill": {
           "color": [
            "paleturquoise",
            "white"
           ]
          },
          "font": {
           "size": 12
          },
          "height": 30,
          "line": {
           "color": "darkslategray"
          },
          "values": [
           [
            "Ada Boost",
            "Decision Tree",
            "Logistic Regression",
            "Passive Aggressive",
            "Random Forest",
            "Ridge Regression",
            "Support Vector Machine",
            "Extreme Gradient Boosting (XGB)",
            "Gradient Boosted Decision Trees (LGBM)",
            "Stochastic Gradient Descent",
            "Multilayer Perceptron"
           ],
           [
            "1.0",
            "1.0",
            "1.0",
            "1.0",
            "1.0",
            "1.0",
            "1.0",
            "1.0",
            "1.0",
            "1.0",
            "1.0"
           ],
           [
            "1.0",
            "1.0",
            "1.0",
            "1.0",
            "1.0",
            "1.0",
            "1.0",
            "1.0",
            "1.0",
            "1.0",
            "1.0"
           ],
           [
            "1.0",
            "1.0",
            "1.0",
            "1.0",
            "1.0",
            "1.0",
            "1.0",
            "1.0",
            "1.0",
            "1.0",
            "0.99"
           ],
           [
            "1.0",
            "1.0",
            "1.0",
            "1.0",
            "1.0",
            "1.0",
            "1.0",
            "1.0",
            "1.0",
            "1.0",
            "1.0"
           ],
           [
            "1330",
            "1330",
            "1330",
            "1330",
            "1330",
            "1330",
            "1330",
            "1330",
            "1330",
            "1330",
            "1327"
           ],
           [
            "1470",
            "1470",
            "1470",
            "1470",
            "1470",
            "1470",
            "1470",
            "1469",
            "1469",
            "1469",
            "1463"
           ],
           [
            "0",
            "0",
            "0",
            "0",
            "0",
            "0",
            "0",
            "1",
            "1",
            "1",
            "7"
           ],
           [
            "0",
            "0",
            "0",
            "0",
            "0",
            "0",
            "0",
            "0",
            "0",
            "0",
            "3"
           ],
           [
            "0",
            "0",
            "0",
            "0",
            "0",
            "0",
            "0",
            "1",
            "1",
            "1",
            "22"
           ]
          ]
         },
         "header": {
          "align": [
           "left",
           "center"
          ],
          "fill": {
           "color": "royalblue"
          },
          "font": {
           "color": "white",
           "size": 12
          },
          "height": 40,
          "line": {
           "color": "darkslategray"
          },
          "values": [
           [
            "Method"
           ],
           [
            "f-beta"
           ],
           [
            "Accuracy"
           ],
           [
            "Precision"
           ],
           [
            "Recall"
           ],
           [
            "True Positive"
           ],
           [
            "True Negative"
           ],
           [
            "False Positive"
           ],
           [
            "False Negative"
           ],
           [
            "Cost($)"
           ]
          ]
         },
         "type": "table"
        }
       ],
       "layout": {
        "template": {
         "data": {
          "bar": [
           {
            "error_x": {
             "color": "#2a3f5f"
            },
            "error_y": {
             "color": "#2a3f5f"
            },
            "marker": {
             "line": {
              "color": "#E5ECF6",
              "width": 0.5
             }
            },
            "type": "bar"
           }
          ],
          "barpolar": [
           {
            "marker": {
             "line": {
              "color": "#E5ECF6",
              "width": 0.5
             }
            },
            "type": "barpolar"
           }
          ],
          "carpet": [
           {
            "aaxis": {
             "endlinecolor": "#2a3f5f",
             "gridcolor": "white",
             "linecolor": "white",
             "minorgridcolor": "white",
             "startlinecolor": "#2a3f5f"
            },
            "baxis": {
             "endlinecolor": "#2a3f5f",
             "gridcolor": "white",
             "linecolor": "white",
             "minorgridcolor": "white",
             "startlinecolor": "#2a3f5f"
            },
            "type": "carpet"
           }
          ],
          "choropleth": [
           {
            "colorbar": {
             "outlinewidth": 0,
             "ticks": ""
            },
            "type": "choropleth"
           }
          ],
          "contour": [
           {
            "colorbar": {
             "outlinewidth": 0,
             "ticks": ""
            },
            "colorscale": [
             [
              0,
              "#0d0887"
             ],
             [
              0.1111111111111111,
              "#46039f"
             ],
             [
              0.2222222222222222,
              "#7201a8"
             ],
             [
              0.3333333333333333,
              "#9c179e"
             ],
             [
              0.4444444444444444,
              "#bd3786"
             ],
             [
              0.5555555555555556,
              "#d8576b"
             ],
             [
              0.6666666666666666,
              "#ed7953"
             ],
             [
              0.7777777777777778,
              "#fb9f3a"
             ],
             [
              0.8888888888888888,
              "#fdca26"
             ],
             [
              1,
              "#f0f921"
             ]
            ],
            "type": "contour"
           }
          ],
          "contourcarpet": [
           {
            "colorbar": {
             "outlinewidth": 0,
             "ticks": ""
            },
            "type": "contourcarpet"
           }
          ],
          "heatmap": [
           {
            "colorbar": {
             "outlinewidth": 0,
             "ticks": ""
            },
            "colorscale": [
             [
              0,
              "#0d0887"
             ],
             [
              0.1111111111111111,
              "#46039f"
             ],
             [
              0.2222222222222222,
              "#7201a8"
             ],
             [
              0.3333333333333333,
              "#9c179e"
             ],
             [
              0.4444444444444444,
              "#bd3786"
             ],
             [
              0.5555555555555556,
              "#d8576b"
             ],
             [
              0.6666666666666666,
              "#ed7953"
             ],
             [
              0.7777777777777778,
              "#fb9f3a"
             ],
             [
              0.8888888888888888,
              "#fdca26"
             ],
             [
              1,
              "#f0f921"
             ]
            ],
            "type": "heatmap"
           }
          ],
          "heatmapgl": [
           {
            "colorbar": {
             "outlinewidth": 0,
             "ticks": ""
            },
            "colorscale": [
             [
              0,
              "#0d0887"
             ],
             [
              0.1111111111111111,
              "#46039f"
             ],
             [
              0.2222222222222222,
              "#7201a8"
             ],
             [
              0.3333333333333333,
              "#9c179e"
             ],
             [
              0.4444444444444444,
              "#bd3786"
             ],
             [
              0.5555555555555556,
              "#d8576b"
             ],
             [
              0.6666666666666666,
              "#ed7953"
             ],
             [
              0.7777777777777778,
              "#fb9f3a"
             ],
             [
              0.8888888888888888,
              "#fdca26"
             ],
             [
              1,
              "#f0f921"
             ]
            ],
            "type": "heatmapgl"
           }
          ],
          "histogram": [
           {
            "marker": {
             "colorbar": {
              "outlinewidth": 0,
              "ticks": ""
             }
            },
            "type": "histogram"
           }
          ],
          "histogram2d": [
           {
            "colorbar": {
             "outlinewidth": 0,
             "ticks": ""
            },
            "colorscale": [
             [
              0,
              "#0d0887"
             ],
             [
              0.1111111111111111,
              "#46039f"
             ],
             [
              0.2222222222222222,
              "#7201a8"
             ],
             [
              0.3333333333333333,
              "#9c179e"
             ],
             [
              0.4444444444444444,
              "#bd3786"
             ],
             [
              0.5555555555555556,
              "#d8576b"
             ],
             [
              0.6666666666666666,
              "#ed7953"
             ],
             [
              0.7777777777777778,
              "#fb9f3a"
             ],
             [
              0.8888888888888888,
              "#fdca26"
             ],
             [
              1,
              "#f0f921"
             ]
            ],
            "type": "histogram2d"
           }
          ],
          "histogram2dcontour": [
           {
            "colorbar": {
             "outlinewidth": 0,
             "ticks": ""
            },
            "colorscale": [
             [
              0,
              "#0d0887"
             ],
             [
              0.1111111111111111,
              "#46039f"
             ],
             [
              0.2222222222222222,
              "#7201a8"
             ],
             [
              0.3333333333333333,
              "#9c179e"
             ],
             [
              0.4444444444444444,
              "#bd3786"
             ],
             [
              0.5555555555555556,
              "#d8576b"
             ],
             [
              0.6666666666666666,
              "#ed7953"
             ],
             [
              0.7777777777777778,
              "#fb9f3a"
             ],
             [
              0.8888888888888888,
              "#fdca26"
             ],
             [
              1,
              "#f0f921"
             ]
            ],
            "type": "histogram2dcontour"
           }
          ],
          "mesh3d": [
           {
            "colorbar": {
             "outlinewidth": 0,
             "ticks": ""
            },
            "type": "mesh3d"
           }
          ],
          "parcoords": [
           {
            "line": {
             "colorbar": {
              "outlinewidth": 0,
              "ticks": ""
             }
            },
            "type": "parcoords"
           }
          ],
          "pie": [
           {
            "automargin": true,
            "type": "pie"
           }
          ],
          "scatter": [
           {
            "marker": {
             "colorbar": {
              "outlinewidth": 0,
              "ticks": ""
             }
            },
            "type": "scatter"
           }
          ],
          "scatter3d": [
           {
            "line": {
             "colorbar": {
              "outlinewidth": 0,
              "ticks": ""
             }
            },
            "marker": {
             "colorbar": {
              "outlinewidth": 0,
              "ticks": ""
             }
            },
            "type": "scatter3d"
           }
          ],
          "scattercarpet": [
           {
            "marker": {
             "colorbar": {
              "outlinewidth": 0,
              "ticks": ""
             }
            },
            "type": "scattercarpet"
           }
          ],
          "scattergeo": [
           {
            "marker": {
             "colorbar": {
              "outlinewidth": 0,
              "ticks": ""
             }
            },
            "type": "scattergeo"
           }
          ],
          "scattergl": [
           {
            "marker": {
             "colorbar": {
              "outlinewidth": 0,
              "ticks": ""
             }
            },
            "type": "scattergl"
           }
          ],
          "scattermapbox": [
           {
            "marker": {
             "colorbar": {
              "outlinewidth": 0,
              "ticks": ""
             }
            },
            "type": "scattermapbox"
           }
          ],
          "scatterpolar": [
           {
            "marker": {
             "colorbar": {
              "outlinewidth": 0,
              "ticks": ""
             }
            },
            "type": "scatterpolar"
           }
          ],
          "scatterpolargl": [
           {
            "marker": {
             "colorbar": {
              "outlinewidth": 0,
              "ticks": ""
             }
            },
            "type": "scatterpolargl"
           }
          ],
          "scatterternary": [
           {
            "marker": {
             "colorbar": {
              "outlinewidth": 0,
              "ticks": ""
             }
            },
            "type": "scatterternary"
           }
          ],
          "surface": [
           {
            "colorbar": {
             "outlinewidth": 0,
             "ticks": ""
            },
            "colorscale": [
             [
              0,
              "#0d0887"
             ],
             [
              0.1111111111111111,
              "#46039f"
             ],
             [
              0.2222222222222222,
              "#7201a8"
             ],
             [
              0.3333333333333333,
              "#9c179e"
             ],
             [
              0.4444444444444444,
              "#bd3786"
             ],
             [
              0.5555555555555556,
              "#d8576b"
             ],
             [
              0.6666666666666666,
              "#ed7953"
             ],
             [
              0.7777777777777778,
              "#fb9f3a"
             ],
             [
              0.8888888888888888,
              "#fdca26"
             ],
             [
              1,
              "#f0f921"
             ]
            ],
            "type": "surface"
           }
          ],
          "table": [
           {
            "cells": {
             "fill": {
              "color": "#EBF0F8"
             },
             "line": {
              "color": "white"
             }
            },
            "header": {
             "fill": {
              "color": "#C8D4E3"
             },
             "line": {
              "color": "white"
             }
            },
            "type": "table"
           }
          ]
         },
         "layout": {
          "annotationdefaults": {
           "arrowcolor": "#2a3f5f",
           "arrowhead": 0,
           "arrowwidth": 1
          },
          "autotypenumbers": "strict",
          "coloraxis": {
           "colorbar": {
            "outlinewidth": 0,
            "ticks": ""
           }
          },
          "colorscale": {
           "diverging": [
            [
             0,
             "#8e0152"
            ],
            [
             0.1,
             "#c51b7d"
            ],
            [
             0.2,
             "#de77ae"
            ],
            [
             0.3,
             "#f1b6da"
            ],
            [
             0.4,
             "#fde0ef"
            ],
            [
             0.5,
             "#f7f7f7"
            ],
            [
             0.6,
             "#e6f5d0"
            ],
            [
             0.7,
             "#b8e186"
            ],
            [
             0.8,
             "#7fbc41"
            ],
            [
             0.9,
             "#4d9221"
            ],
            [
             1,
             "#276419"
            ]
           ],
           "sequential": [
            [
             0,
             "#0d0887"
            ],
            [
             0.1111111111111111,
             "#46039f"
            ],
            [
             0.2222222222222222,
             "#7201a8"
            ],
            [
             0.3333333333333333,
             "#9c179e"
            ],
            [
             0.4444444444444444,
             "#bd3786"
            ],
            [
             0.5555555555555556,
             "#d8576b"
            ],
            [
             0.6666666666666666,
             "#ed7953"
            ],
            [
             0.7777777777777778,
             "#fb9f3a"
            ],
            [
             0.8888888888888888,
             "#fdca26"
            ],
            [
             1,
             "#f0f921"
            ]
           ],
           "sequentialminus": [
            [
             0,
             "#0d0887"
            ],
            [
             0.1111111111111111,
             "#46039f"
            ],
            [
             0.2222222222222222,
             "#7201a8"
            ],
            [
             0.3333333333333333,
             "#9c179e"
            ],
            [
             0.4444444444444444,
             "#bd3786"
            ],
            [
             0.5555555555555556,
             "#d8576b"
            ],
            [
             0.6666666666666666,
             "#ed7953"
            ],
            [
             0.7777777777777778,
             "#fb9f3a"
            ],
            [
             0.8888888888888888,
             "#fdca26"
            ],
            [
             1,
             "#f0f921"
            ]
           ]
          },
          "colorway": [
           "#636efa",
           "#EF553B",
           "#00cc96",
           "#ab63fa",
           "#FFA15A",
           "#19d3f3",
           "#FF6692",
           "#B6E880",
           "#FF97FF",
           "#FECB52"
          ],
          "font": {
           "color": "#2a3f5f"
          },
          "geo": {
           "bgcolor": "white",
           "lakecolor": "white",
           "landcolor": "#E5ECF6",
           "showlakes": true,
           "showland": true,
           "subunitcolor": "white"
          },
          "hoverlabel": {
           "align": "left"
          },
          "hovermode": "closest",
          "mapbox": {
           "style": "light"
          },
          "paper_bgcolor": "white",
          "plot_bgcolor": "#E5ECF6",
          "polar": {
           "angularaxis": {
            "gridcolor": "white",
            "linecolor": "white",
            "ticks": ""
           },
           "bgcolor": "#E5ECF6",
           "radialaxis": {
            "gridcolor": "white",
            "linecolor": "white",
            "ticks": ""
           }
          },
          "scene": {
           "xaxis": {
            "backgroundcolor": "#E5ECF6",
            "gridcolor": "white",
            "gridwidth": 2,
            "linecolor": "white",
            "showbackground": true,
            "ticks": "",
            "zerolinecolor": "white"
           },
           "yaxis": {
            "backgroundcolor": "#E5ECF6",
            "gridcolor": "white",
            "gridwidth": 2,
            "linecolor": "white",
            "showbackground": true,
            "ticks": "",
            "zerolinecolor": "white"
           },
           "zaxis": {
            "backgroundcolor": "#E5ECF6",
            "gridcolor": "white",
            "gridwidth": 2,
            "linecolor": "white",
            "showbackground": true,
            "ticks": "",
            "zerolinecolor": "white"
           }
          },
          "shapedefaults": {
           "line": {
            "color": "#2a3f5f"
           }
          },
          "ternary": {
           "aaxis": {
            "gridcolor": "white",
            "linecolor": "white",
            "ticks": ""
           },
           "baxis": {
            "gridcolor": "white",
            "linecolor": "white",
            "ticks": ""
           },
           "bgcolor": "#E5ECF6",
           "caxis": {
            "gridcolor": "white",
            "linecolor": "white",
            "ticks": ""
           }
          },
          "title": {
           "x": 0.05
          },
          "xaxis": {
           "automargin": true,
           "gridcolor": "white",
           "linecolor": "white",
           "ticks": "",
           "title": {
            "standoff": 15
           },
           "zerolinecolor": "white",
           "zerolinewidth": 2
          },
          "yaxis": {
           "automargin": true,
           "gridcolor": "white",
           "linecolor": "white",
           "ticks": "",
           "title": {
            "standoff": 15
           },
           "zerolinecolor": "white",
           "zerolinewidth": 2
          }
         }
        },
        "title": {
         "text": "Model Performance by Loss",
         "x": 0.5,
         "xanchor": "center",
         "y": 0.9,
         "yanchor": "top"
        }
       }
      },
      "text/html": [
       "<div>                            <div id=\"cf4152e3-58d1-4aec-82e8-06d4649adfc0\" class=\"plotly-graph-div\" style=\"height:525px; width:100%;\"></div>            <script type=\"text/javascript\">                require([\"plotly\"], function(Plotly) {                    window.PLOTLYENV=window.PLOTLYENV || {};                                    if (document.getElementById(\"cf4152e3-58d1-4aec-82e8-06d4649adfc0\")) {                    Plotly.newPlot(                        \"cf4152e3-58d1-4aec-82e8-06d4649adfc0\",                        [{\"cells\": {\"align\": [\"left\", \"center\"], \"fill\": {\"color\": [\"paleturquoise\", \"white\"]}, \"font\": {\"size\": 12}, \"height\": 30, \"line\": {\"color\": \"darkslategray\"}, \"values\": [[\"Ada Boost\", \"Decision Tree\", \"Logistic Regression\", \"Passive Aggressive\", \"Random Forest\", \"Ridge Regression\", \"Support Vector Machine\", \"Extreme Gradient Boosting (XGB)\", \"Gradient Boosted Decision Trees (LGBM)\", \"Stochastic Gradient Descent\", \"Multilayer Perceptron\"], [\"1.0\", \"1.0\", \"1.0\", \"1.0\", \"1.0\", \"1.0\", \"1.0\", \"1.0\", \"1.0\", \"1.0\", \"1.0\"], [\"1.0\", \"1.0\", \"1.0\", \"1.0\", \"1.0\", \"1.0\", \"1.0\", \"1.0\", \"1.0\", \"1.0\", \"1.0\"], [\"1.0\", \"1.0\", \"1.0\", \"1.0\", \"1.0\", \"1.0\", \"1.0\", \"1.0\", \"1.0\", \"1.0\", \"0.99\"], [\"1.0\", \"1.0\", \"1.0\", \"1.0\", \"1.0\", \"1.0\", \"1.0\", \"1.0\", \"1.0\", \"1.0\", \"1.0\"], [\"1330\", \"1330\", \"1330\", \"1330\", \"1330\", \"1330\", \"1330\", \"1330\", \"1330\", \"1330\", \"1327\"], [\"1470\", \"1470\", \"1470\", \"1470\", \"1470\", \"1470\", \"1470\", \"1469\", \"1469\", \"1469\", \"1463\"], [\"0\", \"0\", \"0\", \"0\", \"0\", \"0\", \"0\", \"1\", \"1\", \"1\", \"7\"], [\"0\", \"0\", \"0\", \"0\", \"0\", \"0\", \"0\", \"0\", \"0\", \"0\", \"3\"], [\"0\", \"0\", \"0\", \"0\", \"0\", \"0\", \"0\", \"1\", \"1\", \"1\", \"22\"]]}, \"header\": {\"align\": [\"left\", \"center\"], \"fill\": {\"color\": \"royalblue\"}, \"font\": {\"color\": \"white\", \"size\": 12}, \"height\": 40, \"line\": {\"color\": \"darkslategray\"}, \"values\": [[\"Method\"], [\"f-beta\"], [\"Accuracy\"], [\"Precision\"], [\"Recall\"], [\"True Positive\"], [\"True Negative\"], [\"False Positive\"], [\"False Negative\"], [\"Cost($)\"]]}, \"type\": \"table\"}],                        {\"template\": {\"data\": {\"bar\": [{\"error_x\": {\"color\": \"#2a3f5f\"}, \"error_y\": {\"color\": \"#2a3f5f\"}, \"marker\": {\"line\": {\"color\": \"#E5ECF6\", \"width\": 0.5}}, \"type\": \"bar\"}], \"barpolar\": [{\"marker\": {\"line\": {\"color\": \"#E5ECF6\", \"width\": 0.5}}, \"type\": \"barpolar\"}], \"carpet\": [{\"aaxis\": {\"endlinecolor\": \"#2a3f5f\", \"gridcolor\": \"white\", \"linecolor\": \"white\", \"minorgridcolor\": \"white\", \"startlinecolor\": \"#2a3f5f\"}, \"baxis\": {\"endlinecolor\": \"#2a3f5f\", \"gridcolor\": \"white\", \"linecolor\": \"white\", \"minorgridcolor\": \"white\", \"startlinecolor\": \"#2a3f5f\"}, \"type\": \"carpet\"}], \"choropleth\": [{\"colorbar\": {\"outlinewidth\": 0, \"ticks\": \"\"}, \"type\": \"choropleth\"}], \"contour\": [{\"colorbar\": {\"outlinewidth\": 0, \"ticks\": \"\"}, \"colorscale\": [[0.0, \"#0d0887\"], [0.1111111111111111, \"#46039f\"], [0.2222222222222222, \"#7201a8\"], [0.3333333333333333, \"#9c179e\"], [0.4444444444444444, \"#bd3786\"], [0.5555555555555556, \"#d8576b\"], [0.6666666666666666, \"#ed7953\"], [0.7777777777777778, \"#fb9f3a\"], [0.8888888888888888, \"#fdca26\"], [1.0, \"#f0f921\"]], \"type\": \"contour\"}], \"contourcarpet\": [{\"colorbar\": {\"outlinewidth\": 0, \"ticks\": \"\"}, \"type\": \"contourcarpet\"}], \"heatmap\": [{\"colorbar\": {\"outlinewidth\": 0, \"ticks\": \"\"}, \"colorscale\": [[0.0, \"#0d0887\"], [0.1111111111111111, \"#46039f\"], [0.2222222222222222, \"#7201a8\"], [0.3333333333333333, \"#9c179e\"], [0.4444444444444444, \"#bd3786\"], [0.5555555555555556, \"#d8576b\"], [0.6666666666666666, \"#ed7953\"], [0.7777777777777778, \"#fb9f3a\"], [0.8888888888888888, \"#fdca26\"], [1.0, \"#f0f921\"]], \"type\": \"heatmap\"}], \"heatmapgl\": [{\"colorbar\": {\"outlinewidth\": 0, \"ticks\": \"\"}, \"colorscale\": [[0.0, \"#0d0887\"], [0.1111111111111111, \"#46039f\"], [0.2222222222222222, \"#7201a8\"], [0.3333333333333333, \"#9c179e\"], [0.4444444444444444, \"#bd3786\"], [0.5555555555555556, \"#d8576b\"], [0.6666666666666666, \"#ed7953\"], [0.7777777777777778, \"#fb9f3a\"], [0.8888888888888888, \"#fdca26\"], [1.0, \"#f0f921\"]], \"type\": \"heatmapgl\"}], \"histogram\": [{\"marker\": {\"colorbar\": {\"outlinewidth\": 0, \"ticks\": \"\"}}, \"type\": \"histogram\"}], \"histogram2d\": [{\"colorbar\": {\"outlinewidth\": 0, \"ticks\": \"\"}, \"colorscale\": [[0.0, \"#0d0887\"], [0.1111111111111111, \"#46039f\"], [0.2222222222222222, \"#7201a8\"], [0.3333333333333333, \"#9c179e\"], [0.4444444444444444, \"#bd3786\"], [0.5555555555555556, \"#d8576b\"], [0.6666666666666666, \"#ed7953\"], [0.7777777777777778, \"#fb9f3a\"], [0.8888888888888888, \"#fdca26\"], [1.0, \"#f0f921\"]], \"type\": \"histogram2d\"}], \"histogram2dcontour\": [{\"colorbar\": {\"outlinewidth\": 0, \"ticks\": \"\"}, \"colorscale\": [[0.0, \"#0d0887\"], [0.1111111111111111, \"#46039f\"], [0.2222222222222222, \"#7201a8\"], [0.3333333333333333, \"#9c179e\"], [0.4444444444444444, \"#bd3786\"], [0.5555555555555556, \"#d8576b\"], [0.6666666666666666, \"#ed7953\"], [0.7777777777777778, \"#fb9f3a\"], [0.8888888888888888, \"#fdca26\"], [1.0, \"#f0f921\"]], \"type\": \"histogram2dcontour\"}], \"mesh3d\": [{\"colorbar\": {\"outlinewidth\": 0, \"ticks\": \"\"}, \"type\": \"mesh3d\"}], \"parcoords\": [{\"line\": {\"colorbar\": {\"outlinewidth\": 0, \"ticks\": \"\"}}, \"type\": \"parcoords\"}], \"pie\": [{\"automargin\": true, \"type\": \"pie\"}], \"scatter\": [{\"marker\": {\"colorbar\": {\"outlinewidth\": 0, \"ticks\": \"\"}}, \"type\": \"scatter\"}], \"scatter3d\": [{\"line\": {\"colorbar\": {\"outlinewidth\": 0, \"ticks\": \"\"}}, \"marker\": {\"colorbar\": {\"outlinewidth\": 0, \"ticks\": \"\"}}, \"type\": \"scatter3d\"}], \"scattercarpet\": [{\"marker\": {\"colorbar\": {\"outlinewidth\": 0, \"ticks\": \"\"}}, \"type\": \"scattercarpet\"}], \"scattergeo\": [{\"marker\": {\"colorbar\": {\"outlinewidth\": 0, \"ticks\": \"\"}}, \"type\": \"scattergeo\"}], \"scattergl\": [{\"marker\": {\"colorbar\": {\"outlinewidth\": 0, \"ticks\": \"\"}}, \"type\": \"scattergl\"}], \"scattermapbox\": [{\"marker\": {\"colorbar\": {\"outlinewidth\": 0, \"ticks\": \"\"}}, \"type\": \"scattermapbox\"}], \"scatterpolar\": [{\"marker\": {\"colorbar\": {\"outlinewidth\": 0, \"ticks\": \"\"}}, \"type\": \"scatterpolar\"}], \"scatterpolargl\": [{\"marker\": {\"colorbar\": {\"outlinewidth\": 0, \"ticks\": \"\"}}, \"type\": \"scatterpolargl\"}], \"scatterternary\": [{\"marker\": {\"colorbar\": {\"outlinewidth\": 0, \"ticks\": \"\"}}, \"type\": \"scatterternary\"}], \"surface\": [{\"colorbar\": {\"outlinewidth\": 0, \"ticks\": \"\"}, \"colorscale\": [[0.0, \"#0d0887\"], [0.1111111111111111, \"#46039f\"], [0.2222222222222222, \"#7201a8\"], [0.3333333333333333, \"#9c179e\"], [0.4444444444444444, \"#bd3786\"], [0.5555555555555556, \"#d8576b\"], [0.6666666666666666, \"#ed7953\"], [0.7777777777777778, \"#fb9f3a\"], [0.8888888888888888, \"#fdca26\"], [1.0, \"#f0f921\"]], \"type\": \"surface\"}], \"table\": [{\"cells\": {\"fill\": {\"color\": \"#EBF0F8\"}, \"line\": {\"color\": \"white\"}}, \"header\": {\"fill\": {\"color\": \"#C8D4E3\"}, \"line\": {\"color\": \"white\"}}, \"type\": \"table\"}]}, \"layout\": {\"annotationdefaults\": {\"arrowcolor\": \"#2a3f5f\", \"arrowhead\": 0, \"arrowwidth\": 1}, \"autotypenumbers\": \"strict\", \"coloraxis\": {\"colorbar\": {\"outlinewidth\": 0, \"ticks\": \"\"}}, \"colorscale\": {\"diverging\": [[0, \"#8e0152\"], [0.1, \"#c51b7d\"], [0.2, \"#de77ae\"], [0.3, \"#f1b6da\"], [0.4, \"#fde0ef\"], [0.5, \"#f7f7f7\"], [0.6, \"#e6f5d0\"], [0.7, \"#b8e186\"], [0.8, \"#7fbc41\"], [0.9, \"#4d9221\"], [1, \"#276419\"]], \"sequential\": [[0.0, \"#0d0887\"], [0.1111111111111111, \"#46039f\"], [0.2222222222222222, \"#7201a8\"], [0.3333333333333333, \"#9c179e\"], [0.4444444444444444, \"#bd3786\"], [0.5555555555555556, \"#d8576b\"], [0.6666666666666666, \"#ed7953\"], [0.7777777777777778, \"#fb9f3a\"], [0.8888888888888888, \"#fdca26\"], [1.0, \"#f0f921\"]], \"sequentialminus\": [[0.0, \"#0d0887\"], [0.1111111111111111, \"#46039f\"], [0.2222222222222222, \"#7201a8\"], [0.3333333333333333, \"#9c179e\"], [0.4444444444444444, \"#bd3786\"], [0.5555555555555556, \"#d8576b\"], [0.6666666666666666, \"#ed7953\"], [0.7777777777777778, \"#fb9f3a\"], [0.8888888888888888, \"#fdca26\"], [1.0, \"#f0f921\"]]}, \"colorway\": [\"#636efa\", \"#EF553B\", \"#00cc96\", \"#ab63fa\", \"#FFA15A\", \"#19d3f3\", \"#FF6692\", \"#B6E880\", \"#FF97FF\", \"#FECB52\"], \"font\": {\"color\": \"#2a3f5f\"}, \"geo\": {\"bgcolor\": \"white\", \"lakecolor\": \"white\", \"landcolor\": \"#E5ECF6\", \"showlakes\": true, \"showland\": true, \"subunitcolor\": \"white\"}, \"hoverlabel\": {\"align\": \"left\"}, \"hovermode\": \"closest\", \"mapbox\": {\"style\": \"light\"}, \"paper_bgcolor\": \"white\", \"plot_bgcolor\": \"#E5ECF6\", \"polar\": {\"angularaxis\": {\"gridcolor\": \"white\", \"linecolor\": \"white\", \"ticks\": \"\"}, \"bgcolor\": \"#E5ECF6\", \"radialaxis\": {\"gridcolor\": \"white\", \"linecolor\": \"white\", \"ticks\": \"\"}}, \"scene\": {\"xaxis\": {\"backgroundcolor\": \"#E5ECF6\", \"gridcolor\": \"white\", \"gridwidth\": 2, \"linecolor\": \"white\", \"showbackground\": true, \"ticks\": \"\", \"zerolinecolor\": \"white\"}, \"yaxis\": {\"backgroundcolor\": \"#E5ECF6\", \"gridcolor\": \"white\", \"gridwidth\": 2, \"linecolor\": \"white\", \"showbackground\": true, \"ticks\": \"\", \"zerolinecolor\": \"white\"}, \"zaxis\": {\"backgroundcolor\": \"#E5ECF6\", \"gridcolor\": \"white\", \"gridwidth\": 2, \"linecolor\": \"white\", \"showbackground\": true, \"ticks\": \"\", \"zerolinecolor\": \"white\"}}, \"shapedefaults\": {\"line\": {\"color\": \"#2a3f5f\"}}, \"ternary\": {\"aaxis\": {\"gridcolor\": \"white\", \"linecolor\": \"white\", \"ticks\": \"\"}, \"baxis\": {\"gridcolor\": \"white\", \"linecolor\": \"white\", \"ticks\": \"\"}, \"bgcolor\": \"#E5ECF6\", \"caxis\": {\"gridcolor\": \"white\", \"linecolor\": \"white\", \"ticks\": \"\"}}, \"title\": {\"x\": 0.05}, \"xaxis\": {\"automargin\": true, \"gridcolor\": \"white\", \"linecolor\": \"white\", \"ticks\": \"\", \"title\": {\"standoff\": 15}, \"zerolinecolor\": \"white\", \"zerolinewidth\": 2}, \"yaxis\": {\"automargin\": true, \"gridcolor\": \"white\", \"linecolor\": \"white\", \"ticks\": \"\", \"title\": {\"standoff\": 15}, \"zerolinecolor\": \"white\", \"zerolinewidth\": 2}}}, \"title\": {\"text\": \"Model Performance by Loss\", \"x\": 0.5, \"xanchor\": \"center\", \"y\": 0.9, \"yanchor\": \"top\"}},                        {\"responsive\": true}                    ).then(function(){\n",
       "                            \n",
       "var gd = document.getElementById('cf4152e3-58d1-4aec-82e8-06d4649adfc0');\n",
       "var x = new MutationObserver(function (mutations, observer) {{\n",
       "        var display = window.getComputedStyle(gd).display;\n",
       "        if (!display || display === 'none') {{\n",
       "            console.log([gd, 'removed!']);\n",
       "            Plotly.purge(gd);\n",
       "            observer.disconnect();\n",
       "        }}\n",
       "}});\n",
       "\n",
       "// Listen for the removal of the full notebook cells\n",
       "var notebookContainer = gd.closest('#notebook-container');\n",
       "if (notebookContainer) {{\n",
       "    x.observe(notebookContainer, {childList: true});\n",
       "}}\n",
       "\n",
       "// Listen for the clearing of the current output cell\n",
       "var outputEl = gd.closest('.output');\n",
       "if (outputEl) {{\n",
       "    x.observe(outputEl, {childList: true});\n",
       "}}\n",
       "\n",
       "                        })                };                });            </script>        </div>"
      ]
     },
     "metadata": {},
     "output_type": "display_data"
    }
   ],
   "source": [
    "# Display a neatly formatted table with metrics of interest, sorted from best to worst, for easy comparison\n",
    "\n",
    "tableHeaders = [['Method'],\n",
    "                ['f-beta'],\n",
    "                ['Accuracy'],\n",
    "                ['Precision'],\n",
    "                ['Recall'],\n",
    "                ['True Positive'],\n",
    "                ['True Negative'],\n",
    "                ['False Positive'],\n",
    "                ['False Negative'],\n",
    "                ['Cost($)']]\n",
    "tableValues = [[r['name'] for r in results],\n",
    "               [round(r['best score'], 2) for r in results],\n",
    "               [round((r['TP'] + r['TN'])/(r['TP'] + r['TN'] + r['FP'] + r['FN']), 2) for r in results],\n",
    "               [round(r['precision'], 2) for r in results],\n",
    "               [round(r['recall'], 2) for r in results],\n",
    "               [r['TP'] for r in results],\n",
    "               [r['TN'] for r in results],\n",
    "               [r['FP'] for r in results],\n",
    "               [r['FN'] for r in results],\n",
    "               [int(r['FP'] + 5*r['FN']) for r in results]]\n",
    "\n",
    "# Need to sort by cost because that's what's important to the business owner\n",
    "tv = np.transpose(tableValues)  # Transpose to rows for sort\n",
    "tv = sorted(tv, key = lambda x: x[-1])   # Sort by last column\n",
    "tableValues = np.transpose(tv)  # Transpose back to columns for table display\n",
    "\n",
    "fig = go.Figure(data=[go.Table(\n",
    "  header = dict(\n",
    "    values = tableHeaders,\n",
    "    line_color='darkslategray',\n",
    "    fill_color='royalblue',\n",
    "    align=['left','center'],\n",
    "    font=dict(color='white', size=12),\n",
    "    height=40\n",
    "  ),\n",
    "  cells=dict(\n",
    "    values=tableValues,\n",
    "    line_color='darkslategray',\n",
    "    fill=dict(color=['paleturquoise', 'white']),\n",
    "    align=['left', 'center'],\n",
    "    font_size=12,\n",
    "    height=30)\n",
    "    )\n",
    "])\n",
    "\n",
    "fig.update_layout(title = {\n",
    "        'text': \"Model Performance by Loss\",\n",
    "        'y':0.9,\n",
    "        'x':0.5,\n",
    "        'xanchor': 'center',\n",
    "        'yanchor': 'top'})\n",
    "\n",
    "fig.show()\n",
    "\n",
    "# Save the table for inclusion in the report\n",
    "os.chdir(wd)\n",
    "fig.write_html(r\"ModelPerfTable.html\")"
   ]
  },
  {
   "cell_type": "code",
   "execution_count": 36,
   "metadata": {},
   "outputs": [
    {
     "data": {
      "image/png": "[encoded data removed]",
      "text/plain": [
       "<Figure size 432x288 with 1 Axes>"
      ]
     },
     "metadata": {
      "needs_background": "light"
     },
     "output_type": "display_data"
    }
   ],
   "source": [
    "# Plot the relative scores of each model against each other for comparison\n",
    "\n",
    "x = np.arange(4)\n",
    "xlabels = [['f-beta'],\n",
    "           ['Accuracy'],\n",
    "           ['Precision'],\n",
    "           ['Recall']]\n",
    " \n",
    "fig=plt.figure()\n",
    "ax=fig.add_subplot(111)\n",
    " \n",
    "tv = np.transpose(tableValues)\n",
    "\n",
    "for v in tv:\n",
    "    ax.plot(x, [v[1], v[2], v[3], v[4]], label = v[0])\n",
    "\n",
    "plt.xticks(x, [l[0] for l in xlabels], rotation = 45)\n",
    "plt.ylabel('Relative Score')\n",
    "axes = plt.gca()\n",
    "ax.yaxis.set_major_locator(plt.NullLocator())\n",
    "plt.gca().invert_yaxis()\n",
    "plt.title('Score Comparisons for Leading Models')\n",
    "plt.legend(loc='center left', bbox_to_anchor=(1.0, 0.5))\n",
    "plt.show()"
   ]
  },
  {
   "cell_type": "code",
   "execution_count": 71,
   "metadata": {},
   "outputs": [
    {
     "name": "stdout",
     "output_type": "stream",
     "text": [
      "Training on Ada Boost\n",
      "Fitting 5 folds for each of 1 candidates, totalling 5 fits\n"
     ]
    },
    {
     "name": "stderr",
     "output_type": "stream",
     "text": [
      "[Parallel(n_jobs=-1)]: Using backend LokyBackend with 8 concurrent workers.\n",
      "[Parallel(n_jobs=-1)]: Done   2 out of   5 | elapsed:    6.3s remaining:    9.5s\n",
      "[Parallel(n_jobs=-1)]: Done   5 out of   5 | elapsed:    6.3s finished\n"
     ]
    },
    {
     "ename": "ValueError",
     "evalue": "Number of features of the model must match the input. Model n_features is 1099 and input n_features is 631 ",
     "output_type": "error",
     "traceback": [
      "\u001b[1;31m---------------------------------------------------------------------------\u001b[0m",
      "\u001b[1;31mValueError\u001b[0m                                Traceback (most recent call last)",
      "\u001b[1;32m<ipython-input-71-2c76852a2401>\u001b[0m in \u001b[0;36m<module>\u001b[1;34m\u001b[0m\n\u001b[0;32m     17\u001b[0m \u001b[1;33m\u001b[0m\u001b[0m\n\u001b[0;32m     18\u001b[0m \u001b[1;31m# Get metrics of interest\u001b[0m\u001b[1;33m\u001b[0m\u001b[1;33m\u001b[0m\u001b[1;33m\u001b[0m\u001b[0m\n\u001b[1;32m---> 19\u001b[1;33m \u001b[0my_pred\u001b[0m \u001b[1;33m=\u001b[0m \u001b[0mgrid\u001b[0m\u001b[1;33m.\u001b[0m\u001b[0mpredict\u001b[0m\u001b[1;33m(\u001b[0m\u001b[0mX_test\u001b[0m\u001b[1;33m)\u001b[0m\u001b[1;33m\u001b[0m\u001b[1;33m\u001b[0m\u001b[0m\n\u001b[0m\u001b[0;32m     20\u001b[0m \u001b[0mpre\u001b[0m \u001b[1;33m=\u001b[0m \u001b[0mprecision_score\u001b[0m\u001b[1;33m(\u001b[0m\u001b[0my_test\u001b[0m\u001b[1;33m,\u001b[0m \u001b[0my_pred\u001b[0m\u001b[1;33m)\u001b[0m\u001b[1;33m\u001b[0m\u001b[1;33m\u001b[0m\u001b[0m\n\u001b[0;32m     21\u001b[0m \u001b[0mrec\u001b[0m \u001b[1;33m=\u001b[0m \u001b[0mrecall_score\u001b[0m\u001b[1;33m(\u001b[0m\u001b[0my_test\u001b[0m\u001b[1;33m,\u001b[0m \u001b[0my_pred\u001b[0m\u001b[1;33m)\u001b[0m\u001b[1;33m\u001b[0m\u001b[1;33m\u001b[0m\u001b[0m\n",
      "\u001b[1;32m~\\AppData\\Roaming\\Python\\Python37\\site-packages\\sklearn\\utils\\metaestimators.py\u001b[0m in \u001b[0;36m<lambda>\u001b[1;34m(*args, **kwargs)\u001b[0m\n\u001b[0;32m    117\u001b[0m \u001b[1;33m\u001b[0m\u001b[0m\n\u001b[0;32m    118\u001b[0m         \u001b[1;31m# lambda, but not partial, allows help() to work with update_wrapper\u001b[0m\u001b[1;33m\u001b[0m\u001b[1;33m\u001b[0m\u001b[1;33m\u001b[0m\u001b[0m\n\u001b[1;32m--> 119\u001b[1;33m         \u001b[0mout\u001b[0m \u001b[1;33m=\u001b[0m \u001b[1;32mlambda\u001b[0m \u001b[1;33m*\u001b[0m\u001b[0margs\u001b[0m\u001b[1;33m,\u001b[0m \u001b[1;33m**\u001b[0m\u001b[0mkwargs\u001b[0m\u001b[1;33m:\u001b[0m \u001b[0mself\u001b[0m\u001b[1;33m.\u001b[0m\u001b[0mfn\u001b[0m\u001b[1;33m(\u001b[0m\u001b[0mobj\u001b[0m\u001b[1;33m,\u001b[0m \u001b[1;33m*\u001b[0m\u001b[0margs\u001b[0m\u001b[1;33m,\u001b[0m \u001b[1;33m**\u001b[0m\u001b[0mkwargs\u001b[0m\u001b[1;33m)\u001b[0m\u001b[1;33m\u001b[0m\u001b[1;33m\u001b[0m\u001b[0m\n\u001b[0m\u001b[0;32m    120\u001b[0m         \u001b[1;31m# update the docstring of the returned function\u001b[0m\u001b[1;33m\u001b[0m\u001b[1;33m\u001b[0m\u001b[1;33m\u001b[0m\u001b[0m\n\u001b[0;32m    121\u001b[0m         \u001b[0mupdate_wrapper\u001b[0m\u001b[1;33m(\u001b[0m\u001b[0mout\u001b[0m\u001b[1;33m,\u001b[0m \u001b[0mself\u001b[0m\u001b[1;33m.\u001b[0m\u001b[0mfn\u001b[0m\u001b[1;33m)\u001b[0m\u001b[1;33m\u001b[0m\u001b[1;33m\u001b[0m\u001b[0m\n",
      "\u001b[1;32m~\\AppData\\Roaming\\Python\\Python37\\site-packages\\sklearn\\model_selection\\_search.py\u001b[0m in \u001b[0;36mpredict\u001b[1;34m(self, X)\u001b[0m\n\u001b[0;32m    485\u001b[0m         \"\"\"\n\u001b[0;32m    486\u001b[0m         \u001b[0mself\u001b[0m\u001b[1;33m.\u001b[0m\u001b[0m_check_is_fitted\u001b[0m\u001b[1;33m(\u001b[0m\u001b[1;34m'predict'\u001b[0m\u001b[1;33m)\u001b[0m\u001b[1;33m\u001b[0m\u001b[1;33m\u001b[0m\u001b[0m\n\u001b[1;32m--> 487\u001b[1;33m         \u001b[1;32mreturn\u001b[0m \u001b[0mself\u001b[0m\u001b[1;33m.\u001b[0m\u001b[0mbest_estimator_\u001b[0m\u001b[1;33m.\u001b[0m\u001b[0mpredict\u001b[0m\u001b[1;33m(\u001b[0m\u001b[0mX\u001b[0m\u001b[1;33m)\u001b[0m\u001b[1;33m\u001b[0m\u001b[1;33m\u001b[0m\u001b[0m\n\u001b[0m\u001b[0;32m    488\u001b[0m \u001b[1;33m\u001b[0m\u001b[0m\n\u001b[0;32m    489\u001b[0m     \u001b[1;33m@\u001b[0m\u001b[0mif_delegate_has_method\u001b[0m\u001b[1;33m(\u001b[0m\u001b[0mdelegate\u001b[0m\u001b[1;33m=\u001b[0m\u001b[1;33m(\u001b[0m\u001b[1;34m'best_estimator_'\u001b[0m\u001b[1;33m,\u001b[0m \u001b[1;34m'estimator'\u001b[0m\u001b[1;33m)\u001b[0m\u001b[1;33m)\u001b[0m\u001b[1;33m\u001b[0m\u001b[1;33m\u001b[0m\u001b[0m\n",
      "\u001b[1;32m~\\AppData\\Roaming\\Python\\Python37\\site-packages\\sklearn\\ensemble\\_weight_boosting.py\u001b[0m in \u001b[0;36mpredict\u001b[1;34m(self, X)\u001b[0m\n\u001b[0;32m    631\u001b[0m         \u001b[0mX\u001b[0m \u001b[1;33m=\u001b[0m \u001b[0mself\u001b[0m\u001b[1;33m.\u001b[0m\u001b[0m_check_X\u001b[0m\u001b[1;33m(\u001b[0m\u001b[0mX\u001b[0m\u001b[1;33m)\u001b[0m\u001b[1;33m\u001b[0m\u001b[1;33m\u001b[0m\u001b[0m\n\u001b[0;32m    632\u001b[0m \u001b[1;33m\u001b[0m\u001b[0m\n\u001b[1;32m--> 633\u001b[1;33m         \u001b[0mpred\u001b[0m \u001b[1;33m=\u001b[0m \u001b[0mself\u001b[0m\u001b[1;33m.\u001b[0m\u001b[0mdecision_function\u001b[0m\u001b[1;33m(\u001b[0m\u001b[0mX\u001b[0m\u001b[1;33m)\u001b[0m\u001b[1;33m\u001b[0m\u001b[1;33m\u001b[0m\u001b[0m\n\u001b[0m\u001b[0;32m    634\u001b[0m \u001b[1;33m\u001b[0m\u001b[0m\n\u001b[0;32m    635\u001b[0m         \u001b[1;32mif\u001b[0m \u001b[0mself\u001b[0m\u001b[1;33m.\u001b[0m\u001b[0mn_classes_\u001b[0m \u001b[1;33m==\u001b[0m \u001b[1;36m2\u001b[0m\u001b[1;33m:\u001b[0m\u001b[1;33m\u001b[0m\u001b[1;33m\u001b[0m\u001b[0m\n",
      "\u001b[1;32m~\\AppData\\Roaming\\Python\\Python37\\site-packages\\sklearn\\ensemble\\_weight_boosting.py\u001b[0m in \u001b[0;36mdecision_function\u001b[1;34m(self, X)\u001b[0m\n\u001b[0;32m    701\u001b[0m             \u001b[1;31m# The weights are all 1. for SAMME.R\u001b[0m\u001b[1;33m\u001b[0m\u001b[1;33m\u001b[0m\u001b[1;33m\u001b[0m\u001b[0m\n\u001b[0;32m    702\u001b[0m             pred = sum(_samme_proba(estimator, n_classes, X)\n\u001b[1;32m--> 703\u001b[1;33m                        for estimator in self.estimators_)\n\u001b[0m\u001b[0;32m    704\u001b[0m         \u001b[1;32melse\u001b[0m\u001b[1;33m:\u001b[0m  \u001b[1;31m# self.algorithm == \"SAMME\"\u001b[0m\u001b[1;33m\u001b[0m\u001b[1;33m\u001b[0m\u001b[0m\n\u001b[0;32m    705\u001b[0m             pred = sum((estimator.predict(X) == classes).T * w\n",
      "\u001b[1;32m~\\AppData\\Roaming\\Python\\Python37\\site-packages\\sklearn\\ensemble\\_weight_boosting.py\u001b[0m in \u001b[0;36m<genexpr>\u001b[1;34m(.0)\u001b[0m\n\u001b[0;32m    701\u001b[0m             \u001b[1;31m# The weights are all 1. for SAMME.R\u001b[0m\u001b[1;33m\u001b[0m\u001b[1;33m\u001b[0m\u001b[1;33m\u001b[0m\u001b[0m\n\u001b[0;32m    702\u001b[0m             pred = sum(_samme_proba(estimator, n_classes, X)\n\u001b[1;32m--> 703\u001b[1;33m                        for estimator in self.estimators_)\n\u001b[0m\u001b[0;32m    704\u001b[0m         \u001b[1;32melse\u001b[0m\u001b[1;33m:\u001b[0m  \u001b[1;31m# self.algorithm == \"SAMME\"\u001b[0m\u001b[1;33m\u001b[0m\u001b[1;33m\u001b[0m\u001b[0m\n\u001b[0;32m    705\u001b[0m             pred = sum((estimator.predict(X) == classes).T * w\n",
      "\u001b[1;32m~\\AppData\\Roaming\\Python\\Python37\\site-packages\\sklearn\\ensemble\\_weight_boosting.py\u001b[0m in \u001b[0;36m_samme_proba\u001b[1;34m(estimator, n_classes, X)\u001b[0m\n\u001b[0;32m    271\u001b[0m \u001b[1;33m\u001b[0m\u001b[0m\n\u001b[0;32m    272\u001b[0m     \"\"\"\n\u001b[1;32m--> 273\u001b[1;33m     \u001b[0mproba\u001b[0m \u001b[1;33m=\u001b[0m \u001b[0mestimator\u001b[0m\u001b[1;33m.\u001b[0m\u001b[0mpredict_proba\u001b[0m\u001b[1;33m(\u001b[0m\u001b[0mX\u001b[0m\u001b[1;33m)\u001b[0m\u001b[1;33m\u001b[0m\u001b[1;33m\u001b[0m\u001b[0m\n\u001b[0m\u001b[0;32m    274\u001b[0m \u001b[1;33m\u001b[0m\u001b[0m\n\u001b[0;32m    275\u001b[0m     \u001b[1;31m# Displace zero probabilities so the log is defined.\u001b[0m\u001b[1;33m\u001b[0m\u001b[1;33m\u001b[0m\u001b[1;33m\u001b[0m\u001b[0m\n",
      "\u001b[1;32m~\\AppData\\Roaming\\Python\\Python37\\site-packages\\sklearn\\tree\\_classes.py\u001b[0m in \u001b[0;36mpredict_proba\u001b[1;34m(self, X, check_input)\u001b[0m\n\u001b[0;32m    920\u001b[0m         \"\"\"\n\u001b[0;32m    921\u001b[0m         \u001b[0mcheck_is_fitted\u001b[0m\u001b[1;33m(\u001b[0m\u001b[0mself\u001b[0m\u001b[1;33m)\u001b[0m\u001b[1;33m\u001b[0m\u001b[1;33m\u001b[0m\u001b[0m\n\u001b[1;32m--> 922\u001b[1;33m         \u001b[0mX\u001b[0m \u001b[1;33m=\u001b[0m \u001b[0mself\u001b[0m\u001b[1;33m.\u001b[0m\u001b[0m_validate_X_predict\u001b[0m\u001b[1;33m(\u001b[0m\u001b[0mX\u001b[0m\u001b[1;33m,\u001b[0m \u001b[0mcheck_input\u001b[0m\u001b[1;33m)\u001b[0m\u001b[1;33m\u001b[0m\u001b[1;33m\u001b[0m\u001b[0m\n\u001b[0m\u001b[0;32m    923\u001b[0m         \u001b[0mproba\u001b[0m \u001b[1;33m=\u001b[0m \u001b[0mself\u001b[0m\u001b[1;33m.\u001b[0m\u001b[0mtree_\u001b[0m\u001b[1;33m.\u001b[0m\u001b[0mpredict\u001b[0m\u001b[1;33m(\u001b[0m\u001b[0mX\u001b[0m\u001b[1;33m)\u001b[0m\u001b[1;33m\u001b[0m\u001b[1;33m\u001b[0m\u001b[0m\n\u001b[0;32m    924\u001b[0m \u001b[1;33m\u001b[0m\u001b[0m\n",
      "\u001b[1;32m~\\AppData\\Roaming\\Python\\Python37\\site-packages\\sklearn\\tree\\_classes.py\u001b[0m in \u001b[0;36m_validate_X_predict\u001b[1;34m(self, X, check_input)\u001b[0m\n\u001b[0;32m    397\u001b[0m                              \u001b[1;34m\"match the input. Model n_features is %s and \"\u001b[0m\u001b[1;33m\u001b[0m\u001b[1;33m\u001b[0m\u001b[0m\n\u001b[0;32m    398\u001b[0m                              \u001b[1;34m\"input n_features is %s \"\u001b[0m\u001b[1;33m\u001b[0m\u001b[1;33m\u001b[0m\u001b[0m\n\u001b[1;32m--> 399\u001b[1;33m                              % (self.n_features_, n_features))\n\u001b[0m\u001b[0;32m    400\u001b[0m \u001b[1;33m\u001b[0m\u001b[0m\n\u001b[0;32m    401\u001b[0m         \u001b[1;32mreturn\u001b[0m \u001b[0mX\u001b[0m\u001b[1;33m\u001b[0m\u001b[1;33m\u001b[0m\u001b[0m\n",
      "\u001b[1;31mValueError\u001b[0m: Number of features of the model must match the input. Model n_features is 1099 and input n_features is 631 "
     ]
    }
   ],
   "source": [
    "# Train and save the winning model\n",
    "model = { \n",
    "        \"model\" : [AdaBoostClassifier()],\n",
    "        \"name\" : \"Ada Boost\",\n",
    "        \"params\" : \n",
    "        {\n",
    "            \"n_estimators\"          : [50],\n",
    "            \"learning_rate\"         : [0.01]\n",
    "        }\n",
    "    }\n",
    "clf = model['model'][0]\n",
    "print(\"Training on\", model['name'])\n",
    "\n",
    "# Grid search (for consistency) winning model\n",
    "grid = GridSearchCV(clf, param_grid=model['params'], scoring=custom_scorer, cv=5, n_jobs=-1, verbose=4)\n",
    "grid.fit(X_train, y_train.values.ravel())\n",
    "\n",
    "# Get metrics of interest\n",
    "y_pred = grid.predict(X_test)\n",
    "pre = precision_score(y_test, y_pred)\n",
    "rec = recall_score(y_test, y_pred)\n",
    "CM = confusion_matrix(y_test, y_pred)\n",
    "\n",
    "# Save model\n",
    "modelFilename = r\"xyz-phish-model.pkl\"\n",
    "os.chdir(wd)\n",
    "joblib.dump(grid.best_estimator_, modelFilename, compress = 1)"
   ]
  },
  {
   "cell_type": "code",
   "execution_count": 70,
   "metadata": {},
   "outputs": [
    {
     "ename": "UnpicklingError",
     "evalue": "invalid load key, 'x'.",
     "output_type": "error",
     "traceback": [
      "\u001b[1;31m---------------------------------------------------------------------------\u001b[0m",
      "\u001b[1;31mUnpicklingError\u001b[0m                           Traceback (most recent call last)",
      "\u001b[1;32m<ipython-input-70-f5b1f0a6cba6>\u001b[0m in \u001b[0;36m<module>\u001b[1;34m\u001b[0m\n\u001b[0;32m      1\u001b[0m \u001b[1;31m# load the model from disk\u001b[0m\u001b[1;33m\u001b[0m\u001b[1;33m\u001b[0m\u001b[1;33m\u001b[0m\u001b[0m\n\u001b[0;32m      2\u001b[0m \u001b[0mos\u001b[0m\u001b[1;33m.\u001b[0m\u001b[0mchdir\u001b[0m\u001b[1;33m(\u001b[0m\u001b[0mwd\u001b[0m\u001b[1;33m)\u001b[0m\u001b[1;33m\u001b[0m\u001b[1;33m\u001b[0m\u001b[0m\n\u001b[1;32m----> 3\u001b[1;33m \u001b[0mloaded_model\u001b[0m \u001b[1;33m=\u001b[0m \u001b[0mpickle\u001b[0m\u001b[1;33m.\u001b[0m\u001b[0mload\u001b[0m\u001b[1;33m(\u001b[0m\u001b[0mopen\u001b[0m\u001b[1;33m(\u001b[0m\u001b[0mmodelFilename\u001b[0m\u001b[1;33m,\u001b[0m \u001b[1;34m'rb'\u001b[0m\u001b[1;33m)\u001b[0m\u001b[1;33m)\u001b[0m\u001b[1;33m\u001b[0m\u001b[1;33m\u001b[0m\u001b[0m\n\u001b[0m\u001b[0;32m      4\u001b[0m \u001b[0mresult\u001b[0m \u001b[1;33m=\u001b[0m \u001b[0mloaded_model\u001b[0m\u001b[1;33m.\u001b[0m\u001b[0mscore\u001b[0m\u001b[1;33m(\u001b[0m\u001b[0mX_test\u001b[0m\u001b[1;33m,\u001b[0m \u001b[0mY_test\u001b[0m\u001b[1;33m)\u001b[0m\u001b[1;33m\u001b[0m\u001b[1;33m\u001b[0m\u001b[0m\n\u001b[0;32m      5\u001b[0m \u001b[0mprint\u001b[0m\u001b[1;33m(\u001b[0m\u001b[0mresult\u001b[0m\u001b[1;33m)\u001b[0m\u001b[1;33m\u001b[0m\u001b[1;33m\u001b[0m\u001b[0m\n",
      "\u001b[1;31mUnpicklingError\u001b[0m: invalid load key, 'x'."
     ]
    }
   ],
   "source": [
    "# load the model from disk\n",
    "os.chdir(wd)\n",
    "loaded_model = pickle.load(open(modelFilename, 'rb'))\n",
    "result = loaded_model.score(X_test, Y_test)\n",
    "print(result)"
   ]
  },
  {
   "cell_type": "code",
   "execution_count": 54,
   "metadata": {},
   "outputs": [
    {
     "name": "stdout",
     "output_type": "stream",
     "text": [
      "Overwriting score.py\n"
     ]
    }
   ],
   "source": [
    "%%writefile score.py\n",
    "\n",
    "def init():\n",
    "    global model\n",
    "    # AZUREML_MODEL_DIR is an environment variable created during deployment.\n",
    "    # It is the path to the model folder (./azureml-models/$MODEL_NAME/$VERSION)\n",
    "    # For multiple models, it points to the folder containing all deployed models (./azureml-models)\n",
    "    model_path = os.path.join(os.getenv('AZUREML_MODEL_DIR'), modelFilename)\n",
    "    model = joblib.load(model_path)\n",
    "\n",
    "def run(raw_data):\n",
    "    data = np.array(json.loads(raw_data)['data'])\n",
    "    # make prediction\n",
    "    y_hat = model.predict(data)\n",
    "    # you can return any data type as long as it is JSON-serializable\n",
    "    return y_hat.tolist()"
   ]
  },
  {
   "cell_type": "code",
   "execution_count": 51,
   "metadata": {},
   "outputs": [],
   "source": [
    "aciconfig = AciWebservice.deploy_configuration(cpu_cores=1, \n",
    "                                               memory_gb=1, \n",
    "                                               tags={\"data\": \"XYZ\",  \"method\" : \"sklearn\"}, \n",
    "                                               description='Predict XYZ phishing with sklearn')"
   ]
  },
  {
   "cell_type": "code",
   "execution_count": 57,
   "metadata": {},
   "outputs": [
    {
     "name": "stdout",
     "output_type": "stream",
     "text": [
      "None\n"
     ]
    }
   ],
   "source": [
    "print(service.get_logs())"
   ]
  },
  {
   "cell_type": "code",
   "execution_count": 56,
   "metadata": {},
   "outputs": [
    {
     "name": "stdout",
     "output_type": "stream",
     "text": [
      "Tips: You can try get_logs(): https://aka.ms/debugimage#dockerlog or local deployment: https://aka.ms/debugimage#debug-locally to debug if deployment takes longer than 10 minutes.\n",
      "Running\n",
      "2021-04-14 02:29:26-05:00 Creating Container Registry if not exists.\n",
      "2021-04-14 02:29:27-05:00 Registering the environment.\n",
      "2021-04-14 02:29:27-05:00 Use the existing image.\n",
      "2021-04-14 02:29:27-05:00 Generating deployment configuration.\n",
      "2021-04-14 02:29:27-05:00 Submitting deployment to compute.\n",
      "2021-04-14 02:29:31-05:00 Checking the status of deployment sklearn-xyz-phishing-svc..\n",
      "2021-04-14 02:32:22-05:00 Checking the status of inference endpoint sklearn-xyz-phishing-svc.\n",
      "Failed\n"
     ]
    },
    {
     "name": "stderr",
     "output_type": "stream",
     "text": [
      "Service deployment polling reached non-successful terminal state, current service state: Failed\n",
      "Operation ID: 6109916f-857b-4ae5-b90f-f8bbb96fb597\n",
      "More information can be found using '.get_logs()'\n",
      "Error:\n",
      "{\n",
      "  \"code\": \"AciDeploymentFailed\",\n",
      "  \"statusCode\": 400,\n",
      "  \"message\": \"Aci Deployment failed with exception: Your container application crashed. This may be caused by errors in your scoring file's init() function.\n",
      "\t1. Please check the logs for your container instance: sklearn-xyz-phishing-svc. From the AML SDK, you can run print(service.get_logs()) if you have service object to fetch the logs.\n",
      "\t2. You can interactively debug your scoring file locally. Please refer to https://docs.microsoft.com/azure/machine-learning/how-to-debug-visual-studio-code#debug-and-troubleshoot-deployments for more information.\n",
      "\t3. You can also try to run image viennaglobal.azurecr.io/azureml/azureml_f728c1267b88749dca3ca208c49708bc locally. Please refer to https://aka.ms/debugimage#service-launch-fails for more information.\",\n",
      "  \"details\": [\n",
      "    {\n",
      "      \"code\": \"CrashLoopBackOff\",\n",
      "      \"message\": \"Your container application crashed. This may be caused by errors in your scoring file's init() function.\n",
      "\t1. Please check the logs for your container instance: sklearn-xyz-phishing-svc. From the AML SDK, you can run print(service.get_logs()) if you have service object to fetch the logs.\n",
      "\t2. You can interactively debug your scoring file locally. Please refer to https://docs.microsoft.com/azure/machine-learning/how-to-debug-visual-studio-code#debug-and-troubleshoot-deployments for more information.\n",
      "\t3. You can also try to run image viennaglobal.azurecr.io/azureml/azureml_f728c1267b88749dca3ca208c49708bc locally. Please refer to https://aka.ms/debugimage#service-launch-fails for more information.\"\n",
      "    },\n",
      "    {\n",
      "      \"code\": \"AciDeploymentFailed\",\n",
      "      \"message\": \"Your container application crashed. Please follow the steps to debug:\n",
      "\t1. From the AML SDK, you can run print(service.get_logs()) if you have service object to fetch the logs. Please refer to https://aka.ms/debugimage#dockerlog for more information.\n",
      "\t2. If your container application crashed. This may be caused by errors in your scoring file's init() function. You can try debugging locally first. Please refer to https://aka.ms/debugimage#debug-locally for more information.\n",
      "\t3. You can also interactively debug your scoring file locally. Please refer to https://docs.microsoft.com/azure/machine-learning/how-to-debug-visual-studio-code#debug-and-troubleshoot-deployments for more information.\n",
      "\t4. View the diagnostic events to check status of container, it may help you to debug the issue.\n",
      "\"RestartCount\": 3\n",
      "\"CurrentState\": {\"state\":\"Waiting\",\"startTime\":null,\"exitCode\":null,\"finishTime\":null,\"detailStatus\":\"CrashLoopBackOff: Back-off restarting failed\"}\n",
      "\"PreviousState\": {\"state\":\"Terminated\",\"startTime\":\"2021-04-14T07:33:45.186Z\",\"exitCode\":111,\"finishTime\":\"2021-04-14T07:33:48.085Z\",\"detailStatus\":\"Error\"}\n",
      "\"Events\":\n",
      "{\"count\":1,\"firstTimestamp\":\"2021-04-14T07:29:42Z\",\"lastTimestamp\":\"2021-04-14T07:29:42Z\",\"name\":\"Pulling\",\"message\":\"pulling image \"viennaglobal.azurecr.io/azureml/azureml_f728c1267b88749dca3ca208c49708bc@sha256:1351818ac96bfd89719cfb864699a701f8157e10b6280850c1f44d7e2900979c\"\",\"type\":\"Normal\"}\n",
      "{\"count\":1,\"firstTimestamp\":\"2021-04-14T07:31:53Z\",\"lastTimestamp\":\"2021-04-14T07:31:53Z\",\"name\":\"Pulled\",\"message\":\"Successfully pulled image \"viennaglobal.azurecr.io/azureml/azureml_f728c1267b88749dca3ca208c49708bc@sha256:1351818ac96bfd89719cfb864699a701f8157e10b6280850c1f44d7e2900979c\"\",\"type\":\"Normal\"}\n",
      "{\"count\":4,\"firstTimestamp\":\"2021-04-14T07:32:18Z\",\"lastTimestamp\":\"2021-04-14T07:33:45Z\",\"name\":\"Started\",\"message\":\"Started container\",\"type\":\"Normal\"}\n",
      "{\"count\":4,\"firstTimestamp\":\"2021-04-14T07:32:23Z\",\"lastTimestamp\":\"2021-04-14T07:33:48Z\",\"name\":\"Killing\",\"message\":\"Killing container with id 048a1b59e6320041241c148117c7687d747461f495789161f7b82ecdf2c52d76.\",\"type\":\"Normal\"}\n",
      "\"\n",
      "    }\n",
      "  ]\n",
      "}\n",
      "\n"
     ]
    },
    {
     "ename": "WebserviceException",
     "evalue": "WebserviceException:\n\tMessage: Service deployment polling reached non-successful terminal state, current service state: Failed\nOperation ID: 6109916f-857b-4ae5-b90f-f8bbb96fb597\nMore information can be found using '.get_logs()'\nError:\n{\n  \"code\": \"AciDeploymentFailed\",\n  \"statusCode\": 400,\n  \"message\": \"Aci Deployment failed with exception: Your container application crashed. This may be caused by errors in your scoring file's init() function.\n\t1. Please check the logs for your container instance: sklearn-xyz-phishing-svc. From the AML SDK, you can run print(service.get_logs()) if you have service object to fetch the logs.\n\t2. You can interactively debug your scoring file locally. Please refer to https://docs.microsoft.com/azure/machine-learning/how-to-debug-visual-studio-code#debug-and-troubleshoot-deployments for more information.\n\t3. You can also try to run image viennaglobal.azurecr.io/azureml/azureml_f728c1267b88749dca3ca208c49708bc locally. Please refer to https://aka.ms/debugimage#service-launch-fails for more information.\",\n  \"details\": [\n    {\n      \"code\": \"CrashLoopBackOff\",\n      \"message\": \"Your container application crashed. This may be caused by errors in your scoring file's init() function.\n\t1. Please check the logs for your container instance: sklearn-xyz-phishing-svc. From the AML SDK, you can run print(service.get_logs()) if you have service object to fetch the logs.\n\t2. You can interactively debug your scoring file locally. Please refer to https://docs.microsoft.com/azure/machine-learning/how-to-debug-visual-studio-code#debug-and-troubleshoot-deployments for more information.\n\t3. You can also try to run image viennaglobal.azurecr.io/azureml/azureml_f728c1267b88749dca3ca208c49708bc locally. Please refer to https://aka.ms/debugimage#service-launch-fails for more information.\"\n    },\n    {\n      \"code\": \"AciDeploymentFailed\",\n      \"message\": \"Your container application crashed. Please follow the steps to debug:\n\t1. From the AML SDK, you can run print(service.get_logs()) if you have service object to fetch the logs. Please refer to https://aka.ms/debugimage#dockerlog for more information.\n\t2. If your container application crashed. This may be caused by errors in your scoring file's init() function. You can try debugging locally first. Please refer to https://aka.ms/debugimage#debug-locally for more information.\n\t3. You can also interactively debug your scoring file locally. Please refer to https://docs.microsoft.com/azure/machine-learning/how-to-debug-visual-studio-code#debug-and-troubleshoot-deployments for more information.\n\t4. View the diagnostic events to check status of container, it may help you to debug the issue.\n\"RestartCount\": 3\n\"CurrentState\": {\"state\":\"Waiting\",\"startTime\":null,\"exitCode\":null,\"finishTime\":null,\"detailStatus\":\"CrashLoopBackOff: Back-off restarting failed\"}\n\"PreviousState\": {\"state\":\"Terminated\",\"startTime\":\"2021-04-14T07:33:45.186Z\",\"exitCode\":111,\"finishTime\":\"2021-04-14T07:33:48.085Z\",\"detailStatus\":\"Error\"}\n\"Events\":\n{\"count\":1,\"firstTimestamp\":\"2021-04-14T07:29:42Z\",\"lastTimestamp\":\"2021-04-14T07:29:42Z\",\"name\":\"Pulling\",\"message\":\"pulling image \"viennaglobal.azurecr.io/azureml/azureml_f728c1267b88749dca3ca208c49708bc@sha256:1351818ac96bfd89719cfb864699a701f8157e10b6280850c1f44d7e2900979c\"\",\"type\":\"Normal\"}\n{\"count\":1,\"firstTimestamp\":\"2021-04-14T07:31:53Z\",\"lastTimestamp\":\"2021-04-14T07:31:53Z\",\"name\":\"Pulled\",\"message\":\"Successfully pulled image \"viennaglobal.azurecr.io/azureml/azureml_f728c1267b88749dca3ca208c49708bc@sha256:1351818ac96bfd89719cfb864699a701f8157e10b6280850c1f44d7e2900979c\"\",\"type\":\"Normal\"}\n{\"count\":4,\"firstTimestamp\":\"2021-04-14T07:32:18Z\",\"lastTimestamp\":\"2021-04-14T07:33:45Z\",\"name\":\"Started\",\"message\":\"Started container\",\"type\":\"Normal\"}\n{\"count\":4,\"firstTimestamp\":\"2021-04-14T07:32:23Z\",\"lastTimestamp\":\"2021-04-14T07:33:48Z\",\"name\":\"Killing\",\"message\":\"Killing container with id 048a1b59e6320041241c148117c7687d747461f495789161f7b82ecdf2c52d76.\",\"type\":\"Normal\"}\n\"\n    }\n  ]\n}\n\tInnerException None\n\tErrorResponse \n{\n    \"error\": {\n        \"message\": \"Service deployment polling reached non-successful terminal state, current service state: Failed\\nOperation ID: 6109916f-857b-4ae5-b90f-f8bbb96fb597\\nMore information can be found using '.get_logs()'\\nError:\\n{\\n  \\\"code\\\": \\\"AciDeploymentFailed\\\",\\n  \\\"statusCode\\\": 400,\\n  \\\"message\\\": \\\"Aci Deployment failed with exception: Your container application crashed. This may be caused by errors in your scoring file's init() function.\\n\\t1. Please check the logs for your container instance: sklearn-xyz-phishing-svc. From the AML SDK, you can run print(service.get_logs()) if you have service object to fetch the logs.\\n\\t2. You can interactively debug your scoring file locally. Please refer to https://docs.microsoft.com/azure/machine-learning/how-to-debug-visual-studio-code#debug-and-troubleshoot-deployments for more information.\\n\\t3. You can also try to run image viennaglobal.azurecr.io/azureml/azureml_f728c1267b88749dca3ca208c49708bc locally. Please refer to https://aka.ms/debugimage#service-launch-fails for more information.\\\",\\n  \\\"details\\\": [\\n    {\\n      \\\"code\\\": \\\"CrashLoopBackOff\\\",\\n      \\\"message\\\": \\\"Your container application crashed. This may be caused by errors in your scoring file's init() function.\\n\\t1. Please check the logs for your container instance: sklearn-xyz-phishing-svc. From the AML SDK, you can run print(service.get_logs()) if you have service object to fetch the logs.\\n\\t2. You can interactively debug your scoring file locally. Please refer to https://docs.microsoft.com/azure/machine-learning/how-to-debug-visual-studio-code#debug-and-troubleshoot-deployments for more information.\\n\\t3. You can also try to run image viennaglobal.azurecr.io/azureml/azureml_f728c1267b88749dca3ca208c49708bc locally. Please refer to https://aka.ms/debugimage#service-launch-fails for more information.\\\"\\n    },\\n    {\\n      \\\"code\\\": \\\"AciDeploymentFailed\\\",\\n      \\\"message\\\": \\\"Your container application crashed. Please follow the steps to debug:\\n\\t1. From the AML SDK, you can run print(service.get_logs()) if you have service object to fetch the logs. Please refer to https://aka.ms/debugimage#dockerlog for more information.\\n\\t2. If your container application crashed. This may be caused by errors in your scoring file's init() function. You can try debugging locally first. Please refer to https://aka.ms/debugimage#debug-locally for more information.\\n\\t3. You can also interactively debug your scoring file locally. Please refer to https://docs.microsoft.com/azure/machine-learning/how-to-debug-visual-studio-code#debug-and-troubleshoot-deployments for more information.\\n\\t4. View the diagnostic events to check status of container, it may help you to debug the issue.\\n\\\"RestartCount\\\": 3\\n\\\"CurrentState\\\": {\\\"state\\\":\\\"Waiting\\\",\\\"startTime\\\":null,\\\"exitCode\\\":null,\\\"finishTime\\\":null,\\\"detailStatus\\\":\\\"CrashLoopBackOff: Back-off restarting failed\\\"}\\n\\\"PreviousState\\\": {\\\"state\\\":\\\"Terminated\\\",\\\"startTime\\\":\\\"2021-04-14T07:33:45.186Z\\\",\\\"exitCode\\\":111,\\\"finishTime\\\":\\\"2021-04-14T07:33:48.085Z\\\",\\\"detailStatus\\\":\\\"Error\\\"}\\n\\\"Events\\\":\\n{\\\"count\\\":1,\\\"firstTimestamp\\\":\\\"2021-04-14T07:29:42Z\\\",\\\"lastTimestamp\\\":\\\"2021-04-14T07:29:42Z\\\",\\\"name\\\":\\\"Pulling\\\",\\\"message\\\":\\\"pulling image \\\"viennaglobal.azurecr.io/azureml/azureml_f728c1267b88749dca3ca208c49708bc@sha256:1351818ac96bfd89719cfb864699a701f8157e10b6280850c1f44d7e2900979c\\\"\\\",\\\"type\\\":\\\"Normal\\\"}\\n{\\\"count\\\":1,\\\"firstTimestamp\\\":\\\"2021-04-14T07:31:53Z\\\",\\\"lastTimestamp\\\":\\\"2021-04-14T07:31:53Z\\\",\\\"name\\\":\\\"Pulled\\\",\\\"message\\\":\\\"Successfully pulled image \\\"viennaglobal.azurecr.io/azureml/azureml_f728c1267b88749dca3ca208c49708bc@sha256:1351818ac96bfd89719cfb864699a701f8157e10b6280850c1f44d7e2900979c\\\"\\\",\\\"type\\\":\\\"Normal\\\"}\\n{\\\"count\\\":4,\\\"firstTimestamp\\\":\\\"2021-04-14T07:32:18Z\\\",\\\"lastTimestamp\\\":\\\"2021-04-14T07:33:45Z\\\",\\\"name\\\":\\\"Started\\\",\\\"message\\\":\\\"Started container\\\",\\\"type\\\":\\\"Normal\\\"}\\n{\\\"count\\\":4,\\\"firstTimestamp\\\":\\\"2021-04-14T07:32:23Z\\\",\\\"lastTimestamp\\\":\\\"2021-04-14T07:33:48Z\\\",\\\"name\\\":\\\"Killing\\\",\\\"message\\\":\\\"Killing container with id 048a1b59e6320041241c148117c7687d747461f495789161f7b82ecdf2c52d76.\\\",\\\"type\\\":\\\"Normal\\\"}\\n\\\"\\n    }\\n  ]\\n}\"\n    }\n}",
     "output_type": "error",
     "traceback": [
      "\u001b[1;31m---------------------------------------------------------------------------\u001b[0m",
      "\u001b[1;31mWebserviceException\u001b[0m                       Traceback (most recent call last)",
      "\u001b[1;32m<timed exec>\u001b[0m in \u001b[0;36m<module>\u001b[1;34m\u001b[0m\n",
      "\u001b[1;32m~\\.conda\\envs\\pywritesmooth\\lib\\site-packages\\azureml\\core\\webservice\\webservice.py\u001b[0m in \u001b[0;36mwait_for_deployment\u001b[1;34m(self, show_output, timeout_sec)\u001b[0m\n\u001b[0;32m    921\u001b[0m                                           \u001b[1;34m'Error:\\n'\u001b[0m\u001b[1;33m\u001b[0m\u001b[1;33m\u001b[0m\u001b[0m\n\u001b[0;32m    922\u001b[0m                                           '{}'.format(self.state, self._operation_endpoint.split('/')[-1],\n\u001b[1;32m--> 923\u001b[1;33m                                                       logs_response, format_error_response), logger=module_logger)\n\u001b[0m\u001b[0;32m    924\u001b[0m             print('{} service creation operation finished, operation \"{}\"'.format(self._webservice_type,\n\u001b[0;32m    925\u001b[0m                                                                                   operation_state))\n",
      "\u001b[1;31mWebserviceException\u001b[0m: WebserviceException:\n\tMessage: Service deployment polling reached non-successful terminal state, current service state: Failed\nOperation ID: 6109916f-857b-4ae5-b90f-f8bbb96fb597\nMore information can be found using '.get_logs()'\nError:\n{\n  \"code\": \"AciDeploymentFailed\",\n  \"statusCode\": 400,\n  \"message\": \"Aci Deployment failed with exception: Your container application crashed. This may be caused by errors in your scoring file's init() function.\n\t1. Please check the logs for your container instance: sklearn-xyz-phishing-svc. From the AML SDK, you can run print(service.get_logs()) if you have service object to fetch the logs.\n\t2. You can interactively debug your scoring file locally. Please refer to https://docs.microsoft.com/azure/machine-learning/how-to-debug-visual-studio-code#debug-and-troubleshoot-deployments for more information.\n\t3. You can also try to run image viennaglobal.azurecr.io/azureml/azureml_f728c1267b88749dca3ca208c49708bc locally. Please refer to https://aka.ms/debugimage#service-launch-fails for more information.\",\n  \"details\": [\n    {\n      \"code\": \"CrashLoopBackOff\",\n      \"message\": \"Your container application crashed. This may be caused by errors in your scoring file's init() function.\n\t1. Please check the logs for your container instance: sklearn-xyz-phishing-svc. From the AML SDK, you can run print(service.get_logs()) if you have service object to fetch the logs.\n\t2. You can interactively debug your scoring file locally. Please refer to https://docs.microsoft.com/azure/machine-learning/how-to-debug-visual-studio-code#debug-and-troubleshoot-deployments for more information.\n\t3. You can also try to run image viennaglobal.azurecr.io/azureml/azureml_f728c1267b88749dca3ca208c49708bc locally. Please refer to https://aka.ms/debugimage#service-launch-fails for more information.\"\n    },\n    {\n      \"code\": \"AciDeploymentFailed\",\n      \"message\": \"Your container application crashed. Please follow the steps to debug:\n\t1. From the AML SDK, you can run print(service.get_logs()) if you have service object to fetch the logs. Please refer to https://aka.ms/debugimage#dockerlog for more information.\n\t2. If your container application crashed. This may be caused by errors in your scoring file's init() function. You can try debugging locally first. Please refer to https://aka.ms/debugimage#debug-locally for more information.\n\t3. You can also interactively debug your scoring file locally. Please refer to https://docs.microsoft.com/azure/machine-learning/how-to-debug-visual-studio-code#debug-and-troubleshoot-deployments for more information.\n\t4. View the diagnostic events to check status of container, it may help you to debug the issue.\n\"RestartCount\": 3\n\"CurrentState\": {\"state\":\"Waiting\",\"startTime\":null,\"exitCode\":null,\"finishTime\":null,\"detailStatus\":\"CrashLoopBackOff: Back-off restarting failed\"}\n\"PreviousState\": {\"state\":\"Terminated\",\"startTime\":\"2021-04-14T07:33:45.186Z\",\"exitCode\":111,\"finishTime\":\"2021-04-14T07:33:48.085Z\",\"detailStatus\":\"Error\"}\n\"Events\":\n{\"count\":1,\"firstTimestamp\":\"2021-04-14T07:29:42Z\",\"lastTimestamp\":\"2021-04-14T07:29:42Z\",\"name\":\"Pulling\",\"message\":\"pulling image \"viennaglobal.azurecr.io/azureml/azureml_f728c1267b88749dca3ca208c49708bc@sha256:1351818ac96bfd89719cfb864699a701f8157e10b6280850c1f44d7e2900979c\"\",\"type\":\"Normal\"}\n{\"count\":1,\"firstTimestamp\":\"2021-04-14T07:31:53Z\",\"lastTimestamp\":\"2021-04-14T07:31:53Z\",\"name\":\"Pulled\",\"message\":\"Successfully pulled image \"viennaglobal.azurecr.io/azureml/azureml_f728c1267b88749dca3ca208c49708bc@sha256:1351818ac96bfd89719cfb864699a701f8157e10b6280850c1f44d7e2900979c\"\",\"type\":\"Normal\"}\n{\"count\":4,\"firstTimestamp\":\"2021-04-14T07:32:18Z\",\"lastTimestamp\":\"2021-04-14T07:33:45Z\",\"name\":\"Started\",\"message\":\"Started container\",\"type\":\"Normal\"}\n{\"count\":4,\"firstTimestamp\":\"2021-04-14T07:32:23Z\",\"lastTimestamp\":\"2021-04-14T07:33:48Z\",\"name\":\"Killing\",\"message\":\"Killing container with id 048a1b59e6320041241c148117c7687d747461f495789161f7b82ecdf2c52d76.\",\"type\":\"Normal\"}\n\"\n    }\n  ]\n}\n\tInnerException None\n\tErrorResponse \n{\n    \"error\": {\n        \"message\": \"Service deployment polling reached non-successful terminal state, current service state: Failed\\nOperation ID: 6109916f-857b-4ae5-b90f-f8bbb96fb597\\nMore information can be found using '.get_logs()'\\nError:\\n{\\n  \\\"code\\\": \\\"AciDeploymentFailed\\\",\\n  \\\"statusCode\\\": 400,\\n  \\\"message\\\": \\\"Aci Deployment failed with exception: Your container application crashed. This may be caused by errors in your scoring file's init() function.\\n\\t1. Please check the logs for your container instance: sklearn-xyz-phishing-svc. From the AML SDK, you can run print(service.get_logs()) if you have service object to fetch the logs.\\n\\t2. You can interactively debug your scoring file locally. Please refer to https://docs.microsoft.com/azure/machine-learning/how-to-debug-visual-studio-code#debug-and-troubleshoot-deployments for more information.\\n\\t3. You can also try to run image viennaglobal.azurecr.io/azureml/azureml_f728c1267b88749dca3ca208c49708bc locally. Please refer to https://aka.ms/debugimage#service-launch-fails for more information.\\\",\\n  \\\"details\\\": [\\n    {\\n      \\\"code\\\": \\\"CrashLoopBackOff\\\",\\n      \\\"message\\\": \\\"Your container application crashed. This may be caused by errors in your scoring file's init() function.\\n\\t1. Please check the logs for your container instance: sklearn-xyz-phishing-svc. From the AML SDK, you can run print(service.get_logs()) if you have service object to fetch the logs.\\n\\t2. You can interactively debug your scoring file locally. Please refer to https://docs.microsoft.com/azure/machine-learning/how-to-debug-visual-studio-code#debug-and-troubleshoot-deployments for more information.\\n\\t3. You can also try to run image viennaglobal.azurecr.io/azureml/azureml_f728c1267b88749dca3ca208c49708bc locally. Please refer to https://aka.ms/debugimage#service-launch-fails for more information.\\\"\\n    },\\n    {\\n      \\\"code\\\": \\\"AciDeploymentFailed\\\",\\n      \\\"message\\\": \\\"Your container application crashed. Please follow the steps to debug:\\n\\t1. From the AML SDK, you can run print(service.get_logs()) if you have service object to fetch the logs. Please refer to https://aka.ms/debugimage#dockerlog for more information.\\n\\t2. If your container application crashed. This may be caused by errors in your scoring file's init() function. You can try debugging locally first. Please refer to https://aka.ms/debugimage#debug-locally for more information.\\n\\t3. You can also interactively debug your scoring file locally. Please refer to https://docs.microsoft.com/azure/machine-learning/how-to-debug-visual-studio-code#debug-and-troubleshoot-deployments for more information.\\n\\t4. View the diagnostic events to check status of container, it may help you to debug the issue.\\n\\\"RestartCount\\\": 3\\n\\\"CurrentState\\\": {\\\"state\\\":\\\"Waiting\\\",\\\"startTime\\\":null,\\\"exitCode\\\":null,\\\"finishTime\\\":null,\\\"detailStatus\\\":\\\"CrashLoopBackOff: Back-off restarting failed\\\"}\\n\\\"PreviousState\\\": {\\\"state\\\":\\\"Terminated\\\",\\\"startTime\\\":\\\"2021-04-14T07:33:45.186Z\\\",\\\"exitCode\\\":111,\\\"finishTime\\\":\\\"2021-04-14T07:33:48.085Z\\\",\\\"detailStatus\\\":\\\"Error\\\"}\\n\\\"Events\\\":\\n{\\\"count\\\":1,\\\"firstTimestamp\\\":\\\"2021-04-14T07:29:42Z\\\",\\\"lastTimestamp\\\":\\\"2021-04-14T07:29:42Z\\\",\\\"name\\\":\\\"Pulling\\\",\\\"message\\\":\\\"pulling image \\\"viennaglobal.azurecr.io/azureml/azureml_f728c1267b88749dca3ca208c49708bc@sha256:1351818ac96bfd89719cfb864699a701f8157e10b6280850c1f44d7e2900979c\\\"\\\",\\\"type\\\":\\\"Normal\\\"}\\n{\\\"count\\\":1,\\\"firstTimestamp\\\":\\\"2021-04-14T07:31:53Z\\\",\\\"lastTimestamp\\\":\\\"2021-04-14T07:31:53Z\\\",\\\"name\\\":\\\"Pulled\\\",\\\"message\\\":\\\"Successfully pulled image \\\"viennaglobal.azurecr.io/azureml/azureml_f728c1267b88749dca3ca208c49708bc@sha256:1351818ac96bfd89719cfb864699a701f8157e10b6280850c1f44d7e2900979c\\\"\\\",\\\"type\\\":\\\"Normal\\\"}\\n{\\\"count\\\":4,\\\"firstTimestamp\\\":\\\"2021-04-14T07:32:18Z\\\",\\\"lastTimestamp\\\":\\\"2021-04-14T07:33:45Z\\\",\\\"name\\\":\\\"Started\\\",\\\"message\\\":\\\"Started container\\\",\\\"type\\\":\\\"Normal\\\"}\\n{\\\"count\\\":4,\\\"firstTimestamp\\\":\\\"2021-04-14T07:32:23Z\\\",\\\"lastTimestamp\\\":\\\"2021-04-14T07:33:48Z\\\",\\\"name\\\":\\\"Killing\\\",\\\"message\\\":\\\"Killing container with id 048a1b59e6320041241c148117c7687d747461f495789161f7b82ecdf2c52d76.\\\",\\\"type\\\":\\\"Normal\\\"}\\n\\\"\\n    }\\n  ]\\n}\"\n    }\n}"
     ]
    }
   ],
   "source": [
    "%%time\n",
    "\n",
    "ws = Workspace.from_config()\n",
    "model = Model(ws, 'sklearn-xyz-phishing')\n",
    "\n",
    "\n",
    "myenv = Environment.get(workspace=ws, name='AzureML-Minimal', version=\"1\")\n",
    "inference_config = InferenceConfig(entry_script=\"score.py\", environment=myenv)\n",
    "\n",
    "service = Model.deploy(workspace=ws, \n",
    "                       name='sklearn-xyz-phishing-svc', \n",
    "                       models=[model], \n",
    "                       inference_config=inference_config, \n",
    "                       deployment_config=aciconfig)\n",
    "\n",
    "service.wait_for_deployment(show_output=True)\n",
    "print(service.scoring_uri)"
   ]
  },
  {
   "cell_type": "code",
   "execution_count": null,
   "metadata": {},
   "outputs": [],
   "source": [
    "data_folder = os.path.join(os.getcwd(), 'data')\n",
    "# note we also shrink the intensity values (X) from 0-255 to 0-1. This helps the neural network converge faster\n",
    "X_test = load_data(\"EdwardFry_Microsoft_issueDataset_Xtest\"), False)\n",
    "y_test = load_data(\"EdwardFry_Microsoft_issueDataset_ytest\"), False)"
   ]
  },
  {
   "cell_type": "code",
   "execution_count": null,
   "metadata": {},
   "outputs": [],
   "source": [
    "test = json.dumps({\"data\": X_test.tolist()})\n",
    "test = bytes(test, encoding='utf8')\n",
    "y_hat = service.run(input_data=test)"
   ]
  },
  {
   "cell_type": "code",
   "execution_count": null,
   "metadata": {},
   "outputs": [],
   "source": [
    "conf_mx = confusion_matrix(y_test, y_hat)\n",
    "print(conf_mx)\n",
    "print('Overall accuracy:', np.average(y_hat == y_test))"
   ]
  },
  {
   "cell_type": "code",
   "execution_count": null,
   "metadata": {},
   "outputs": [],
   "source": [
    "# find 30 random samples from test set\n",
    "n = 30\n",
    "sample_indices = np.random.permutation(X_test.shape[0])[0:n]\n",
    "\n",
    "test_samples = json.dumps({\"data\": X_test[sample_indices].tolist()})\n",
    "test_samples = bytes(test_samples, encoding='utf8')\n",
    "\n",
    "# predict using the deployed model\n",
    "result = service.run(input_data=test_samples)\n",
    "\n",
    "# compare actual value vs. the predicted values:\n",
    "i = 0\n",
    "plt.figure(figsize = (20, 1))\n",
    "\n",
    "for s in sample_indices:\n",
    "    plt.subplot(1, n, i + 1)\n",
    "    plt.axhline('')\n",
    "    plt.axvline('')\n",
    "    \n",
    "    # use different color for misclassified sample\n",
    "    font_color = 'red' if y_test[s] != result[i] else 'black'\n",
    "    clr_map = plt.cm.gray if y_test[s] != result[i] else plt.cm.Greys\n",
    "    \n",
    "    plt.text(x=10, y=-10, s=result[i], fontsize=18, color=font_color)\n",
    "    plt.imshow(X_test[s].reshape(28, 28), cmap=clr_map)\n",
    "    \n",
    "    i = i + 1\n",
    "plt.show()"
   ]
  }
 ],
 "metadata": {
  "kernelspec": {
   "display_name": "Python 3",
   "language": "python",
   "name": "python3"
  },
  "language_info": {
   "codemirror_mode": {
    "name": "ipython",
    "version": 3
   },
   "file_extension": ".py",
   "mimetype": "text/x-python",
   "name": "python",
   "nbconvert_exporter": "python",
   "pygments_lexer": "ipython3",
   "version": "3.7.9"
  }
 },
 "nbformat": 4,
 "nbformat_minor": 2
}
