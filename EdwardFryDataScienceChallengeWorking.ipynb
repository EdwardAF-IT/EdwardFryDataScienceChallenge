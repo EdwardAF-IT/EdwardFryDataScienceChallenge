{
 "cells": [
  {
   "cell_type": "markdown",
   "metadata": {},
   "source": [
    "# Data Science Challenge\n",
    "#### Edward Fry\n",
    "#### 4/13/2021\n",
    "#### Phishing Attacks\n",
    "#### Microsoft Data & AI\n",
    "#### Joao Pedro Martins, Proctor\n",
    "---\n",
    "\n",
    "# Abstract\n",
    "XYZ Corporation is a credit card company. They are having difficulty controlling their fraud \n",
    "detection and recovery costs, especially through phishing attacks. It is important that XYZ understand \n",
    "first, who is likely to be attacked and why, and second, activities they can engage in to start decreasing \n",
    "the volume of attacks they receive.\n",
    "\n",
    "They have collected data on their on their email phishing attacks that they have found so far and \n",
    "would like to use this dataset to predict which employees are being targeted and why. The dataset \n",
    "contains records for email users stretching back for one year.\n",
    "\n",
    "The dataset has been obfuscated to prevent any leak of IP or identities from our analysis, and \n",
    "thus the column variables will be general in nature. The columns included were what the IT leads could \n",
    "put together is such short notice, but they are trying to get more data in the coming months. The \n",
    "business leaders of XYZ company would like to understand causality if at all possible, especially to \n",
    "understand which variables they should be looking at and if there are any more that would be \n",
    "worthwhile to try to get for future attempts. \n",
    "\n",
    "The variable that XYZ would like you to try to build a model around is labeled \n",
    "“EmployeeTargetedOverPastYear”. \n",
    "### Auto ML\n",
    "Please do NOT use any form of AutoML for your models\n",
    "\n",
    "### Explainability\n",
    "Please prepare to explain local feature effects for every observation of the dataset.\n",
    "\n",
    "### Deployment\n",
    "Please deploy your models and be ready to demonstrate a live online REST API call to those models.\n",
    "\n",
    "\n",
    "# Introduction\n",
    "With the significant amount of data that the businesss needs to analyze, it is infeasible for humans to sift through it in order to determine how to best identify phishing attacks.  Thus, this study aims to identify a model (or models) that can be used to accurately identify attack candidates as new data comes in.  Phishing attacks expose XYZ to risk and potentially high reactive costs, including expenses for legal activity, brand reputation, and regulatory consequences.  As such, it is important to minimize the volume of attacks.  One promising approach is to predict which employees may be targeted.  Additionally, if reasons can be pinpointed as to why certain employees are targeted, then more holistic remedies can be implemented proactively.\n",
    "\n",
    "In this study, data is first normalized, cleaned-up, and imputed.  Then, an exhaustive search of possible parameter combinations for each of 11 candidate models is undertaken.  Keeping the prediction goal in mind, a scoring function is chosen to minimize the cost by maximizing the true values chosen by the model.  Specifically, 4 classification states are possible: True and false positives and negatives. True positives and true negatives represent accurate identification, so these are desirable.  False positives are less desirable; however, the consequences of a false positive are that an employee perhaps takes unnecessary security precations, which is not very impactful.  The consquences of a false negative, however, would mean that a likely target ends up not taking additional precautions, plus systemic remedies might also be missed.  Therefore, it would be useful to weight false negatives more highly than false positives.  \n",
    "\n",
    "Once results are computed, then, those results are compared to identify the lowest cost and other metrics of interest.  Finally, promising models are discussed and recommmended to the business along with specific steps to address the most common reasons for being targeted.\n",
    "\n",
    "# Methods\n",
    "### Data cleanup\n",
    "As with any data set, it's important to make sure that the data is clean, normalized, and as complete as possible.  The incoming dataset was about 160k rows of information.  Some fields had extra characters like dollar or percent signs that might throw off the types when doing calculations, so those had to be removed.  Three categorical variables were identified, and those were all converted to lowercase for standardization.  A short function to display any missing values revealed that there were, in fact, a few missing values throughout the dataset for every variable.  Very few values were missing relative to the total size of the dataset that only performing a visual inspection of the data would have probably led one to conclude that there were no missing values, so having the computer perform the check is important.\n",
    "\n",
    "Once missing values are identified, an appropriate imputation strategy for each variable is determined.  Some variables, especially categoricals, are best imputed by looking at the mode.  Some need the median to protect against outliers, and the remainder can use the mean.  To determine the distribution, each variable's histogram was plotted and examined.  They all followed a normal distribution, with one possible exception that seemed to have an outlier - that exception was imputed with the median as described.\n",
    "\n",
    "As a final check, once all imputation is complete, the program again checks each variable for missing values.  This time, nothing is displayed, so the data is ready for modeling.\n",
    "\n",
    "### Grid Search\n",
    "Because it is so important to get the model right in order to save the maximum amount of money, a variety of potential classifers were chosen for examination.  For each model, various combinations of parameters were used to fit models on a set of training data.  A hold-out test set was then used to compute the relative performance of each set of parameters by model.  The collection of tested parameters is called a \"grid\" since the parameters could be listed in a tabular or grid-like format.  Because each combintation is fit in turn, the technique is a \"grid search\".  The grid search results in a thorough study of possible models and parameters with minimal preconceptions about which ones might ultimately be the best.  While a random grid search, in which only a portion of possible parameters in the grid are chosen at random for evaluation, was an option, it seemed that an exhaustive grid search that tried every single combination would be better in this situation since the business stands to lose so much money on false results.\n",
    "\n",
    "Part of the grid search process is cross-validation to guard against overfitting.  It works by holding out a 1/n potion of the training data, then using the heldout data for validation.  Then, the next portion is held out until all n portions have been held out and used for validation.  Originally, a 10-fold cross validation scheme was attempted; however, for the number of models and parameter grids under examination, 10-fold cross validation simply took too long to compute.  Thus, this was reduced to 5-fold cross validation.  This is still an adequate amount according to the literature and equates to 20% of the data being held out for validation on each pass.\n",
    "\n",
    "### Scoring\n",
    "All models need a way to determine the relative effectiveness of the model, and the models under grid search are no exception.  In fact, choosing a scoring model was very important to this particular problem.  Because we want to optimize to minmimize losses and specifically to minimize false positives and false negatives, this is accounted for in the scoring model.  Minimizing the number of false positives could also be considered maximizing the precision, which denotes the relative number of true positives.  Similarly, minimizing the number of false negatives is equivalent to maximizing recall.  There is a commonly used scoring metric called F1, which is the harmonic mean of precision and recall.  That seems promising all by itself, but the next step is to assign appropriate weighting.  For this exercise, let's assume that false negatives are 5 times worse than false positives due to the much more serious repercussions of a false negative.  Fortunately, there is a weighted variant of the F1 score known as f-beta, where beta is the relative weight to use.  Thus, for the main scorer, f-beta is maximized to meet XYZ's requirements.\n",
    "\n",
    "### Models\n",
    "Eleven models were examined for this problem, each one with its own set of parameters.  Tree-based classifiers included decisions trees and random forests, and they were fit with gini and entropy criterion, 200 estimators (which is twice the new scikit default of 100), bootstrap and oob both on and off, various leaf configurations, and square root and log maximum features.\n",
    "\n",
    "A ridge classifer examined 6 solvers for a range of alpha between 0 and 1.  Logistic regression tried 5 solvers with each of l1, l2, elastic net, or no penalty, an exponential set of C values, and an l1 ratio between 0 and 1.  A passive aggressive classifer used a similar range of C values.  Support vector machines can provide accurate predictions; however, they are computationally expensive.  For 160,000 rows of data, a linear SVM is used in its place with an exponential range of C, hinge and squared hinge losses, and l1 and l2 penalties.  AdaBoost simply varied the learning rate between .01 and .5.  Stochastic gradient descent followed a similar scheme to logistic regression.\n",
    "\n",
    "Finally, three more exotic models were fit.  LightGBM was fit on each of 4 boosting methods with depths between 2 and 10 and learning rates between .05 and .1.  XGBoost ranged the same depths and learning rate while varying the number of estimators between 60 and 220.  And a multilayer perceptron (neural network) combined 4 activations, 3 common solvers, and 3 learning rates with 5 exponentially increasing alphas.\n",
    "\n",
    "### Computational Considerations\n",
    "As noted above, the cross validation rate was reduced to 5 from 10 in order to speed up calculations.  In addition, each model examined in the grid search needed to be temporarily pulled into its own small Python code file that contained the logic for that one model along with some logic to save the results in a pickle file.  This let the project leverage parallel computation.  Later, the saved results of each grid search were read back into the main application and further examined for the final solution to the problem.\n",
    "\n",
    "\n",
    "# Results\n",
    "### Lowest cost\n",
    "The lowest cost model turned out to be the multilayer perceptron with an estimated cost of \\\\$131,600.  Cost was calculated using the formula 25 * false positive + 125 * false negative.  For completeness, the exact counts of true and false positives and negatives is available.\n",
    "\n",
    "![Figure 1](EstCost.png)\n",
    "<center>Figure 1: Costs by model</center>\n",
    "\n",
    "### Top models\n",
    "The top 4 models turned out to be the multilayer perceptron, XGBoost, random forest, and LightGBM.  All four models not only maximized the f-beta score, but they also topped the accuracy, precision and recall leaderboards.  In addition and as the ultimate measurement of success on this project, they also minimized the dollar loss for false predictions as specified in the requirements from the business owner.\n",
    "\n",
    "#### <center>Model performance by cost</center>\n",
    "\n",
    "![Table 1](ModelPerfTableAll.png)\n",
    "<center>Table 1: Performance by model</center>\n",
    "\n",
    "The other 7 models were considerably lower performers by all of the same measures, and AdaBoost ended up being the worst performer of all.  This is perhaps because Ada had a limited number of parameters in its grid search as compared to the others.  It also isn't surprising that the multilayer perceptron performed so well since it is widely known that neural networks are very powerful, often out-performing their more traditional model peers.\n",
    "\n",
    "The optimal parameters for the perceptron were logistic activation with an inverse scaling learning rate, alpha of 10, and the lbfgs solver.  The adam solver is popular lately in the literature, so it is interesting that lbfgs was better in this case and another good reason not to pre-suppose which parameters might be best when determining the parameters of interest for the grid search.\n",
    "\n",
    "For XGBoost and LightGBM, the best parameters were similar.  Both had a learning rate of .1 and a maximum depth of 9.  This is likely because both of these are boosting algorithms and therefore similar to each other.\n",
    "\n",
    "Finally, the last top performer, random forest, maximized its performance using bootstrapping, no maximum depth, 200 estimators, a maximum number of features calculated with the square root, and entropy criterion.  Gini criterion was expected since it has received a fair bit of positive coverage in recent courses; however, entropy was the winner, again proving that its best to start choosing models and parameters for tuning with an open mind.  The full list of optimal parameters is in Appendix A.\n",
    "\n",
    "### Relative performance\n",
    "In order to better visualize the relative performance of each model against its peers, the four key metrics of f-beta, accuracy, precision, and recall were plotted together.  This might be convenient if, for example, it was desired to look at another metric, like precision, and see at a glance if that might be a better solver than f-beta.  It also gives a good indication of how the models stratify in their performance.  For the most part, models tended to stay in their performance \"lane\" and not vary too much.  For instance, a moderate f-beta model would likely also have a moderate accuracy, precision, and recall.  There were exceptions to this, of course, but they were not too much outside expectations.  For instance, AdaBoost had a moderately high precision even though its other scores were all at the bottom of the group.  However, the top 4 models dominated all of their categories, and there is clear white space between those 4 and the other 7 below them.\n",
    "\n",
    "![Figure 2](ScoreComparisons.png)\n",
    "<center>Figure 2: Relative model performance</center>\n",
    "\n",
    "# Conclusion\n",
    "This model study sought to identify that model that would produce the lowest cost for the business.  False positives lose 25 dollars, and false negatives lose 125.  After cleaning and normalizing the data, an exhaustive grid search was executed on 11 candidate models.  The best model was the multilayer peceptron, or neural network.  It had the smallest lost value of 161k and also the best f-beta and accuracy scores.  XGBoost, LightGBM, and random forest were also quite good.  The remaining 7 models were average to poor and are not recommended.\n",
    "\n",
    "Thoughts for additional research might include using a tool like Tensorflow to try a variety of neural networks to see if that best model can be improved with a different configuration.  In addition, an ensemble method combining the top models from this study might provide a small improvement over using them separately.  However, with scores well in the 90s, the models identified here are certainly strong enough to go to market right away.\n",
    "\n",
    "# Appendix A: Best Model Parameters\n",
    "\n",
    "\n",
    "Ada Boost\n",
    "\n",
    "\t learning_rate : 0.5\n",
    "\n",
    "\t n_estimators : 100\n",
    "\n",
    "Decision Tree\n",
    "\n",
    "\t class_weight : balanced\n",
    "\n",
    "\t criterion : gini\n",
    "\n",
    "\t max_depth : 10\n",
    "\n",
    "\t max_features : sqrt\n",
    "\n",
    "\t splitter : best\n",
    "\n",
    "Gradient Boosted Decision Trees (LGBM)\n",
    "\n",
    "\t boosting : goss\n",
    "\n",
    "\t learning_rate : 0.1\n",
    "\n",
    "\t max_depth : 9\n",
    "\n",
    "Support Vector Machine\n",
    "\n",
    "\t C : 0.1\n",
    "\n",
    "\t class_weight : balanced\n",
    "\n",
    "\t fit_intercept : False\n",
    "\n",
    "\t loss : hinge\n",
    "\n",
    "\t penalty : l2\n",
    "\n",
    "Logistic Regression\n",
    "\n",
    "\t C : 10\n",
    "\n",
    "\t fit_intercept : False\n",
    "\n",
    "\t l1_ratio : 0.0\n",
    "\n",
    "\t penalty : l2\n",
    "\n",
    "\t solver : lbfgs\n",
    "\n",
    "Multilayer Perceptron\n",
    "\n",
    "\t activation : logistic\n",
    "\n",
    "\t alpha : 10\n",
    "\n",
    "\t early_stopping : True\n",
    "\n",
    "\t learning_rate : invscaling\n",
    "\n",
    "\t solver : lbfgs\n",
    "\n",
    "Passive Aggressive\n",
    "\n",
    "\t C : 0.001\n",
    "\n",
    "\t early_stopping : True\n",
    "\n",
    "\t fit_intercept : False\n",
    "\n",
    "Random Forest\n",
    "\n",
    "\t bootstrap : True\n",
    "\n",
    "\t criterion : entropy\n",
    "\n",
    "\t max_depth : None\n",
    "\n",
    "\t max_features : sqrt\n",
    "\n",
    "\t max_leaf_nodes : None\n",
    "\n",
    "\t n_estimators : 200\n",
    "\n",
    "\t oob_score : False\n",
    "\n",
    "Ridge Regression\n",
    "\n",
    "\t alpha : 0.5\n",
    "\n",
    "\t fit_intercept : False\n",
    "\n",
    "\t solver : auto\n",
    "\n",
    "Stochastic Gradient Descent\n",
    "\n",
    "\t alpha : 1e-05\n",
    "\n",
    "\t fit_intercept : False\n",
    "\n",
    "\t l1_ratio : 0.8\n",
    "\n",
    "\t penalty : elasticnet\n",
    "\n",
    "Extreme Gradient Boosting (XGB)\n",
    "\n",
    "\t learning_rate : 0.1\n",
    "\n",
    "\t max_depth : 9\n",
    "\n",
    "\t n_estimators : 180\n",
    "     \n",
    "# Appendix B: Code and Output"
   ]
  },
  {
   "cell_type": "code",
   "execution_count": 11,
   "metadata": {},
   "outputs": [
    {
     "data": {
      "text/html": [
       "<div>\n",
       "<style scoped>\n",
       "    .dataframe tbody tr th:only-of-type {\n",
       "        vertical-align: middle;\n",
       "    }\n",
       "\n",
       "    .dataframe tbody tr th {\n",
       "        vertical-align: top;\n",
       "    }\n",
       "\n",
       "    .dataframe thead th {\n",
       "        text-align: right;\n",
       "    }\n",
       "</style>\n",
       "<table border=\"1\" class=\"dataframe\">\n",
       "  <thead>\n",
       "    <tr style=\"text-align: right;\">\n",
       "      <th></th>\n",
       "      <th>Activity on Company Forums</th>\n",
       "      <th>City</th>\n",
       "      <th>Email Domain</th>\n",
       "      <th>EmployeeTargetedOverPastYear</th>\n",
       "      <th>Gender (code)</th>\n",
       "      <th>Manager Rating of Likelihood to Leave Company</th>\n",
       "      <th>NS100Training Completed</th>\n",
       "      <th>Social Media Activity (Scaled)</th>\n",
       "      <th>Survey, Employee Satisfaction (Scaled)</th>\n",
       "      <th>behaviorPattern3</th>\n",
       "      <th>...</th>\n",
       "      <th>fraudTraining Completed</th>\n",
       "      <th>peerUsageMetric2</th>\n",
       "      <th>peerUsageMetric3</th>\n",
       "      <th>peerUsageMetric4</th>\n",
       "      <th>peerUsageMetric5</th>\n",
       "      <th>phishingTraining Completed</th>\n",
       "      <th>redTeamEval</th>\n",
       "      <th>usageMetric1</th>\n",
       "      <th>usageMetric4</th>\n",
       "      <th>usageMetric5</th>\n",
       "    </tr>\n",
       "  </thead>\n",
       "  <tbody>\n",
       "    <tr>\n",
       "      <th>0</th>\n",
       "      <td>12.0</td>\n",
       "      <td>Kachkanar</td>\n",
       "      <td>si.edu</td>\n",
       "      <td>0.0</td>\n",
       "      <td>1</td>\n",
       "      <td>1.0</td>\n",
       "      <td>1</td>\n",
       "      <td>3</td>\n",
       "      <td>1</td>\n",
       "      <td>0</td>\n",
       "      <td>...</td>\n",
       "      <td>0</td>\n",
       "      <td>6</td>\n",
       "      <td>1</td>\n",
       "      <td>0</td>\n",
       "      <td>4</td>\n",
       "      <td>0</td>\n",
       "      <td>4.0</td>\n",
       "      <td>4.0</td>\n",
       "      <td>8</td>\n",
       "      <td>NaN</td>\n",
       "    </tr>\n",
       "    <tr>\n",
       "      <th>1</th>\n",
       "      <td>28.0</td>\n",
       "      <td>Kista</td>\n",
       "      <td>earthlink.net</td>\n",
       "      <td>1.0</td>\n",
       "      <td>1</td>\n",
       "      <td>1.0</td>\n",
       "      <td>1</td>\n",
       "      <td>0</td>\n",
       "      <td>4</td>\n",
       "      <td>1</td>\n",
       "      <td>...</td>\n",
       "      <td>0</td>\n",
       "      <td>0</td>\n",
       "      <td>0</td>\n",
       "      <td>4</td>\n",
       "      <td>0</td>\n",
       "      <td>1</td>\n",
       "      <td>27.0</td>\n",
       "      <td>0.0</td>\n",
       "      <td>4</td>\n",
       "      <td>0.0</td>\n",
       "    </tr>\n",
       "    <tr>\n",
       "      <th>2</th>\n",
       "      <td>16.0</td>\n",
       "      <td>Belleville</td>\n",
       "      <td>sciencedaily.com</td>\n",
       "      <td>1.0</td>\n",
       "      <td>1</td>\n",
       "      <td>1.0</td>\n",
       "      <td>1</td>\n",
       "      <td>6</td>\n",
       "      <td>5</td>\n",
       "      <td>0</td>\n",
       "      <td>...</td>\n",
       "      <td>1</td>\n",
       "      <td>2</td>\n",
       "      <td>1</td>\n",
       "      <td>1</td>\n",
       "      <td>2</td>\n",
       "      <td>0</td>\n",
       "      <td>10.0</td>\n",
       "      <td>5.0</td>\n",
       "      <td>8</td>\n",
       "      <td>0.0</td>\n",
       "    </tr>\n",
       "    <tr>\n",
       "      <th>3</th>\n",
       "      <td>30.0</td>\n",
       "      <td>Chwałowice</td>\n",
       "      <td>tripadvisor.com</td>\n",
       "      <td>0.0</td>\n",
       "      <td>1</td>\n",
       "      <td>1.0</td>\n",
       "      <td>1</td>\n",
       "      <td>0</td>\n",
       "      <td>2</td>\n",
       "      <td>1</td>\n",
       "      <td>...</td>\n",
       "      <td>0</td>\n",
       "      <td>2</td>\n",
       "      <td>0</td>\n",
       "      <td>0</td>\n",
       "      <td>2</td>\n",
       "      <td>0</td>\n",
       "      <td>15.0</td>\n",
       "      <td>3.0</td>\n",
       "      <td>8</td>\n",
       "      <td>0.0</td>\n",
       "    </tr>\n",
       "    <tr>\n",
       "      <th>4</th>\n",
       "      <td>6.0</td>\n",
       "      <td>Kachkanar</td>\n",
       "      <td>redcross.org</td>\n",
       "      <td>1.0</td>\n",
       "      <td>1</td>\n",
       "      <td>1.0</td>\n",
       "      <td>0</td>\n",
       "      <td>3</td>\n",
       "      <td>4</td>\n",
       "      <td>0</td>\n",
       "      <td>...</td>\n",
       "      <td>0</td>\n",
       "      <td>1</td>\n",
       "      <td>1</td>\n",
       "      <td>0</td>\n",
       "      <td>4</td>\n",
       "      <td>1</td>\n",
       "      <td>13.0</td>\n",
       "      <td>3.0</td>\n",
       "      <td>8</td>\n",
       "      <td>2.0</td>\n",
       "    </tr>\n",
       "  </tbody>\n",
       "</table>\n",
       "<p>5 rows × 22 columns</p>\n",
       "</div>"
      ],
      "text/plain": [
       "   Activity on Company Forums        City      Email Domain  \\\n",
       "0                        12.0   Kachkanar            si.edu   \n",
       "1                        28.0       Kista     earthlink.net   \n",
       "2                        16.0  Belleville  sciencedaily.com   \n",
       "3                        30.0  Chwałowice   tripadvisor.com   \n",
       "4                         6.0   Kachkanar      redcross.org   \n",
       "\n",
       "   EmployeeTargetedOverPastYear  Gender (code)  \\\n",
       "0                           0.0              1   \n",
       "1                           1.0              1   \n",
       "2                           1.0              1   \n",
       "3                           0.0              1   \n",
       "4                           1.0              1   \n",
       "\n",
       "   Manager Rating of Likelihood to Leave Company  NS100Training Completed  \\\n",
       "0                                            1.0                        1   \n",
       "1                                            1.0                        1   \n",
       "2                                            1.0                        1   \n",
       "3                                            1.0                        1   \n",
       "4                                            1.0                        0   \n",
       "\n",
       "   Social Media Activity (Scaled)  Survey, Employee Satisfaction (Scaled)  \\\n",
       "0                               3                                       1   \n",
       "1                               0                                       4   \n",
       "2                               6                                       5   \n",
       "3                               0                                       2   \n",
       "4                               3                                       4   \n",
       "\n",
       "   behaviorPattern3  ...  fraudTraining Completed  peerUsageMetric2  \\\n",
       "0                 0  ...                        0                 6   \n",
       "1                 1  ...                        0                 0   \n",
       "2                 0  ...                        1                 2   \n",
       "3                 1  ...                        0                 2   \n",
       "4                 0  ...                        0                 1   \n",
       "\n",
       "   peerUsageMetric3  peerUsageMetric4  peerUsageMetric5  \\\n",
       "0                 1                 0                 4   \n",
       "1                 0                 4                 0   \n",
       "2                 1                 1                 2   \n",
       "3                 0                 0                 2   \n",
       "4                 1                 0                 4   \n",
       "\n",
       "   phishingTraining Completed  redTeamEval  usageMetric1  usageMetric4  \\\n",
       "0                           0          4.0           4.0             8   \n",
       "1                           1         27.0           0.0             4   \n",
       "2                           0         10.0           5.0             8   \n",
       "3                           0         15.0           3.0             8   \n",
       "4                           1         13.0           3.0             8   \n",
       "\n",
       "   usageMetric5  \n",
       "0           NaN  \n",
       "1           0.0  \n",
       "2           0.0  \n",
       "3           0.0  \n",
       "4           2.0  \n",
       "\n",
       "[5 rows x 22 columns]"
      ]
     },
     "execution_count": 11,
     "metadata": {},
     "output_type": "execute_result"
    }
   ],
   "source": [
    "import pandas as pd, numpy as np, matplotlib.pyplot as plt, os, sklearn, re\n",
    "import plotly.graph_objects as go\n",
    "import seaborn as sb\n",
    "from operator import attrgetter\n",
    "from collections import Counter\n",
    "\n",
    "from sklearn import metrics\n",
    "from sklearn.metrics import fbeta_score, make_scorer, precision_score, recall_score, confusion_matrix\n",
    "from sklearn.model_selection import train_test_split, GridSearchCV\n",
    "from sklearn.preprocessing import StandardScaler\n",
    "from sklearn.dummy import DummyClassifier\n",
    "from sklearn.base import BaseEstimator, ClassifierMixin\n",
    "\n",
    "from sklearn import linear_model as lm\n",
    "from sklearn.ensemble import RandomForestClassifier, AdaBoostClassifier, GradientBoostingClassifier\n",
    "from sklearn.neural_network import MLPClassifier\n",
    "from sklearn.naive_bayes import MultinomialNB\n",
    "from sklearn.tree import DecisionTreeClassifier\n",
    "from sklearn.svm import LinearSVC\n",
    "from sklearn.neighbors import KNeighborsClassifier\n",
    "from lightgbm.sklearn import LGBMClassifier\n",
    "from xgboost import XGBClassifier\n",
    "\n",
    "%matplotlib inline\n",
    "\n",
    "# Load data\n",
    "wd = r\"C:\\Code\\EdwardFryDataScienceChallenge\"\n",
    "dataSourceFilename = r\"EdwardFry_Microsoft_issueDataset.csv\"\n",
    "os.chdir(wd)\n",
    "df = pd.read_csv(dataSourceFilename)\n",
    "df.head()"
   ]
  },
  {
   "cell_type": "code",
   "execution_count": 12,
   "metadata": {},
   "outputs": [
    {
     "name": "stdout",
     "output_type": "stream",
     "text": [
      "['Activity on Company Forums', 'City', 'Email Domain', 'EmployeeTargetedOverPastYear', 'Gender (code)', 'Manager Rating of Likelihood to Leave Company', 'NS100Training Completed', 'Social Media Activity (Scaled)', 'Survey, Employee Satisfaction (Scaled)', 'behaviorPattern3', 'behaviorPattern5', 'datumThreatMonitoringScore', 'fraudTraining Completed', 'peerUsageMetric2', 'peerUsageMetric3', 'peerUsageMetric4', 'peerUsageMetric5', 'phishingTraining Completed', 'redTeamEval', 'usageMetric1', 'usageMetric4', 'usageMetric5']\n"
     ]
    }
   ],
   "source": [
    "# Normalize and examine column names; refer to cols by name in case future datasets are in a different order\n",
    "col_names = list(df.columns)\n",
    "print(col_names)"
   ]
  },
  {
   "cell_type": "code",
   "execution_count": 13,
   "metadata": {},
   "outputs": [],
   "source": [
    "# Init each index in case a future column is missing\n",
    "col_forums = -1\n",
    "col_city = -1\n",
    "col_email = -1\n",
    "col_employee_target = -1\n",
    "col_gender = -1\n",
    "col_leave = -1    \n",
    "col_ns100 = -1\n",
    "col_social = -1\n",
    "col_sat = -1\n",
    "col_behavior3 = -1\n",
    "col_behavior5 = -1\n",
    "col_threat = -1\n",
    "col_fraud = -1\n",
    "col_peer2 = -1\n",
    "col_peer3 = -1\n",
    "col_peer4 = -1\n",
    "col_peer5 = -1\n",
    "col_phish = -1\n",
    "col_redteam = -1\n",
    "col_usage1 = -1\n",
    "col_usage4 = -1\n",
    "col_usage5 = -1"
   ]
  },
  {
   "cell_type": "code",
   "execution_count": 14,
   "metadata": {},
   "outputs": [
    {
     "name": "stdout",
     "output_type": "stream",
     "text": [
      "[0, 1, 2, 3, 4, 5, 6, 7, 8, 9, 10, 11, 12, 13, 14, 15, 16, 17, 18, 19, 20, 21]\n"
     ]
    }
   ],
   "source": [
    "# Name each index so column can be referred to by name regardless of input ordering\n",
    "# Use matching to identify columns in case ordering or name strings are confounded\n",
    "for name in col_names:\n",
    "    name_lower = name.lower()\n",
    "    if re.search(r\"forums\", name_lower):\n",
    "        col_forums = col_names.index(name)\n",
    "    elif re.search(r\"city\", name_lower):\n",
    "        col_city = col_names.index(name)        \n",
    "    elif re.search(r\"email\", name_lower):\n",
    "        col_email = col_names.index(name)\n",
    "    elif re.search(r\"employee.*target\", name_lower):\n",
    "        col_employee_target = col_names.index(name)        \n",
    "    elif re.search(r\"(gender|sex)\", name_lower):\n",
    "        col_gender = col_names.index(name)        \n",
    "    elif re.search(r\"like.*leave\", name_lower):\n",
    "        col_leave = col_names.index(name)        \n",
    "    elif re.search(r\"ns100\", name_lower):\n",
    "        col_ns100 = col_names.index(name)        \n",
    "    elif re.search(r\"social.*media\", name_lower):\n",
    "        col_social = col_names.index(name)        \n",
    "    elif re.search(r\"satisfaction\", name_lower):\n",
    "        col_sat = col_names.index(name)        \n",
    "    elif re.search(r\"behavior.*3\", name_lower):\n",
    "        col_behavior3 = col_names.index(name)        \n",
    "    elif re.search(r\"behavior.*5\", name_lower):\n",
    "        col_behavior5 = col_names.index(name)        \n",
    "    elif re.search(r\"threat.*mon\", name_lower):\n",
    "        col_threat = col_names.index(name)        \n",
    "    elif re.search(r\"fraud.*training\", name_lower):\n",
    "        col_fraud = col_names.index(name)        \n",
    "    elif re.search(r\"peer.*2\", name_lower):\n",
    "        col_peer2 = col_names.index(name)        \n",
    "    elif re.search(r\"peer.*3\", name_lower):\n",
    "        col_peer3 = col_names.index(name)        \n",
    "    elif re.search(r\"peer.*4\", name_lower):\n",
    "        col_peer4 = col_names.index(name)         \n",
    "    elif re.search(r\"peer.*5\", name_lower):\n",
    "        col_peer5 = col_names.index(name)           \n",
    "    elif re.search(r\"ish.*training\", name_lower):\n",
    "        col_phish = col_names.index(name)           \n",
    "    elif re.search(r\"red.*team\", name_lower):\n",
    "        col_redteam = col_names.index(name)           \n",
    "    elif re.search(r\"^usage.*1\", name_lower):\n",
    "        col_usage1 = col_names.index(name)        \n",
    "    elif re.search(r\"^usage.*4\", name_lower):\n",
    "        col_usage4 = col_names.index(name)        \n",
    "    elif re.search(r\"^usage.*5\", name_lower):\n",
    "        col_usage5 = col_names.index(name)\n",
    "        \n",
    "all_col_indices = [col_forums, col_city, col_email, col_employee_target,\n",
    "                   col_gender, col_leave, col_ns100, col_social, col_sat,\n",
    "                   col_behavior3, col_behavior5, col_threat, col_fraud,\n",
    "                   col_peer2, col_peer3, col_peer4, col_peer5, col_phish,\n",
    "                   col_redteam, col_usage1, col_usage4, col_usage5]\n",
    "print(all_col_indices)  # If all goes as planned, the output from the original training dataset should be a list of increasing integers"
   ]
  },
  {
   "cell_type": "code",
   "execution_count": 15,
   "metadata": {},
   "outputs": [],
   "source": [
    "# Initialize containers\n",
    "est_with_means = [col_redteam]\n",
    "est_with_medians = [col_forums]  # Determined after looking at histogram plots for outliers (below)\n",
    "est_with_modes = []  # Most categoricals will get this\n",
    "est_excludes = [col_employee_target]\n",
    "target = col_employee_target\n",
    "categoricals = [col_city, col_email, col_employee_target,\n",
    "                col_gender, col_leave, col_ns100, col_social, col_sat,\n",
    "                col_behavior3, col_behavior5, col_threat, col_fraud,\n",
    "                col_peer2, col_peer3, col_peer4, col_peer5, col_phish,\n",
    "                col_usage1, col_usage4, col_usage5]\n",
    "\n",
    "# Normalize categoricals\n",
    "for i in categoricals:\n",
    "    try:\n",
    "        df[i] = df[i].str.lower()\n",
    "    except:  # Ignore non-strings\n",
    "        pass"
   ]
  },
  {
   "cell_type": "code",
   "execution_count": 16,
   "metadata": {},
   "outputs": [],
   "source": [
    "# Functions\n",
    "def show_missing(df): \n",
    "    print(\"Number of missing values by column:\")\n",
    "    for i in df.columns:\n",
    "        if df.loc[df[i].isna(), i].shape[0] > 0:\n",
    "            print(\"\\t\", i, df.loc[df[i].isna(), i].shape)"
   ]
  },
  {
   "cell_type": "code",
   "execution_count": 17,
   "metadata": {},
   "outputs": [
    {
     "name": "stdout",
     "output_type": "stream",
     "text": [
      "Shape:  (14000, 22)\n",
      "Number of missing values by column:\n",
      "\t Activity on Company Forums (282,)\n",
      "\t Manager Rating of Likelihood to Leave Company (290,)\n",
      "\t usageMetric1 (273,)\n",
      "\t usageMetric5 (1278,)\n",
      "\n",
      "Most commmonly used values and distribution by column:\n",
      "\t 0 [('Activity on Company Forums', 1)]\n"
     ]
    },
    {
     "data": {
      "image/png": "[encoded data removed]",
      "text/plain": [
       "<Figure size 432x288 with 1 Axes>"
      ]
     },
     "metadata": {
      "needs_background": "light"
     },
     "output_type": "display_data"
    },
    {
     "name": "stdout",
     "output_type": "stream",
     "text": [
      "\t 1 [('City', 1)]\n"
     ]
    },
    {
     "data": {
      "image/png": "[encoded data removed]",
      "text/plain": [
       "<Figure size 432x288 with 1 Axes>"
      ]
     },
     "metadata": {
      "needs_background": "light"
     },
     "output_type": "display_data"
    },
    {
     "name": "stdout",
     "output_type": "stream",
     "text": [
      "\t 2 [('Email Domain', 1)]\n"
     ]
    },
    {
     "data": {
      "image/png": "[encoded data removed]",
      "text/plain": [
       "<Figure size 432x288 with 1 Axes>"
      ]
     },
     "metadata": {
      "needs_background": "light"
     },
     "output_type": "display_data"
    },
    {
     "name": "stdout",
     "output_type": "stream",
     "text": [
      "\t 3 [('EmployeeTargetedOverPastYear', 1)]\n"
     ]
    },
    {
     "data": {
      "image/png": "[encoded data removed]",
      "text/plain": [
       "<Figure size 432x288 with 1 Axes>"
      ]
     },
     "metadata": {
      "needs_background": "light"
     },
     "output_type": "display_data"
    },
    {
     "name": "stdout",
     "output_type": "stream",
     "text": [
      "\t 4 [('Gender (code)', 1)]\n"
     ]
    },
    {
     "data": {
      "image/png": "[encoded data removed]",
      "text/plain": [
       "<Figure size 432x288 with 1 Axes>"
      ]
     },
     "metadata": {
      "needs_background": "light"
     },
     "output_type": "display_data"
    },
    {
     "name": "stdout",
     "output_type": "stream",
     "text": [
      "\t 5 [('Manager Rating of Likelihood to Leave Company', 1)]\n"
     ]
    },
    {
     "data": {
      "image/png": "[encoded data removed]",
      "text/plain": [
       "<Figure size 432x288 with 1 Axes>"
      ]
     },
     "metadata": {
      "needs_background": "light"
     },
     "output_type": "display_data"
    },
    {
     "name": "stdout",
     "output_type": "stream",
     "text": [
      "\t 6 [('NS100Training Completed', 1)]\n"
     ]
    },
    {
     "data": {
      "image/png": "[encoded data removed]",
      "text/plain": [
       "<Figure size 432x288 with 1 Axes>"
      ]
     },
     "metadata": {
      "needs_background": "light"
     },
     "output_type": "display_data"
    },
    {
     "name": "stdout",
     "output_type": "stream",
     "text": [
      "\t 7 [('Social Media Activity (Scaled)', 1)]\n"
     ]
    },
    {
     "data": {
      "image/png": "[encoded data removed]",
      "text/plain": [
       "<Figure size 432x288 with 1 Axes>"
      ]
     },
     "metadata": {
      "needs_background": "light"
     },
     "output_type": "display_data"
    },
    {
     "name": "stdout",
     "output_type": "stream",
     "text": [
      "\t 8 [('Survey, Employee Satisfaction (Scaled)', 1)]\n"
     ]
    },
    {
     "data": {
      "image/png": "[encoded data removed]",
      "text/plain": [
       "<Figure size 432x288 with 1 Axes>"
      ]
     },
     "metadata": {
      "needs_background": "light"
     },
     "output_type": "display_data"
    },
    {
     "name": "stdout",
     "output_type": "stream",
     "text": [
      "\t 9 [('behaviorPattern3', 1)]\n"
     ]
    },
    {
     "data": {
      "image/png": "[encoded data removed]",
      "text/plain": [
       "<Figure size 432x288 with 1 Axes>"
      ]
     },
     "metadata": {
      "needs_background": "light"
     },
     "output_type": "display_data"
    },
    {
     "name": "stdout",
     "output_type": "stream",
     "text": [
      "\t 10 [('behaviorPattern5', 1)]\n"
     ]
    },
    {
     "data": {
      "image/png": "[encoded data removed]",
      "text/plain": [
       "<Figure size 432x288 with 1 Axes>"
      ]
     },
     "metadata": {
      "needs_background": "light"
     },
     "output_type": "display_data"
    },
    {
     "name": "stdout",
     "output_type": "stream",
     "text": [
      "\t 11 [('datumThreatMonitoringScore', 1)]\n"
     ]
    },
    {
     "data": {
      "image/png": "[encoded data removed]",
      "text/plain": [
       "<Figure size 432x288 with 1 Axes>"
      ]
     },
     "metadata": {
      "needs_background": "light"
     },
     "output_type": "display_data"
    },
    {
     "name": "stdout",
     "output_type": "stream",
     "text": [
      "\t 12 [('fraudTraining Completed', 1)]\n"
     ]
    },
    {
     "data": {
      "image/png": "[encoded data removed]",
      "text/plain": [
       "<Figure size 432x288 with 1 Axes>"
      ]
     },
     "metadata": {
      "needs_background": "light"
     },
     "output_type": "display_data"
    },
    {
     "name": "stdout",
     "output_type": "stream",
     "text": [
      "\t 13 [('peerUsageMetric2', 1)]\n"
     ]
    },
    {
     "data": {
      "image/png": "[encoded data removed]",
      "text/plain": [
       "<Figure size 432x288 with 1 Axes>"
      ]
     },
     "metadata": {
      "needs_background": "light"
     },
     "output_type": "display_data"
    },
    {
     "name": "stdout",
     "output_type": "stream",
     "text": [
      "\t 14 [('peerUsageMetric3', 1)]\n"
     ]
    },
    {
     "data": {
      "image/png": "[encoded data removed]",
      "text/plain": [
       "<Figure size 432x288 with 1 Axes>"
      ]
     },
     "metadata": {
      "needs_background": "light"
     },
     "output_type": "display_data"
    },
    {
     "name": "stdout",
     "output_type": "stream",
     "text": [
      "\t 15 [('peerUsageMetric4', 1)]\n"
     ]
    },
    {
     "data": {
      "image/png": "[encoded data removed]",
      "text/plain": [
       "<Figure size 432x288 with 1 Axes>"
      ]
     },
     "metadata": {
      "needs_background": "light"
     },
     "output_type": "display_data"
    },
    {
     "name": "stdout",
     "output_type": "stream",
     "text": [
      "\t 16 [('peerUsageMetric5', 1)]\n"
     ]
    },
    {
     "data": {
      "image/png": "[encoded data removed]",
      "text/plain": [
       "<Figure size 432x288 with 1 Axes>"
      ]
     },
     "metadata": {
      "needs_background": "light"
     },
     "output_type": "display_data"
    },
    {
     "name": "stdout",
     "output_type": "stream",
     "text": [
      "\t 17 [('phishingTraining Completed', 1)]\n"
     ]
    },
    {
     "data": {
      "image/png": "[encoded data removed]",
      "text/plain": [
       "<Figure size 432x288 with 1 Axes>"
      ]
     },
     "metadata": {
      "needs_background": "light"
     },
     "output_type": "display_data"
    },
    {
     "name": "stdout",
     "output_type": "stream",
     "text": [
      "\t 18 [('redTeamEval', 1)]\n"
     ]
    },
    {
     "data": {
      "image/png": "[encoded data removed]",
      "text/plain": [
       "<Figure size 432x288 with 1 Axes>"
      ]
     },
     "metadata": {
      "needs_background": "light"
     },
     "output_type": "display_data"
    },
    {
     "name": "stdout",
     "output_type": "stream",
     "text": [
      "\t 19 [('usageMetric1', 1)]\n"
     ]
    },
    {
     "data": {
      "image/png": "[encoded data removed]",
      "text/plain": [
       "<Figure size 432x288 with 1 Axes>"
      ]
     },
     "metadata": {
      "needs_background": "light"
     },
     "output_type": "display_data"
    },
    {
     "name": "stdout",
     "output_type": "stream",
     "text": [
      "\t 20 [('usageMetric4', 1)]\n"
     ]
    },
    {
     "data": {
      "image/png": "[encoded data removed]",
      "text/plain": [
       "<Figure size 432x288 with 1 Axes>"
      ]
     },
     "metadata": {
      "needs_background": "light"
     },
     "output_type": "display_data"
    },
    {
     "name": "stdout",
     "output_type": "stream",
     "text": [
      "\t 21 [('usageMetric5', 1)]\n"
     ]
    },
    {
     "data": {
      "image/png": "[encoded data removed]",
      "text/plain": [
       "<Figure size 432x288 with 1 Axes>"
      ]
     },
     "metadata": {
      "needs_background": "light"
     },
     "output_type": "display_data"
    },
    {
     "name": "stdout",
     "output_type": "stream",
     "text": [
      "\n",
      "Categorical variables:  [1, 2, 3, 4, 5, 6, 7, 8, 9, 10, 11, 12, 13, 14, 15, 16, 17, 19, 20, 21]\n",
      "\n",
      "Mean estimation variables:  [18]\n",
      "\n",
      "Median estimation variables:  [0]\n",
      "\n",
      "Mode estimation variables:  [1, 2, 3, 4, 5, 6, 7, 8, 9, 10, 11, 12, 13, 14, 15, 16, 17, 19, 20, 21]\n"
     ]
    }
   ],
   "source": [
    "# Examine data\n",
    "print(\"Shape: \", df.shape)\n",
    "\n",
    "# Study data topography to determine best way to fill in missing values and place in appropriate container\n",
    "show_missing(df)\n",
    "print(\"\\nMost commmonly used values and distribution by column:\")\n",
    "for i in all_col_indices:\n",
    "    if df.iloc[:, [i]].isna().shape[0] > 0:\n",
    "        print(\"\\t\", i, Counter(df.iloc[:, [i]]).most_common(3))\n",
    "        \n",
    "        # Looking for outliers, if normal, can you mean, otherwise use median\n",
    "        plt.hist(df.iloc[:, [i]])    \n",
    "        plt.show()\n",
    "\n",
    "        # Sort columns by the type of missing value estimation best for it to use\n",
    "        if i in categoricals:\n",
    "            est_with_modes.append(i)\n",
    "        else:   # Anything not using median or mode will use mean\n",
    "            if i not in categoricals + est_with_means + est_with_medians + est_with_modes + est_excludes:\n",
    "                est_with_means.append(i)\n",
    "\n",
    "print(\"\\nCategorical variables: \", categoricals)\n",
    "print(\"\\nMean estimation variables: \", est_with_means)\n",
    "print(\"\\nMedian estimation variables: \", est_with_medians)\n",
    "print(\"\\nMode estimation variables: \", est_with_modes)"
   ]
  },
  {
   "cell_type": "code",
   "execution_count": 18,
   "metadata": {},
   "outputs": [
    {
     "name": "stdout",
     "output_type": "stream",
     "text": [
      "Number of missing values by column:\n"
     ]
    }
   ],
   "source": [
    "# Impute missing values\n",
    "for i in est_with_medians:\n",
    "    col_name = df.columns[i]\n",
    "    df[col_name] = df[col_name].fillna(df[col_name].median())\n",
    "    \n",
    "for i in est_with_means:\n",
    "    col_name = df.columns[i]\n",
    "    df[col_name] = df[col_name].fillna(df[col_name].mean())\n",
    "    \n",
    "for i in est_with_modes:\n",
    "    col_name = df.columns[i]\n",
    "    df[col_name] = df[col_name].fillna(df[col_name].mode()[0])\n",
    "    \n",
    "show_missing(df)  # Should display nothing"
   ]
  },
  {
   "cell_type": "code",
   "execution_count": 19,
   "metadata": {},
   "outputs": [
    {
     "data": {
      "image/png": "[encoded data removed]",
      "text/plain": [
       "<Figure size 432x288 with 2 Axes>"
      ]
     },
     "metadata": {
      "needs_background": "light"
     },
     "output_type": "display_data"
    }
   ],
   "source": [
    "# Plotting correlation heatmap\n",
    "xyz_corr = sb.heatmap(df.corr())\n",
    "  \n",
    "# Displaying heatmap\n",
    "plt.show()"
   ]
  },
  {
   "cell_type": "code",
   "execution_count": 20,
   "metadata": {},
   "outputs": [
    {
     "name": "stdout",
     "output_type": "stream",
     "text": [
      "Working dataframe...\n",
      "[[-0.39944777 -1.63092843 -0.28136172 ...  0.64487022 -0.41216968\n",
      "  -0.41761001]\n",
      " [ 1.56107502  1.55670217 -0.28136172 ...  0.64487022 -0.41216968\n",
      "  -0.41761001]\n",
      " [ 0.09068293 -0.79937262  3.55414373 ...  0.64487022 -0.41216968\n",
      "  -0.41761001]]\n",
      "0    0.0\n",
      "1    1.0\n",
      "2    1.0\n",
      "3    0.0\n",
      "4    1.0\n",
      "Name: EmployeeTargetedOverPastYear, dtype: float64\n"
     ]
    }
   ],
   "source": [
    "# Pre-train prep\n",
    "\n",
    "# Identify correlated features\n",
    "corr_features = [col_redteam, col_peer5, col_fraud, col_sat, col_gender]\n",
    "\n",
    "# Split target from features and drop unused columns\n",
    "drop_columnns = []\n",
    "df = df.drop(drop_columnns, axis=1)\n",
    "\n",
    "X = df.iloc[:, df.columns != target]  # All except target column\n",
    "y = df.iloc[:, target]  # Target column\n",
    "\n",
    "# One hot encode the categoricals\n",
    "for column in categoricals:\n",
    "    column_title = str(df.columns[column])\n",
    "    ohe = pd.get_dummies(df[column_title], prefix=column_title)\n",
    "    X = X.drop([column_title], axis=1)\n",
    "    X = pd.concat([X, ohe], axis=1)  # Merge the continuous and one-hot frames together\n",
    "\n",
    "# Standardize the data\n",
    "scaler = StandardScaler()\n",
    "scaler.fit(X)\n",
    "X = scaler.transform(X)\n",
    "\n",
    "# Split the data\n",
    "X_train, X_test, y_train, y_test = train_test_split(X, y, test_size=0.20, random_state=14)\n",
    "    \n",
    "print(r\"Working dataframe...\")\n",
    "print(X[:3])\n",
    "print(y.head())"
   ]
  },
  {
   "cell_type": "code",
   "execution_count": 21,
   "metadata": {},
   "outputs": [],
   "source": [
    "# Save data\n",
    "import pickle\n",
    "\n",
    "cleanDataFilename = r\"clean_data.pkl\"\n",
    "os.chdir(wd)\n",
    "\n",
    "cleanData = (X, y, X_train, X_test, y_train, y_test)\n",
    "\n",
    "cleanDataFile = open(cleanDataFilename, 'wb')\n",
    "pickle.dump(cleanData, cleanDataFile)\n",
    "cleanDataFile.close()"
   ]
  },
  {
   "cell_type": "code",
   "execution_count": 22,
   "metadata": {},
   "outputs": [
    {
     "name": "stdout",
     "output_type": "stream",
     "text": [
      "[[-0.39944777 -1.63092843 -0.28136172 ...  0.64487022 -0.41216968\n",
      "  -0.41761001]\n",
      " [ 1.56107502  1.55670217 -0.28136172 ...  0.64487022 -0.41216968\n",
      "  -0.41761001]\n",
      " [ 0.09068293 -0.79937262  3.55414373 ...  0.64487022 -0.41216968\n",
      "  -0.41761001]]\n",
      "0    0.0\n",
      "1    1.0\n",
      "2    1.0\n",
      "3    0.0\n",
      "4    1.0\n",
      "Name: EmployeeTargetedOverPastYear, dtype: float64\n"
     ]
    }
   ],
   "source": [
    "# Load data\n",
    "import pickle\n",
    "\n",
    "cleanDataFilename = r\"clean_data.pkl\"\n",
    "os.chdir(wd)\n",
    "\n",
    "cleanDataFile = open(cleanDataFilename, 'rb')\n",
    "cleanData = pickle.load(cleanDataFile)\n",
    "cleanDataFile.close()\n",
    "\n",
    "X, y, X_train, X_test, y_train, y_test = cleanData\n",
    "print(X[:3])\n",
    "print(y.head())"
   ]
  },
  {
   "cell_type": "code",
   "execution_count": 111,
   "metadata": {},
   "outputs": [],
   "source": [
    "# The models and their parameter permutations to be examined\n",
    "models = [\n",
    "    { \n",
    "        \"model\" : [RandomForestClassifier()],\n",
    "        \"name\" : \"Random Forest\",\n",
    "        \"params\" : \n",
    "        {\n",
    "            \"n_estimators\"        : [200],\n",
    "            \"max_features\"        : [\"sqrt\", \"log2\"],\n",
    "            \"bootstrap\"           : [False, True],\n",
    "            \"criterion\"           : ['gini', 'entropy'],\n",
    "            \"oob_score\"           : [True, False],\n",
    "            \"max_depth\"           : [None, 6, 8, 10],\n",
    "            \"max_leaf_nodes\"      : [None, 5, 10, 20],\n",
    "            \"min_impurity_split\"  : [0.1, 0.2, 0.3]\n",
    "        }\n",
    "    },\n",
    "    { \n",
    "        \"model\" : [lm.RidgeClassifier()],\n",
    "        \"name\" : \"Ridge Regression\",\n",
    "        \"params\" : \n",
    "        {\n",
    "            \"alpha\"                : [0.1, 0.3, 0.5, 1.0],\n",
    "            \"fit_intercept\"        : [False],  # Data should already be normalized\n",
    "            \"solver\"               : ['svd', 'cholesky', 'lsqr', 'sparse_cg', 'sag', 'saga']\n",
    "        }\n",
    "    },\n",
    "    { \n",
    "        \"model\" : [lm.LogisticRegression()],\n",
    "        \"name\" : \"Logistic Regression\",\n",
    "        \"params\" : \n",
    "        {\n",
    "            \"penalty\"              : ['l1', 'l2', 'elasticnet', 'none'],\n",
    "            \"C\"                    : [0.001, 0.1, 1, 10, 100, 10e5],\n",
    "            \"fit_intercept\"        : [False],  # Data should already be normalized\n",
    "            \"solver\"               : ['newton-cg', 'lbfgs', 'liblinear', 'sag', 'saga'],\n",
    "            \"l1_ratio\"             : [0.0, 0.2, 0.4, 0.6, 0.8, 1.0]\n",
    "       }\n",
    "    },\n",
    "    { \n",
    "        \"model\" : [lm.PassiveAggressiveClassifier()],\n",
    "        \"name\" : \"Passive Aggressive\",\n",
    "        \"params\" : \n",
    "        {\n",
    "            \"fit_intercept\"        : [False],  # Data should already be normalized\n",
    "            \"C\"                    : [0.001, 0.1, 1, 10, 100, 10e5],\n",
    "            \"early_stopping\"       : [True]\n",
    "        }\n",
    "    },\n",
    "    { \n",
    "        \"model\" : [DecisionTreeClassifier()],\n",
    "        \"name\" : \"Decision Tree\",\n",
    "        \"params\" : \n",
    "        {\n",
    "            \"criterion\"            : ['gini','entropy'],\n",
    "            \"splitter\"             : ['best','random'],\n",
    "            \"class_weight\"         : ['balanced', None],\n",
    "            \"max_depth\"            : [None, 6, 8, 10],\n",
    "            \"max_features\"         : [\"sqrt\", \"log2\"]\n",
    "        }\n",
    "    },\n",
    "    { \n",
    "        \"model\" : [LinearSVC()],  # Regular SVC is not practical for this much data\n",
    "        \"name\" : \"Support Vector Machine\",\n",
    "        \"params\" : \n",
    "        {\n",
    "            \"C\"                     : [0.001, 0.1, 1, 10, 100, 10e5],\n",
    "            \"class_weight\"          : ['balanced'],\n",
    "            \"probability\"           : [True],\n",
    "            \"penalty\"               : ['l1', 'l2'],\n",
    "            \"loss\"                  : ['hinge', 'squared_hinge'],\n",
    "            \"fit_intercept\"         : [False] # Data should already be normalized\n",
    "        }\n",
    "    },\n",
    "    { \n",
    "        \"model\" : [AdaBoostClassifier()],\n",
    "        \"name\" : \"Ada Boost\",\n",
    "        \"params\" : \n",
    "        {\n",
    "            \"n_estimators\"          : [50, 100],\n",
    "            \"learning_rate\"         : [0.01, 0.05, 0.1, 0.5]\n",
    "        }\n",
    "    },\n",
    "    { \n",
    "        \"model\" : [lm.SGDClassifier()],\n",
    "        \"name\" : \"Stochastic Gradient Descent\",\n",
    "        \"params\" : \n",
    "        {\n",
    "            \"alpha\"                 : [0.00001, 0.000001],\n",
    "            \"penalty\"               : ['l1', 'l2', 'elasticnet'],\n",
    "            \"n_iter\"                : [10, 50, 80],\n",
    "            \"l1_ratio\"              : [0.0, 0.2, 0.4, 0.6, 0.8, 1.0],\n",
    "            \"fit_intercept\"         : [False]  # Data should already be normalized\n",
    "        }\n",
    "    },\n",
    "    { \n",
    "        \"model\" : [LGBMClassifier()],\n",
    "        \"name\" : \"Gradient Boosted Decision Trees (LGBM)\",\n",
    "        \"params\" : \n",
    "        {\n",
    "            \"boosting\"               : ['gbdt', 'rf', 'dart', 'goss'],\n",
    "            \"max_depth\"              : range (2, 10, 1),\n",
    "            \"learning_rate\"          : [0.1, 0.01, 0.05]\n",
    "        }\n",
    "    },\n",
    "    { \n",
    "        \"model\" : [XGBClassifier()],\n",
    "        \"name\" : \"Extreme Gradient Boosting (XGB)\",\n",
    "        \"params\" : \n",
    "        {\n",
    "            \"max_depth\"              : range (2, 10, 1),\n",
    "            \"n_estimators\"           : range(60, 220, 40),\n",
    "            \"learning_rate\"          : [0.1, 0.01, 0.05]\n",
    "        }\n",
    "    },\n",
    "    { \n",
    "        \"model\" : [MLPClassifier()],\n",
    "        \"name\" : \"Multilayer Perceptron\",\n",
    "        \"params\" : \n",
    "        {\n",
    "            \"alpha\"                  : [0.001, 0.1, 1, 10, 100],\n",
    "            \"activation\"             : ['identity', 'logistic', 'tanh', 'relu'],\n",
    "            \"solver\"                 : ['lbfgs', 'sgd', 'adam'],\n",
    "            \"learning_rate\"          : ['constant', 'invscaling', 'adaptive'],\n",
    "            \"early_stopping\"         : [True] \n",
    "        }\n",
    "    }]"
   ]
  },
  {
   "cell_type": "code",
   "execution_count": 112,
   "metadata": {
    "scrolled": true
   },
   "outputs": [
    {
     "name": "stdout",
     "output_type": "stream",
     "text": [
      "Grid search on Random Forest\n",
      "Fitting 5 folds for each of 768 candidates, totalling 3840 fits\n"
     ]
    },
    {
     "name": "stderr",
     "output_type": "stream",
     "text": [
      "[Parallel(n_jobs=-1)]: Using backend LokyBackend with 8 concurrent workers.\n",
      "[Parallel(n_jobs=-1)]: Done   9 tasks      | elapsed:    5.2s\n",
      "[Parallel(n_jobs=-1)]: Done  82 tasks      | elapsed:  1.4min\n",
      "[Parallel(n_jobs=-1)]: Done 205 tasks      | elapsed:  3.1min\n",
      "[Parallel(n_jobs=-1)]: Done 376 tasks      | elapsed:  5.2min\n"
     ]
    },
    {
     "ename": "KeyboardInterrupt",
     "evalue": "",
     "output_type": "error",
     "traceback": [
      "\u001b[1;31m---------------------------------------------------------------------------\u001b[0m",
      "\u001b[1;31mKeyboardInterrupt\u001b[0m                         Traceback (most recent call last)",
      "\u001b[1;32m<ipython-input-112-7ba66b7a7c18>\u001b[0m in \u001b[0;36m<module>\u001b[1;34m\u001b[0m\n\u001b[0;32m     17\u001b[0m     \u001b[1;31m# Grid search many potential models and parameters to find optimal fit and save the boss some $$$\u001b[0m\u001b[1;33m\u001b[0m\u001b[1;33m\u001b[0m\u001b[1;33m\u001b[0m\u001b[0m\n\u001b[0;32m     18\u001b[0m     \u001b[0mgrid\u001b[0m \u001b[1;33m=\u001b[0m \u001b[0mGridSearchCV\u001b[0m\u001b[1;33m(\u001b[0m\u001b[0mclf\u001b[0m\u001b[1;33m,\u001b[0m \u001b[0mparam_grid\u001b[0m\u001b[1;33m=\u001b[0m\u001b[0mmodel\u001b[0m\u001b[1;33m[\u001b[0m\u001b[1;34m'params'\u001b[0m\u001b[1;33m]\u001b[0m\u001b[1;33m,\u001b[0m \u001b[0mscoring\u001b[0m\u001b[1;33m=\u001b[0m\u001b[0mcustom_scorer\u001b[0m\u001b[1;33m,\u001b[0m \u001b[0mcv\u001b[0m\u001b[1;33m=\u001b[0m\u001b[1;36m5\u001b[0m\u001b[1;33m,\u001b[0m \u001b[0mn_jobs\u001b[0m\u001b[1;33m=\u001b[0m\u001b[1;33m-\u001b[0m\u001b[1;36m1\u001b[0m\u001b[1;33m,\u001b[0m \u001b[0mverbose\u001b[0m\u001b[1;33m=\u001b[0m\u001b[1;36m4\u001b[0m\u001b[1;33m)\u001b[0m\u001b[1;33m\u001b[0m\u001b[1;33m\u001b[0m\u001b[0m\n\u001b[1;32m---> 19\u001b[1;33m     \u001b[0mgrid\u001b[0m\u001b[1;33m.\u001b[0m\u001b[0mfit\u001b[0m\u001b[1;33m(\u001b[0m\u001b[0mX_train\u001b[0m\u001b[1;33m,\u001b[0m \u001b[0my_train\u001b[0m\u001b[1;33m.\u001b[0m\u001b[0mvalues\u001b[0m\u001b[1;33m.\u001b[0m\u001b[0mravel\u001b[0m\u001b[1;33m(\u001b[0m\u001b[1;33m)\u001b[0m\u001b[1;33m)\u001b[0m\u001b[1;33m\u001b[0m\u001b[1;33m\u001b[0m\u001b[0m\n\u001b[0m\u001b[0;32m     20\u001b[0m \u001b[1;33m\u001b[0m\u001b[0m\n\u001b[0;32m     21\u001b[0m     \u001b[1;31m# Get metrics of interest for report\u001b[0m\u001b[1;33m\u001b[0m\u001b[1;33m\u001b[0m\u001b[1;33m\u001b[0m\u001b[0m\n",
      "\u001b[1;32m~\\AppData\\Roaming\\Python\\Python37\\site-packages\\sklearn\\utils\\validation.py\u001b[0m in \u001b[0;36minner_f\u001b[1;34m(*args, **kwargs)\u001b[0m\n\u001b[0;32m     71\u001b[0m                           FutureWarning)\n\u001b[0;32m     72\u001b[0m         \u001b[0mkwargs\u001b[0m\u001b[1;33m.\u001b[0m\u001b[0mupdate\u001b[0m\u001b[1;33m(\u001b[0m\u001b[1;33m{\u001b[0m\u001b[0mk\u001b[0m\u001b[1;33m:\u001b[0m \u001b[0marg\u001b[0m \u001b[1;32mfor\u001b[0m \u001b[0mk\u001b[0m\u001b[1;33m,\u001b[0m \u001b[0marg\u001b[0m \u001b[1;32min\u001b[0m \u001b[0mzip\u001b[0m\u001b[1;33m(\u001b[0m\u001b[0msig\u001b[0m\u001b[1;33m.\u001b[0m\u001b[0mparameters\u001b[0m\u001b[1;33m,\u001b[0m \u001b[0margs\u001b[0m\u001b[1;33m)\u001b[0m\u001b[1;33m}\u001b[0m\u001b[1;33m)\u001b[0m\u001b[1;33m\u001b[0m\u001b[1;33m\u001b[0m\u001b[0m\n\u001b[1;32m---> 73\u001b[1;33m         \u001b[1;32mreturn\u001b[0m \u001b[0mf\u001b[0m\u001b[1;33m(\u001b[0m\u001b[1;33m**\u001b[0m\u001b[0mkwargs\u001b[0m\u001b[1;33m)\u001b[0m\u001b[1;33m\u001b[0m\u001b[1;33m\u001b[0m\u001b[0m\n\u001b[0m\u001b[0;32m     74\u001b[0m     \u001b[1;32mreturn\u001b[0m \u001b[0minner_f\u001b[0m\u001b[1;33m\u001b[0m\u001b[1;33m\u001b[0m\u001b[0m\n\u001b[0;32m     75\u001b[0m \u001b[1;33m\u001b[0m\u001b[0m\n",
      "\u001b[1;32m~\\AppData\\Roaming\\Python\\Python37\\site-packages\\sklearn\\model_selection\\_search.py\u001b[0m in \u001b[0;36mfit\u001b[1;34m(self, X, y, groups, **fit_params)\u001b[0m\n\u001b[0;32m    734\u001b[0m                 \u001b[1;32mreturn\u001b[0m \u001b[0mresults\u001b[0m\u001b[1;33m\u001b[0m\u001b[1;33m\u001b[0m\u001b[0m\n\u001b[0;32m    735\u001b[0m \u001b[1;33m\u001b[0m\u001b[0m\n\u001b[1;32m--> 736\u001b[1;33m             \u001b[0mself\u001b[0m\u001b[1;33m.\u001b[0m\u001b[0m_run_search\u001b[0m\u001b[1;33m(\u001b[0m\u001b[0mevaluate_candidates\u001b[0m\u001b[1;33m)\u001b[0m\u001b[1;33m\u001b[0m\u001b[1;33m\u001b[0m\u001b[0m\n\u001b[0m\u001b[0;32m    737\u001b[0m \u001b[1;33m\u001b[0m\u001b[0m\n\u001b[0;32m    738\u001b[0m         \u001b[1;31m# For multi-metric evaluation, store the best_index_, best_params_ and\u001b[0m\u001b[1;33m\u001b[0m\u001b[1;33m\u001b[0m\u001b[1;33m\u001b[0m\u001b[0m\n",
      "\u001b[1;32m~\\AppData\\Roaming\\Python\\Python37\\site-packages\\sklearn\\model_selection\\_search.py\u001b[0m in \u001b[0;36m_run_search\u001b[1;34m(self, evaluate_candidates)\u001b[0m\n\u001b[0;32m   1186\u001b[0m     \u001b[1;32mdef\u001b[0m \u001b[0m_run_search\u001b[0m\u001b[1;33m(\u001b[0m\u001b[0mself\u001b[0m\u001b[1;33m,\u001b[0m \u001b[0mevaluate_candidates\u001b[0m\u001b[1;33m)\u001b[0m\u001b[1;33m:\u001b[0m\u001b[1;33m\u001b[0m\u001b[1;33m\u001b[0m\u001b[0m\n\u001b[0;32m   1187\u001b[0m         \u001b[1;34m\"\"\"Search all candidates in param_grid\"\"\"\u001b[0m\u001b[1;33m\u001b[0m\u001b[1;33m\u001b[0m\u001b[0m\n\u001b[1;32m-> 1188\u001b[1;33m         \u001b[0mevaluate_candidates\u001b[0m\u001b[1;33m(\u001b[0m\u001b[0mParameterGrid\u001b[0m\u001b[1;33m(\u001b[0m\u001b[0mself\u001b[0m\u001b[1;33m.\u001b[0m\u001b[0mparam_grid\u001b[0m\u001b[1;33m)\u001b[0m\u001b[1;33m)\u001b[0m\u001b[1;33m\u001b[0m\u001b[1;33m\u001b[0m\u001b[0m\n\u001b[0m\u001b[0;32m   1189\u001b[0m \u001b[1;33m\u001b[0m\u001b[0m\n\u001b[0;32m   1190\u001b[0m \u001b[1;33m\u001b[0m\u001b[0m\n",
      "\u001b[1;32m~\\AppData\\Roaming\\Python\\Python37\\site-packages\\sklearn\\model_selection\\_search.py\u001b[0m in \u001b[0;36mevaluate_candidates\u001b[1;34m(candidate_params)\u001b[0m\n\u001b[0;32m    713\u001b[0m                                \u001b[1;32mfor\u001b[0m \u001b[0mparameters\u001b[0m\u001b[1;33m,\u001b[0m \u001b[1;33m(\u001b[0m\u001b[0mtrain\u001b[0m\u001b[1;33m,\u001b[0m \u001b[0mtest\u001b[0m\u001b[1;33m)\u001b[0m\u001b[1;33m\u001b[0m\u001b[1;33m\u001b[0m\u001b[0m\n\u001b[0;32m    714\u001b[0m                                in product(candidate_params,\n\u001b[1;32m--> 715\u001b[1;33m                                           cv.split(X, y, groups)))\n\u001b[0m\u001b[0;32m    716\u001b[0m \u001b[1;33m\u001b[0m\u001b[0m\n\u001b[0;32m    717\u001b[0m                 \u001b[1;32mif\u001b[0m \u001b[0mlen\u001b[0m\u001b[1;33m(\u001b[0m\u001b[0mout\u001b[0m\u001b[1;33m)\u001b[0m \u001b[1;33m<\u001b[0m \u001b[1;36m1\u001b[0m\u001b[1;33m:\u001b[0m\u001b[1;33m\u001b[0m\u001b[1;33m\u001b[0m\u001b[0m\n",
      "\u001b[1;32m~\\AppData\\Roaming\\Python\\Python37\\site-packages\\joblib\\parallel.py\u001b[0m in \u001b[0;36m__call__\u001b[1;34m(self, iterable)\u001b[0m\n\u001b[0;32m   1040\u001b[0m \u001b[1;33m\u001b[0m\u001b[0m\n\u001b[0;32m   1041\u001b[0m             \u001b[1;32mwith\u001b[0m \u001b[0mself\u001b[0m\u001b[1;33m.\u001b[0m\u001b[0m_backend\u001b[0m\u001b[1;33m.\u001b[0m\u001b[0mretrieval_context\u001b[0m\u001b[1;33m(\u001b[0m\u001b[1;33m)\u001b[0m\u001b[1;33m:\u001b[0m\u001b[1;33m\u001b[0m\u001b[1;33m\u001b[0m\u001b[0m\n\u001b[1;32m-> 1042\u001b[1;33m                 \u001b[0mself\u001b[0m\u001b[1;33m.\u001b[0m\u001b[0mretrieve\u001b[0m\u001b[1;33m(\u001b[0m\u001b[1;33m)\u001b[0m\u001b[1;33m\u001b[0m\u001b[1;33m\u001b[0m\u001b[0m\n\u001b[0m\u001b[0;32m   1043\u001b[0m             \u001b[1;31m# Make sure that we get a last message telling us we are done\u001b[0m\u001b[1;33m\u001b[0m\u001b[1;33m\u001b[0m\u001b[1;33m\u001b[0m\u001b[0m\n\u001b[0;32m   1044\u001b[0m             \u001b[0melapsed_time\u001b[0m \u001b[1;33m=\u001b[0m \u001b[0mtime\u001b[0m\u001b[1;33m.\u001b[0m\u001b[0mtime\u001b[0m\u001b[1;33m(\u001b[0m\u001b[1;33m)\u001b[0m \u001b[1;33m-\u001b[0m \u001b[0mself\u001b[0m\u001b[1;33m.\u001b[0m\u001b[0m_start_time\u001b[0m\u001b[1;33m\u001b[0m\u001b[1;33m\u001b[0m\u001b[0m\n",
      "\u001b[1;32m~\\AppData\\Roaming\\Python\\Python37\\site-packages\\joblib\\parallel.py\u001b[0m in \u001b[0;36mretrieve\u001b[1;34m(self)\u001b[0m\n\u001b[0;32m    919\u001b[0m             \u001b[1;32mtry\u001b[0m\u001b[1;33m:\u001b[0m\u001b[1;33m\u001b[0m\u001b[1;33m\u001b[0m\u001b[0m\n\u001b[0;32m    920\u001b[0m                 \u001b[1;32mif\u001b[0m \u001b[0mgetattr\u001b[0m\u001b[1;33m(\u001b[0m\u001b[0mself\u001b[0m\u001b[1;33m.\u001b[0m\u001b[0m_backend\u001b[0m\u001b[1;33m,\u001b[0m \u001b[1;34m'supports_timeout'\u001b[0m\u001b[1;33m,\u001b[0m \u001b[1;32mFalse\u001b[0m\u001b[1;33m)\u001b[0m\u001b[1;33m:\u001b[0m\u001b[1;33m\u001b[0m\u001b[1;33m\u001b[0m\u001b[0m\n\u001b[1;32m--> 921\u001b[1;33m                     \u001b[0mself\u001b[0m\u001b[1;33m.\u001b[0m\u001b[0m_output\u001b[0m\u001b[1;33m.\u001b[0m\u001b[0mextend\u001b[0m\u001b[1;33m(\u001b[0m\u001b[0mjob\u001b[0m\u001b[1;33m.\u001b[0m\u001b[0mget\u001b[0m\u001b[1;33m(\u001b[0m\u001b[0mtimeout\u001b[0m\u001b[1;33m=\u001b[0m\u001b[0mself\u001b[0m\u001b[1;33m.\u001b[0m\u001b[0mtimeout\u001b[0m\u001b[1;33m)\u001b[0m\u001b[1;33m)\u001b[0m\u001b[1;33m\u001b[0m\u001b[1;33m\u001b[0m\u001b[0m\n\u001b[0m\u001b[0;32m    922\u001b[0m                 \u001b[1;32melse\u001b[0m\u001b[1;33m:\u001b[0m\u001b[1;33m\u001b[0m\u001b[1;33m\u001b[0m\u001b[0m\n\u001b[0;32m    923\u001b[0m                     \u001b[0mself\u001b[0m\u001b[1;33m.\u001b[0m\u001b[0m_output\u001b[0m\u001b[1;33m.\u001b[0m\u001b[0mextend\u001b[0m\u001b[1;33m(\u001b[0m\u001b[0mjob\u001b[0m\u001b[1;33m.\u001b[0m\u001b[0mget\u001b[0m\u001b[1;33m(\u001b[0m\u001b[1;33m)\u001b[0m\u001b[1;33m)\u001b[0m\u001b[1;33m\u001b[0m\u001b[1;33m\u001b[0m\u001b[0m\n",
      "\u001b[1;32m~\\AppData\\Roaming\\Python\\Python37\\site-packages\\joblib\\_parallel_backends.py\u001b[0m in \u001b[0;36mwrap_future_result\u001b[1;34m(future, timeout)\u001b[0m\n\u001b[0;32m    538\u001b[0m         AsyncResults.get from multiprocessing.\"\"\"\n\u001b[0;32m    539\u001b[0m         \u001b[1;32mtry\u001b[0m\u001b[1;33m:\u001b[0m\u001b[1;33m\u001b[0m\u001b[1;33m\u001b[0m\u001b[0m\n\u001b[1;32m--> 540\u001b[1;33m             \u001b[1;32mreturn\u001b[0m \u001b[0mfuture\u001b[0m\u001b[1;33m.\u001b[0m\u001b[0mresult\u001b[0m\u001b[1;33m(\u001b[0m\u001b[0mtimeout\u001b[0m\u001b[1;33m=\u001b[0m\u001b[0mtimeout\u001b[0m\u001b[1;33m)\u001b[0m\u001b[1;33m\u001b[0m\u001b[1;33m\u001b[0m\u001b[0m\n\u001b[0m\u001b[0;32m    541\u001b[0m         \u001b[1;32mexcept\u001b[0m \u001b[0mCfTimeoutError\u001b[0m\u001b[1;33m:\u001b[0m\u001b[1;33m\u001b[0m\u001b[1;33m\u001b[0m\u001b[0m\n\u001b[0;32m    542\u001b[0m             \u001b[1;32mraise\u001b[0m \u001b[0mTimeoutError\u001b[0m\u001b[1;33m(\u001b[0m\u001b[1;33m)\u001b[0m\u001b[1;33m\u001b[0m\u001b[1;33m\u001b[0m\u001b[0m\n",
      "\u001b[1;32m~\\.conda\\envs\\pywritesmooth\\lib\\concurrent\\futures\\_base.py\u001b[0m in \u001b[0;36mresult\u001b[1;34m(self, timeout)\u001b[0m\n\u001b[0;32m    428\u001b[0m                 \u001b[1;32mreturn\u001b[0m \u001b[0mself\u001b[0m\u001b[1;33m.\u001b[0m\u001b[0m__get_result\u001b[0m\u001b[1;33m(\u001b[0m\u001b[1;33m)\u001b[0m\u001b[1;33m\u001b[0m\u001b[1;33m\u001b[0m\u001b[0m\n\u001b[0;32m    429\u001b[0m \u001b[1;33m\u001b[0m\u001b[0m\n\u001b[1;32m--> 430\u001b[1;33m             \u001b[0mself\u001b[0m\u001b[1;33m.\u001b[0m\u001b[0m_condition\u001b[0m\u001b[1;33m.\u001b[0m\u001b[0mwait\u001b[0m\u001b[1;33m(\u001b[0m\u001b[0mtimeout\u001b[0m\u001b[1;33m)\u001b[0m\u001b[1;33m\u001b[0m\u001b[1;33m\u001b[0m\u001b[0m\n\u001b[0m\u001b[0;32m    431\u001b[0m \u001b[1;33m\u001b[0m\u001b[0m\n\u001b[0;32m    432\u001b[0m             \u001b[1;32mif\u001b[0m \u001b[0mself\u001b[0m\u001b[1;33m.\u001b[0m\u001b[0m_state\u001b[0m \u001b[1;32min\u001b[0m \u001b[1;33m[\u001b[0m\u001b[0mCANCELLED\u001b[0m\u001b[1;33m,\u001b[0m \u001b[0mCANCELLED_AND_NOTIFIED\u001b[0m\u001b[1;33m]\u001b[0m\u001b[1;33m:\u001b[0m\u001b[1;33m\u001b[0m\u001b[1;33m\u001b[0m\u001b[0m\n",
      "\u001b[1;32m~\\.conda\\envs\\pywritesmooth\\lib\\threading.py\u001b[0m in \u001b[0;36mwait\u001b[1;34m(self, timeout)\u001b[0m\n\u001b[0;32m    294\u001b[0m         \u001b[1;32mtry\u001b[0m\u001b[1;33m:\u001b[0m    \u001b[1;31m# restore state no matter what (e.g., KeyboardInterrupt)\u001b[0m\u001b[1;33m\u001b[0m\u001b[1;33m\u001b[0m\u001b[0m\n\u001b[0;32m    295\u001b[0m             \u001b[1;32mif\u001b[0m \u001b[0mtimeout\u001b[0m \u001b[1;32mis\u001b[0m \u001b[1;32mNone\u001b[0m\u001b[1;33m:\u001b[0m\u001b[1;33m\u001b[0m\u001b[1;33m\u001b[0m\u001b[0m\n\u001b[1;32m--> 296\u001b[1;33m                 \u001b[0mwaiter\u001b[0m\u001b[1;33m.\u001b[0m\u001b[0macquire\u001b[0m\u001b[1;33m(\u001b[0m\u001b[1;33m)\u001b[0m\u001b[1;33m\u001b[0m\u001b[1;33m\u001b[0m\u001b[0m\n\u001b[0m\u001b[0;32m    297\u001b[0m                 \u001b[0mgotit\u001b[0m \u001b[1;33m=\u001b[0m \u001b[1;32mTrue\u001b[0m\u001b[1;33m\u001b[0m\u001b[1;33m\u001b[0m\u001b[0m\n\u001b[0;32m    298\u001b[0m             \u001b[1;32melse\u001b[0m\u001b[1;33m:\u001b[0m\u001b[1;33m\u001b[0m\u001b[1;33m\u001b[0m\u001b[0m\n",
      "\u001b[1;31mKeyboardInterrupt\u001b[0m: "
     ]
    }
   ],
   "source": [
    "# Grid search for optimal model and parameters\n",
    "\n",
    "\n",
    "# Minimize false positive = maximize precision\n",
    "# Minimize false negative = maximize recall\n",
    "# F-beta is weighted harmonic mean of preicision and recall, so weight ratio recall:precision is 5:1\n",
    "custom_scorer = make_scorer(fbeta_score, beta=5)\n",
    "\n",
    "results=[]\n",
    "\n",
    "for model in models:\n",
    "\n",
    "    # Classifier\n",
    "    clf = model['model'][0]\n",
    "    print(\"Grid search on\", model['name'])\n",
    "\n",
    "    # Grid search many potential models and parameters to find optimal fit and save the boss some $$$\n",
    "    grid = GridSearchCV(clf, param_grid=model['params'], scoring=custom_scorer, cv=5, n_jobs=-1, verbose=4)\n",
    "    grid.fit(X_train, y_train.values.ravel())\n",
    "    \n",
    "    # Get metrics of interest for report\n",
    "    y_pred = grid.predict(X_test)\n",
    "    pre = precision_score(y_test, y_pred)\n",
    "    rec = recall_score(y_test, y_pred)\n",
    "    CM = confusion_matrix(y_test, y_pred)\n",
    "\n",
    "    # Results for later comparison\n",
    "    results.append(\n",
    "        {\n",
    "            'name'       : model['name'],\n",
    "            'grid'       : grid,\n",
    "            'classifier' : grid.best_estimator_,\n",
    "            'best score' : grid.best_score_,\n",
    "            'best params': grid.best_params_,\n",
    "            'precision'  : pre,\n",
    "            'recall'     : rec,\n",
    "            'TN'         : CM[0][0],\n",
    "            'FN'         : CM[1][0],\n",
    "            'TP'         : CM[1][1],\n",
    "            'FP'         : CM[0][1],\n",
    "            'cv'         : grid.cv\n",
    "        })\n",
    "\n",
    "# Sort result by best score\n",
    "results = sorted(results, key=lambda x: x['best score'],reverse=True)"
   ]
  },
  {
   "cell_type": "code",
   "execution_count": 146,
   "metadata": {},
   "outputs": [
    {
     "data": {
      "image/png": "[encoded data removed]",
      "text/plain": [
       "<Figure size 432x288 with 1 Axes>"
      ]
     },
     "metadata": {
      "needs_background": "light"
     },
     "output_type": "display_data"
    }
   ],
   "source": [
    "# Create a bar chart to illustrate the most important metric according to the business owner - cost\n",
    "\n",
    "cost = []\n",
    "xlabels = []\n",
    "for result in results:\n",
    "    FP = result['FP']\n",
    "    FN = result['FN']\n",
    "    TP = result['TP']\n",
    "    TN = result['TN']\n",
    "    score = result['best score']\n",
    "    loss = (FP + 5*FN)\n",
    "    cost.append((result['name'], loss))\n",
    "    \n",
    "# Plot the results neatly\n",
    "cost.sort(key = lambda x: x[1])\n",
    "xlabels = [x[0] for x in cost]\n",
    "costvals = [x[1] for x in cost]\n",
    "\n",
    "N = len(cost)\n",
    "ind = np.arange(N)    # X locations for the groups\n",
    "\n",
    "p = plt.bar(ind, costvals)\n",
    "\n",
    "plt.ylabel('Loss')\n",
    "plt.title('Estimated Loss by Model')\n",
    "plt.xticks(ind, xlabels, rotation = 90)\n",
    "\n",
    "plt.show()"
   ]
  },
  {
   "cell_type": "code",
   "execution_count": null,
   "metadata": {},
   "outputs": [],
   "source": [
    "import glob, pickle\n",
    "\n",
    "p =  r\"C:\\Code\\EdwardFryDataScienceChallenge\\Results\"\n",
    "os.chdir(p)\n",
    "\n",
    "pick = glob.glob(r\"*.pkl\")\n",
    "print(pick)\n",
    "\n",
    "results = []\n",
    "for result in pick:\n",
    "    try:\n",
    "        file = open(result, 'rb')\n",
    "        r = pickle.load(file)\n",
    "        file.close()\n",
    "        results.append(r[0])\n",
    "    except:\n",
    "        pass\n",
    "    \n",
    "[print(r['name']) for r in results]"
   ]
  },
  {
   "cell_type": "code",
   "execution_count": 148,
   "metadata": {},
   "outputs": [
    {
     "name": "stdout",
     "output_type": "stream",
     "text": [
      "Optimal parameters\n",
      "==================\n",
      "Ada Boost\n",
      "\t learning_rate : 0.5\n",
      "\t n_estimators : 100\n",
      "Decision Tree\n",
      "\t class_weight : balanced\n",
      "\t criterion : gini\n",
      "\t max_depth : 10\n",
      "\t max_features : sqrt\n",
      "\t splitter : best\n",
      "Gradient Boosted Decision Trees (LGBM)\n",
      "\t boosting : goss\n",
      "\t learning_rate : 0.1\n",
      "\t max_depth : 9\n",
      "Support Vector Machine\n",
      "\t C : 0.1\n",
      "\t class_weight : balanced\n",
      "\t fit_intercept : False\n",
      "\t loss : hinge\n",
      "\t penalty : l2\n",
      "Logistic Regression\n",
      "\t C : 10\n",
      "\t fit_intercept : False\n",
      "\t l1_ratio : 0.0\n",
      "\t penalty : l2\n",
      "\t solver : lbfgs\n",
      "Multilayer Perceptron\n",
      "\t activation : logistic\n",
      "\t alpha : 10\n",
      "\t early_stopping : True\n",
      "\t learning_rate : invscaling\n",
      "\t solver : lbfgs\n",
      "Passive Aggressive\n",
      "\t C : 0.001\n",
      "\t early_stopping : True\n",
      "\t fit_intercept : False\n",
      "Random Forest\n",
      "\t bootstrap : True\n",
      "\t criterion : entropy\n",
      "\t max_depth : None\n",
      "\t max_features : sqrt\n",
      "\t max_leaf_nodes : None\n",
      "\t n_estimators : 200\n",
      "\t oob_score : False\n",
      "Ridge Regression\n",
      "\t alpha : 0.5\n",
      "\t fit_intercept : False\n",
      "\t solver : auto\n",
      "Stochastic Gradient Descent\n",
      "\t alpha : 1e-05\n",
      "\t fit_intercept : False\n",
      "\t l1_ratio : 0.8\n",
      "\t penalty : elasticnet\n",
      "Extreme Gradient Boosting (XGB)\n",
      "\t learning_rate : 0.1\n",
      "\t max_depth : 9\n",
      "\t n_estimators : 180\n"
     ]
    }
   ],
   "source": [
    "# Print out the final top parameters for each model\n",
    "\n",
    "title = \"Optimal parameters\"\n",
    "print(title)\n",
    "print('='*len(title))\n",
    "\n",
    "for r in results:\n",
    "    print(r['name'])\n",
    "    \n",
    "    for i, (k, v) in enumerate(r['best params'].items()):\n",
    "        print('\\t', k, ':', v)"
   ]
  },
  {
   "cell_type": "code",
   "execution_count": 156,
   "metadata": {},
   "outputs": [
    {
     "data": {
      "application/vnd.plotly.v1+json": {
       "config": {
        "plotlyServerURL": "https://plot.ly"
       },
       "data": [
        {
         "cells": {
          "align": [
           "left",
           "center"
          ],
          "fill": {
           "color": [
            "paleturquoise",
            "white"
           ]
          },
          "font": {
           "size": 12
          },
          "height": 30,
          "line": {
           "color": "darkslategray"
          },
          "values": [
           [
            "Multilayer Perceptron",
            "Extreme Gradient Boosting (XGB)",
            "Random Forest",
            "Gradient Boosted Decision Trees (LGBM)",
            "Decision Tree",
            "Support Vector Machine",
            "Ridge Regression",
            "Logistic Regression",
            "Passive Aggressive",
            "Stochastic Gradient Descent",
            "Ada Boost"
           ],
           [
            "0.93",
            "0.91",
            "0.87",
            "0.87",
            "0.78",
            "0.71",
            "0.7",
            "0.7",
            "0.7",
            "0.69",
            "0.6"
           ],
           [
            "0.95",
            "0.94",
            "0.92",
            "0.91",
            "0.78",
            "0.71",
            "0.7",
            "0.7",
            "0.7",
            "0.67",
            "0.74"
           ],
           [
            "0.94",
            "0.93",
            "0.93",
            "0.91",
            "0.7",
            "0.62",
            "0.62",
            "0.62",
            "0.61",
            "0.57",
            "0.71"
           ],
           [
            "0.93",
            "0.91",
            "0.87",
            "0.86",
            "0.79",
            "0.71",
            "0.7",
            "0.7",
            "0.7",
            "0.68",
            "0.59"
           ],
           [
            "11917",
            "11614",
            "11196",
            "11079",
            "10159",
            "9054",
            "8984",
            "8958",
            "8920",
            "8724",
            "7545"
           ],
           [
            "18447",
            "18339",
            "18384",
            "18044",
            "14768",
            "13573",
            "13567",
            "13582",
            "13532",
            "12593",
            "16166"
           ],
           [
            "729",
            "837",
            "792",
            "1132",
            "4408",
            "5603",
            "5609",
            "5594",
            "5644",
            "6583",
            "3010"
           ],
           [
            "907",
            "1210",
            "1628",
            "1745",
            "2665",
            "3770",
            "3840",
            "3866",
            "3904",
            "4100",
            "5279"
           ],
           [
            "131600",
            "172175",
            "223300",
            "246425",
            "443325",
            "611325",
            "620225",
            "623100",
            "629100",
            "677075",
            "735125"
           ]
          ]
         },
         "header": {
          "align": [
           "left",
           "center"
          ],
          "fill": {
           "color": "royalblue"
          },
          "font": {
           "color": "white",
           "size": 12
          },
          "height": 40,
          "line": {
           "color": "darkslategray"
          },
          "values": [
           [
            "Method"
           ],
           [
            "f-beta"
           ],
           [
            "Accuracy"
           ],
           [
            "Precision"
           ],
           [
            "Recall"
           ],
           [
            "True Positive"
           ],
           [
            "True Negative"
           ],
           [
            "False Positive"
           ],
           [
            "False Negative"
           ],
           [
            "Cost($)"
           ]
          ]
         },
         "type": "table"
        }
       ],
       "layout": {
        "template": {
         "data": {
          "bar": [
           {
            "error_x": {
             "color": "#2a3f5f"
            },
            "error_y": {
             "color": "#2a3f5f"
            },
            "marker": {
             "line": {
              "color": "#E5ECF6",
              "width": 0.5
             }
            },
            "type": "bar"
           }
          ],
          "barpolar": [
           {
            "marker": {
             "line": {
              "color": "#E5ECF6",
              "width": 0.5
             }
            },
            "type": "barpolar"
           }
          ],
          "carpet": [
           {
            "aaxis": {
             "endlinecolor": "#2a3f5f",
             "gridcolor": "white",
             "linecolor": "white",
             "minorgridcolor": "white",
             "startlinecolor": "#2a3f5f"
            },
            "baxis": {
             "endlinecolor": "#2a3f5f",
             "gridcolor": "white",
             "linecolor": "white",
             "minorgridcolor": "white",
             "startlinecolor": "#2a3f5f"
            },
            "type": "carpet"
           }
          ],
          "choropleth": [
           {
            "colorbar": {
             "outlinewidth": 0,
             "ticks": ""
            },
            "type": "choropleth"
           }
          ],
          "contour": [
           {
            "colorbar": {
             "outlinewidth": 0,
             "ticks": ""
            },
            "colorscale": [
             [
              0,
              "#0d0887"
             ],
             [
              0.1111111111111111,
              "#46039f"
             ],
             [
              0.2222222222222222,
              "#7201a8"
             ],
             [
              0.3333333333333333,
              "#9c179e"
             ],
             [
              0.4444444444444444,
              "#bd3786"
             ],
             [
              0.5555555555555556,
              "#d8576b"
             ],
             [
              0.6666666666666666,
              "#ed7953"
             ],
             [
              0.7777777777777778,
              "#fb9f3a"
             ],
             [
              0.8888888888888888,
              "#fdca26"
             ],
             [
              1,
              "#f0f921"
             ]
            ],
            "type": "contour"
           }
          ],
          "contourcarpet": [
           {
            "colorbar": {
             "outlinewidth": 0,
             "ticks": ""
            },
            "type": "contourcarpet"
           }
          ],
          "heatmap": [
           {
            "colorbar": {
             "outlinewidth": 0,
             "ticks": ""
            },
            "colorscale": [
             [
              0,
              "#0d0887"
             ],
             [
              0.1111111111111111,
              "#46039f"
             ],
             [
              0.2222222222222222,
              "#7201a8"
             ],
             [
              0.3333333333333333,
              "#9c179e"
             ],
             [
              0.4444444444444444,
              "#bd3786"
             ],
             [
              0.5555555555555556,
              "#d8576b"
             ],
             [
              0.6666666666666666,
              "#ed7953"
             ],
             [
              0.7777777777777778,
              "#fb9f3a"
             ],
             [
              0.8888888888888888,
              "#fdca26"
             ],
             [
              1,
              "#f0f921"
             ]
            ],
            "type": "heatmap"
           }
          ],
          "heatmapgl": [
           {
            "colorbar": {
             "outlinewidth": 0,
             "ticks": ""
            },
            "colorscale": [
             [
              0,
              "#0d0887"
             ],
             [
              0.1111111111111111,
              "#46039f"
             ],
             [
              0.2222222222222222,
              "#7201a8"
             ],
             [
              0.3333333333333333,
              "#9c179e"
             ],
             [
              0.4444444444444444,
              "#bd3786"
             ],
             [
              0.5555555555555556,
              "#d8576b"
             ],
             [
              0.6666666666666666,
              "#ed7953"
             ],
             [
              0.7777777777777778,
              "#fb9f3a"
             ],
             [
              0.8888888888888888,
              "#fdca26"
             ],
             [
              1,
              "#f0f921"
             ]
            ],
            "type": "heatmapgl"
           }
          ],
          "histogram": [
           {
            "marker": {
             "colorbar": {
              "outlinewidth": 0,
              "ticks": ""
             }
            },
            "type": "histogram"
           }
          ],
          "histogram2d": [
           {
            "colorbar": {
             "outlinewidth": 0,
             "ticks": ""
            },
            "colorscale": [
             [
              0,
              "#0d0887"
             ],
             [
              0.1111111111111111,
              "#46039f"
             ],
             [
              0.2222222222222222,
              "#7201a8"
             ],
             [
              0.3333333333333333,
              "#9c179e"
             ],
             [
              0.4444444444444444,
              "#bd3786"
             ],
             [
              0.5555555555555556,
              "#d8576b"
             ],
             [
              0.6666666666666666,
              "#ed7953"
             ],
             [
              0.7777777777777778,
              "#fb9f3a"
             ],
             [
              0.8888888888888888,
              "#fdca26"
             ],
             [
              1,
              "#f0f921"
             ]
            ],
            "type": "histogram2d"
           }
          ],
          "histogram2dcontour": [
           {
            "colorbar": {
             "outlinewidth": 0,
             "ticks": ""
            },
            "colorscale": [
             [
              0,
              "#0d0887"
             ],
             [
              0.1111111111111111,
              "#46039f"
             ],
             [
              0.2222222222222222,
              "#7201a8"
             ],
             [
              0.3333333333333333,
              "#9c179e"
             ],
             [
              0.4444444444444444,
              "#bd3786"
             ],
             [
              0.5555555555555556,
              "#d8576b"
             ],
             [
              0.6666666666666666,
              "#ed7953"
             ],
             [
              0.7777777777777778,
              "#fb9f3a"
             ],
             [
              0.8888888888888888,
              "#fdca26"
             ],
             [
              1,
              "#f0f921"
             ]
            ],
            "type": "histogram2dcontour"
           }
          ],
          "mesh3d": [
           {
            "colorbar": {
             "outlinewidth": 0,
             "ticks": ""
            },
            "type": "mesh3d"
           }
          ],
          "parcoords": [
           {
            "line": {
             "colorbar": {
              "outlinewidth": 0,
              "ticks": ""
             }
            },
            "type": "parcoords"
           }
          ],
          "pie": [
           {
            "automargin": true,
            "type": "pie"
           }
          ],
          "scatter": [
           {
            "marker": {
             "colorbar": {
              "outlinewidth": 0,
              "ticks": ""
             }
            },
            "type": "scatter"
           }
          ],
          "scatter3d": [
           {
            "line": {
             "colorbar": {
              "outlinewidth": 0,
              "ticks": ""
             }
            },
            "marker": {
             "colorbar": {
              "outlinewidth": 0,
              "ticks": ""
             }
            },
            "type": "scatter3d"
           }
          ],
          "scattercarpet": [
           {
            "marker": {
             "colorbar": {
              "outlinewidth": 0,
              "ticks": ""
             }
            },
            "type": "scattercarpet"
           }
          ],
          "scattergeo": [
           {
            "marker": {
             "colorbar": {
              "outlinewidth": 0,
              "ticks": ""
             }
            },
            "type": "scattergeo"
           }
          ],
          "scattergl": [
           {
            "marker": {
             "colorbar": {
              "outlinewidth": 0,
              "ticks": ""
             }
            },
            "type": "scattergl"
           }
          ],
          "scattermapbox": [
           {
            "marker": {
             "colorbar": {
              "outlinewidth": 0,
              "ticks": ""
             }
            },
            "type": "scattermapbox"
           }
          ],
          "scatterpolar": [
           {
            "marker": {
             "colorbar": {
              "outlinewidth": 0,
              "ticks": ""
             }
            },
            "type": "scatterpolar"
           }
          ],
          "scatterpolargl": [
           {
            "marker": {
             "colorbar": {
              "outlinewidth": 0,
              "ticks": ""
             }
            },
            "type": "scatterpolargl"
           }
          ],
          "scatterternary": [
           {
            "marker": {
             "colorbar": {
              "outlinewidth": 0,
              "ticks": ""
             }
            },
            "type": "scatterternary"
           }
          ],
          "surface": [
           {
            "colorbar": {
             "outlinewidth": 0,
             "ticks": ""
            },
            "colorscale": [
             [
              0,
              "#0d0887"
             ],
             [
              0.1111111111111111,
              "#46039f"
             ],
             [
              0.2222222222222222,
              "#7201a8"
             ],
             [
              0.3333333333333333,
              "#9c179e"
             ],
             [
              0.4444444444444444,
              "#bd3786"
             ],
             [
              0.5555555555555556,
              "#d8576b"
             ],
             [
              0.6666666666666666,
              "#ed7953"
             ],
             [
              0.7777777777777778,
              "#fb9f3a"
             ],
             [
              0.8888888888888888,
              "#fdca26"
             ],
             [
              1,
              "#f0f921"
             ]
            ],
            "type": "surface"
           }
          ],
          "table": [
           {
            "cells": {
             "fill": {
              "color": "#EBF0F8"
             },
             "line": {
              "color": "white"
             }
            },
            "header": {
             "fill": {
              "color": "#C8D4E3"
             },
             "line": {
              "color": "white"
             }
            },
            "type": "table"
           }
          ]
         },
         "layout": {
          "annotationdefaults": {
           "arrowcolor": "#2a3f5f",
           "arrowhead": 0,
           "arrowwidth": 1
          },
          "coloraxis": {
           "colorbar": {
            "outlinewidth": 0,
            "ticks": ""
           }
          },
          "colorscale": {
           "diverging": [
            [
             0,
             "#8e0152"
            ],
            [
             0.1,
             "#c51b7d"
            ],
            [
             0.2,
             "#de77ae"
            ],
            [
             0.3,
             "#f1b6da"
            ],
            [
             0.4,
             "#fde0ef"
            ],
            [
             0.5,
             "#f7f7f7"
            ],
            [
             0.6,
             "#e6f5d0"
            ],
            [
             0.7,
             "#b8e186"
            ],
            [
             0.8,
             "#7fbc41"
            ],
            [
             0.9,
             "#4d9221"
            ],
            [
             1,
             "#276419"
            ]
           ],
           "sequential": [
            [
             0,
             "#0d0887"
            ],
            [
             0.1111111111111111,
             "#46039f"
            ],
            [
             0.2222222222222222,
             "#7201a8"
            ],
            [
             0.3333333333333333,
             "#9c179e"
            ],
            [
             0.4444444444444444,
             "#bd3786"
            ],
            [
             0.5555555555555556,
             "#d8576b"
            ],
            [
             0.6666666666666666,
             "#ed7953"
            ],
            [
             0.7777777777777778,
             "#fb9f3a"
            ],
            [
             0.8888888888888888,
             "#fdca26"
            ],
            [
             1,
             "#f0f921"
            ]
           ],
           "sequentialminus": [
            [
             0,
             "#0d0887"
            ],
            [
             0.1111111111111111,
             "#46039f"
            ],
            [
             0.2222222222222222,
             "#7201a8"
            ],
            [
             0.3333333333333333,
             "#9c179e"
            ],
            [
             0.4444444444444444,
             "#bd3786"
            ],
            [
             0.5555555555555556,
             "#d8576b"
            ],
            [
             0.6666666666666666,
             "#ed7953"
            ],
            [
             0.7777777777777778,
             "#fb9f3a"
            ],
            [
             0.8888888888888888,
             "#fdca26"
            ],
            [
             1,
             "#f0f921"
            ]
           ]
          },
          "colorway": [
           "#636efa",
           "#EF553B",
           "#00cc96",
           "#ab63fa",
           "#FFA15A",
           "#19d3f3",
           "#FF6692",
           "#B6E880",
           "#FF97FF",
           "#FECB52"
          ],
          "font": {
           "color": "#2a3f5f"
          },
          "geo": {
           "bgcolor": "white",
           "lakecolor": "white",
           "landcolor": "#E5ECF6",
           "showlakes": true,
           "showland": true,
           "subunitcolor": "white"
          },
          "hoverlabel": {
           "align": "left"
          },
          "hovermode": "closest",
          "mapbox": {
           "style": "light"
          },
          "paper_bgcolor": "white",
          "plot_bgcolor": "#E5ECF6",
          "polar": {
           "angularaxis": {
            "gridcolor": "white",
            "linecolor": "white",
            "ticks": ""
           },
           "bgcolor": "#E5ECF6",
           "radialaxis": {
            "gridcolor": "white",
            "linecolor": "white",
            "ticks": ""
           }
          },
          "scene": {
           "xaxis": {
            "backgroundcolor": "#E5ECF6",
            "gridcolor": "white",
            "gridwidth": 2,
            "linecolor": "white",
            "showbackground": true,
            "ticks": "",
            "zerolinecolor": "white"
           },
           "yaxis": {
            "backgroundcolor": "#E5ECF6",
            "gridcolor": "white",
            "gridwidth": 2,
            "linecolor": "white",
            "showbackground": true,
            "ticks": "",
            "zerolinecolor": "white"
           },
           "zaxis": {
            "backgroundcolor": "#E5ECF6",
            "gridcolor": "white",
            "gridwidth": 2,
            "linecolor": "white",
            "showbackground": true,
            "ticks": "",
            "zerolinecolor": "white"
           }
          },
          "shapedefaults": {
           "line": {
            "color": "#2a3f5f"
           }
          },
          "ternary": {
           "aaxis": {
            "gridcolor": "white",
            "linecolor": "white",
            "ticks": ""
           },
           "baxis": {
            "gridcolor": "white",
            "linecolor": "white",
            "ticks": ""
           },
           "bgcolor": "#E5ECF6",
           "caxis": {
            "gridcolor": "white",
            "linecolor": "white",
            "ticks": ""
           }
          },
          "title": {
           "x": 0.05
          },
          "xaxis": {
           "automargin": true,
           "gridcolor": "white",
           "linecolor": "white",
           "ticks": "",
           "title": {
            "standoff": 15
           },
           "zerolinecolor": "white",
           "zerolinewidth": 2
          },
          "yaxis": {
           "automargin": true,
           "gridcolor": "white",
           "linecolor": "white",
           "ticks": "",
           "title": {
            "standoff": 15
           },
           "zerolinecolor": "white",
           "zerolinewidth": 2
          }
         }
        },
        "title": {
         "text": "Model Performance by Cost",
         "x": 0.5,
         "xanchor": "center",
         "y": 0.9,
         "yanchor": "top"
        }
       }
      },
      "text/html": [
       "<div>                            <div id=\"a8111334-1ad8-48e2-9e7b-ce29f6bbbc72\" class=\"plotly-graph-div\" style=\"height:525px; width:100%;\"></div>            <script type=\"text/javascript\">                require([\"plotly\"], function(Plotly) {                    window.PLOTLYENV=window.PLOTLYENV || {};                                    if (document.getElementById(\"a8111334-1ad8-48e2-9e7b-ce29f6bbbc72\")) {                    Plotly.newPlot(                        \"a8111334-1ad8-48e2-9e7b-ce29f6bbbc72\",                        [{\"cells\": {\"align\": [\"left\", \"center\"], \"fill\": {\"color\": [\"paleturquoise\", \"white\"]}, \"font\": {\"size\": 12}, \"height\": 30, \"line\": {\"color\": \"darkslategray\"}, \"values\": [[\"Multilayer Perceptron\", \"Extreme Gradient Boosting (XGB)\", \"Random Forest\", \"Gradient Boosted Decision Trees (LGBM)\", \"Decision Tree\", \"Support Vector Machine\", \"Ridge Regression\", \"Logistic Regression\", \"Passive Aggressive\", \"Stochastic Gradient Descent\", \"Ada Boost\"], [\"0.93\", \"0.91\", \"0.87\", \"0.87\", \"0.78\", \"0.71\", \"0.7\", \"0.7\", \"0.7\", \"0.69\", \"0.6\"], [\"0.95\", \"0.94\", \"0.92\", \"0.91\", \"0.78\", \"0.71\", \"0.7\", \"0.7\", \"0.7\", \"0.67\", \"0.74\"], [\"0.94\", \"0.93\", \"0.93\", \"0.91\", \"0.7\", \"0.62\", \"0.62\", \"0.62\", \"0.61\", \"0.57\", \"0.71\"], [\"0.93\", \"0.91\", \"0.87\", \"0.86\", \"0.79\", \"0.71\", \"0.7\", \"0.7\", \"0.7\", \"0.68\", \"0.59\"], [\"11917\", \"11614\", \"11196\", \"11079\", \"10159\", \"9054\", \"8984\", \"8958\", \"8920\", \"8724\", \"7545\"], [\"18447\", \"18339\", \"18384\", \"18044\", \"14768\", \"13573\", \"13567\", \"13582\", \"13532\", \"12593\", \"16166\"], [\"729\", \"837\", \"792\", \"1132\", \"4408\", \"5603\", \"5609\", \"5594\", \"5644\", \"6583\", \"3010\"], [\"907\", \"1210\", \"1628\", \"1745\", \"2665\", \"3770\", \"3840\", \"3866\", \"3904\", \"4100\", \"5279\"], [\"131600\", \"172175\", \"223300\", \"246425\", \"443325\", \"611325\", \"620225\", \"623100\", \"629100\", \"677075\", \"735125\"]]}, \"header\": {\"align\": [\"left\", \"center\"], \"fill\": {\"color\": \"royalblue\"}, \"font\": {\"color\": \"white\", \"size\": 12}, \"height\": 40, \"line\": {\"color\": \"darkslategray\"}, \"values\": [[\"Method\"], [\"f-beta\"], [\"Accuracy\"], [\"Precision\"], [\"Recall\"], [\"True Positive\"], [\"True Negative\"], [\"False Positive\"], [\"False Negative\"], [\"Cost($)\"]]}, \"type\": \"table\"}],                        {\"template\": {\"data\": {\"bar\": [{\"error_x\": {\"color\": \"#2a3f5f\"}, \"error_y\": {\"color\": \"#2a3f5f\"}, \"marker\": {\"line\": {\"color\": \"#E5ECF6\", \"width\": 0.5}}, \"type\": \"bar\"}], \"barpolar\": [{\"marker\": {\"line\": {\"color\": \"#E5ECF6\", \"width\": 0.5}}, \"type\": \"barpolar\"}], \"carpet\": [{\"aaxis\": {\"endlinecolor\": \"#2a3f5f\", \"gridcolor\": \"white\", \"linecolor\": \"white\", \"minorgridcolor\": \"white\", \"startlinecolor\": \"#2a3f5f\"}, \"baxis\": {\"endlinecolor\": \"#2a3f5f\", \"gridcolor\": \"white\", \"linecolor\": \"white\", \"minorgridcolor\": \"white\", \"startlinecolor\": \"#2a3f5f\"}, \"type\": \"carpet\"}], \"choropleth\": [{\"colorbar\": {\"outlinewidth\": 0, \"ticks\": \"\"}, \"type\": \"choropleth\"}], \"contour\": [{\"colorbar\": {\"outlinewidth\": 0, \"ticks\": \"\"}, \"colorscale\": [[0.0, \"#0d0887\"], [0.1111111111111111, \"#46039f\"], [0.2222222222222222, \"#7201a8\"], [0.3333333333333333, \"#9c179e\"], [0.4444444444444444, \"#bd3786\"], [0.5555555555555556, \"#d8576b\"], [0.6666666666666666, \"#ed7953\"], [0.7777777777777778, \"#fb9f3a\"], [0.8888888888888888, \"#fdca26\"], [1.0, \"#f0f921\"]], \"type\": \"contour\"}], \"contourcarpet\": [{\"colorbar\": {\"outlinewidth\": 0, \"ticks\": \"\"}, \"type\": \"contourcarpet\"}], \"heatmap\": [{\"colorbar\": {\"outlinewidth\": 0, \"ticks\": \"\"}, \"colorscale\": [[0.0, \"#0d0887\"], [0.1111111111111111, \"#46039f\"], [0.2222222222222222, \"#7201a8\"], [0.3333333333333333, \"#9c179e\"], [0.4444444444444444, \"#bd3786\"], [0.5555555555555556, \"#d8576b\"], [0.6666666666666666, \"#ed7953\"], [0.7777777777777778, \"#fb9f3a\"], [0.8888888888888888, \"#fdca26\"], [1.0, \"#f0f921\"]], \"type\": \"heatmap\"}], \"heatmapgl\": [{\"colorbar\": {\"outlinewidth\": 0, \"ticks\": \"\"}, \"colorscale\": [[0.0, \"#0d0887\"], [0.1111111111111111, \"#46039f\"], [0.2222222222222222, \"#7201a8\"], [0.3333333333333333, \"#9c179e\"], [0.4444444444444444, \"#bd3786\"], [0.5555555555555556, \"#d8576b\"], [0.6666666666666666, \"#ed7953\"], [0.7777777777777778, \"#fb9f3a\"], [0.8888888888888888, \"#fdca26\"], [1.0, \"#f0f921\"]], \"type\": \"heatmapgl\"}], \"histogram\": [{\"marker\": {\"colorbar\": {\"outlinewidth\": 0, \"ticks\": \"\"}}, \"type\": \"histogram\"}], \"histogram2d\": [{\"colorbar\": {\"outlinewidth\": 0, \"ticks\": \"\"}, \"colorscale\": [[0.0, \"#0d0887\"], [0.1111111111111111, \"#46039f\"], [0.2222222222222222, \"#7201a8\"], [0.3333333333333333, \"#9c179e\"], [0.4444444444444444, \"#bd3786\"], [0.5555555555555556, \"#d8576b\"], [0.6666666666666666, \"#ed7953\"], [0.7777777777777778, \"#fb9f3a\"], [0.8888888888888888, \"#fdca26\"], [1.0, \"#f0f921\"]], \"type\": \"histogram2d\"}], \"histogram2dcontour\": [{\"colorbar\": {\"outlinewidth\": 0, \"ticks\": \"\"}, \"colorscale\": [[0.0, \"#0d0887\"], [0.1111111111111111, \"#46039f\"], [0.2222222222222222, \"#7201a8\"], [0.3333333333333333, \"#9c179e\"], [0.4444444444444444, \"#bd3786\"], [0.5555555555555556, \"#d8576b\"], [0.6666666666666666, \"#ed7953\"], [0.7777777777777778, \"#fb9f3a\"], [0.8888888888888888, \"#fdca26\"], [1.0, \"#f0f921\"]], \"type\": \"histogram2dcontour\"}], \"mesh3d\": [{\"colorbar\": {\"outlinewidth\": 0, \"ticks\": \"\"}, \"type\": \"mesh3d\"}], \"parcoords\": [{\"line\": {\"colorbar\": {\"outlinewidth\": 0, \"ticks\": \"\"}}, \"type\": \"parcoords\"}], \"pie\": [{\"automargin\": true, \"type\": \"pie\"}], \"scatter\": [{\"marker\": {\"colorbar\": {\"outlinewidth\": 0, \"ticks\": \"\"}}, \"type\": \"scatter\"}], \"scatter3d\": [{\"line\": {\"colorbar\": {\"outlinewidth\": 0, \"ticks\": \"\"}}, \"marker\": {\"colorbar\": {\"outlinewidth\": 0, \"ticks\": \"\"}}, \"type\": \"scatter3d\"}], \"scattercarpet\": [{\"marker\": {\"colorbar\": {\"outlinewidth\": 0, \"ticks\": \"\"}}, \"type\": \"scattercarpet\"}], \"scattergeo\": [{\"marker\": {\"colorbar\": {\"outlinewidth\": 0, \"ticks\": \"\"}}, \"type\": \"scattergeo\"}], \"scattergl\": [{\"marker\": {\"colorbar\": {\"outlinewidth\": 0, \"ticks\": \"\"}}, \"type\": \"scattergl\"}], \"scattermapbox\": [{\"marker\": {\"colorbar\": {\"outlinewidth\": 0, \"ticks\": \"\"}}, \"type\": \"scattermapbox\"}], \"scatterpolar\": [{\"marker\": {\"colorbar\": {\"outlinewidth\": 0, \"ticks\": \"\"}}, \"type\": \"scatterpolar\"}], \"scatterpolargl\": [{\"marker\": {\"colorbar\": {\"outlinewidth\": 0, \"ticks\": \"\"}}, \"type\": \"scatterpolargl\"}], \"scatterternary\": [{\"marker\": {\"colorbar\": {\"outlinewidth\": 0, \"ticks\": \"\"}}, \"type\": \"scatterternary\"}], \"surface\": [{\"colorbar\": {\"outlinewidth\": 0, \"ticks\": \"\"}, \"colorscale\": [[0.0, \"#0d0887\"], [0.1111111111111111, \"#46039f\"], [0.2222222222222222, \"#7201a8\"], [0.3333333333333333, \"#9c179e\"], [0.4444444444444444, \"#bd3786\"], [0.5555555555555556, \"#d8576b\"], [0.6666666666666666, \"#ed7953\"], [0.7777777777777778, \"#fb9f3a\"], [0.8888888888888888, \"#fdca26\"], [1.0, \"#f0f921\"]], \"type\": \"surface\"}], \"table\": [{\"cells\": {\"fill\": {\"color\": \"#EBF0F8\"}, \"line\": {\"color\": \"white\"}}, \"header\": {\"fill\": {\"color\": \"#C8D4E3\"}, \"line\": {\"color\": \"white\"}}, \"type\": \"table\"}]}, \"layout\": {\"annotationdefaults\": {\"arrowcolor\": \"#2a3f5f\", \"arrowhead\": 0, \"arrowwidth\": 1}, \"coloraxis\": {\"colorbar\": {\"outlinewidth\": 0, \"ticks\": \"\"}}, \"colorscale\": {\"diverging\": [[0, \"#8e0152\"], [0.1, \"#c51b7d\"], [0.2, \"#de77ae\"], [0.3, \"#f1b6da\"], [0.4, \"#fde0ef\"], [0.5, \"#f7f7f7\"], [0.6, \"#e6f5d0\"], [0.7, \"#b8e186\"], [0.8, \"#7fbc41\"], [0.9, \"#4d9221\"], [1, \"#276419\"]], \"sequential\": [[0.0, \"#0d0887\"], [0.1111111111111111, \"#46039f\"], [0.2222222222222222, \"#7201a8\"], [0.3333333333333333, \"#9c179e\"], [0.4444444444444444, \"#bd3786\"], [0.5555555555555556, \"#d8576b\"], [0.6666666666666666, \"#ed7953\"], [0.7777777777777778, \"#fb9f3a\"], [0.8888888888888888, \"#fdca26\"], [1.0, \"#f0f921\"]], \"sequentialminus\": [[0.0, \"#0d0887\"], [0.1111111111111111, \"#46039f\"], [0.2222222222222222, \"#7201a8\"], [0.3333333333333333, \"#9c179e\"], [0.4444444444444444, \"#bd3786\"], [0.5555555555555556, \"#d8576b\"], [0.6666666666666666, \"#ed7953\"], [0.7777777777777778, \"#fb9f3a\"], [0.8888888888888888, \"#fdca26\"], [1.0, \"#f0f921\"]]}, \"colorway\": [\"#636efa\", \"#EF553B\", \"#00cc96\", \"#ab63fa\", \"#FFA15A\", \"#19d3f3\", \"#FF6692\", \"#B6E880\", \"#FF97FF\", \"#FECB52\"], \"font\": {\"color\": \"#2a3f5f\"}, \"geo\": {\"bgcolor\": \"white\", \"lakecolor\": \"white\", \"landcolor\": \"#E5ECF6\", \"showlakes\": true, \"showland\": true, \"subunitcolor\": \"white\"}, \"hoverlabel\": {\"align\": \"left\"}, \"hovermode\": \"closest\", \"mapbox\": {\"style\": \"light\"}, \"paper_bgcolor\": \"white\", \"plot_bgcolor\": \"#E5ECF6\", \"polar\": {\"angularaxis\": {\"gridcolor\": \"white\", \"linecolor\": \"white\", \"ticks\": \"\"}, \"bgcolor\": \"#E5ECF6\", \"radialaxis\": {\"gridcolor\": \"white\", \"linecolor\": \"white\", \"ticks\": \"\"}}, \"scene\": {\"xaxis\": {\"backgroundcolor\": \"#E5ECF6\", \"gridcolor\": \"white\", \"gridwidth\": 2, \"linecolor\": \"white\", \"showbackground\": true, \"ticks\": \"\", \"zerolinecolor\": \"white\"}, \"yaxis\": {\"backgroundcolor\": \"#E5ECF6\", \"gridcolor\": \"white\", \"gridwidth\": 2, \"linecolor\": \"white\", \"showbackground\": true, \"ticks\": \"\", \"zerolinecolor\": \"white\"}, \"zaxis\": {\"backgroundcolor\": \"#E5ECF6\", \"gridcolor\": \"white\", \"gridwidth\": 2, \"linecolor\": \"white\", \"showbackground\": true, \"ticks\": \"\", \"zerolinecolor\": \"white\"}}, \"shapedefaults\": {\"line\": {\"color\": \"#2a3f5f\"}}, \"ternary\": {\"aaxis\": {\"gridcolor\": \"white\", \"linecolor\": \"white\", \"ticks\": \"\"}, \"baxis\": {\"gridcolor\": \"white\", \"linecolor\": \"white\", \"ticks\": \"\"}, \"bgcolor\": \"#E5ECF6\", \"caxis\": {\"gridcolor\": \"white\", \"linecolor\": \"white\", \"ticks\": \"\"}}, \"title\": {\"x\": 0.05}, \"xaxis\": {\"automargin\": true, \"gridcolor\": \"white\", \"linecolor\": \"white\", \"ticks\": \"\", \"title\": {\"standoff\": 15}, \"zerolinecolor\": \"white\", \"zerolinewidth\": 2}, \"yaxis\": {\"automargin\": true, \"gridcolor\": \"white\", \"linecolor\": \"white\", \"ticks\": \"\", \"title\": {\"standoff\": 15}, \"zerolinecolor\": \"white\", \"zerolinewidth\": 2}}}, \"title\": {\"text\": \"Model Performance by Cost\", \"x\": 0.5, \"xanchor\": \"center\", \"y\": 0.9, \"yanchor\": \"top\"}},                        {\"responsive\": true}                    ).then(function(){\n",
       "                            \n",
       "var gd = document.getElementById('a8111334-1ad8-48e2-9e7b-ce29f6bbbc72');\n",
       "var x = new MutationObserver(function (mutations, observer) {{\n",
       "        var display = window.getComputedStyle(gd).display;\n",
       "        if (!display || display === 'none') {{\n",
       "            console.log([gd, 'removed!']);\n",
       "            Plotly.purge(gd);\n",
       "            observer.disconnect();\n",
       "        }}\n",
       "}});\n",
       "\n",
       "// Listen for the removal of the full notebook cells\n",
       "var notebookContainer = gd.closest('#notebook-container');\n",
       "if (notebookContainer) {{\n",
       "    x.observe(notebookContainer, {childList: true});\n",
       "}}\n",
       "\n",
       "// Listen for the clearing of the current output cell\n",
       "var outputEl = gd.closest('.output');\n",
       "if (outputEl) {{\n",
       "    x.observe(outputEl, {childList: true});\n",
       "}}\n",
       "\n",
       "                        })                };                });            </script>        </div>"
      ]
     },
     "metadata": {},
     "output_type": "display_data"
    }
   ],
   "source": [
    "# Display a neatly formatted table with metrics of interest, sorted from best to worst, for easy comparison\n",
    "\n",
    "tableHeaders = [['Method'],\n",
    "                ['f-beta'],\n",
    "                ['Accuracy'],\n",
    "                ['Precision'],\n",
    "                ['Recall'],\n",
    "                ['True Positive'],\n",
    "                ['True Negative'],\n",
    "                ['False Positive'],\n",
    "                ['False Negative'],\n",
    "                ['Cost($)']]\n",
    "tableValues = [[r['name'] for r in results],\n",
    "               [round(r['best score'], 2) for r in results],\n",
    "               [round((r['TP'] + r['TN'])/(r['TP'] + r['TN'] + r['FP'] + r['FN']), 2) for r in results],\n",
    "               [round(r['precision'], 2) for r in results],\n",
    "               [round(r['recall'], 2) for r in results],\n",
    "               [r['TP'] for r in results],\n",
    "               [r['TN'] for r in results],\n",
    "               [r['FP'] for r in results],\n",
    "               [r['FN'] for r in results],\n",
    "               [int(r['FP'] + 5*r['FN']) for r in results]]\n",
    "\n",
    "# Need to sort by cost because that's what's important to the business owner\n",
    "tv = np.transpose(tableValues)  # Transpose to rows for sort\n",
    "tv = sorted(tv, key = lambda x: x[-1])   # Sort by last column\n",
    "tableValues = np.transpose(tv)  # Transpose back to columns for table display\n",
    "\n",
    "fig = go.Figure(data=[go.Table(\n",
    "  header = dict(\n",
    "    values = tableHeaders,\n",
    "    line_color='darkslategray',\n",
    "    fill_color='royalblue',\n",
    "    align=['left','center'],\n",
    "    font=dict(color='white', size=12),\n",
    "    height=40\n",
    "  ),\n",
    "  cells=dict(\n",
    "    values=tableValues,\n",
    "    line_color='darkslategray',\n",
    "    fill=dict(color=['paleturquoise', 'white']),\n",
    "    align=['left', 'center'],\n",
    "    font_size=12,\n",
    "    height=30)\n",
    "    )\n",
    "])\n",
    "\n",
    "fig.update_layout(title = {\n",
    "        'text': \"Model Performance by Loss\",\n",
    "        'y':0.9,\n",
    "        'x':0.5,\n",
    "        'xanchor': 'center',\n",
    "        'yanchor': 'top'})\n",
    "\n",
    "fig.show()\n",
    "\n",
    "# Save the table for inclusion in the report\n",
    "os.chdir(fd)\n",
    "fig.write_html(r\"ModelPerfTable.html\")"
   ]
  },
  {
   "cell_type": "code",
   "execution_count": 150,
   "metadata": {},
   "outputs": [
    {
     "data": {
      "image/png": "[encoded data removed]",
      "text/plain": [
       "<Figure size 432x288 with 1 Axes>"
      ]
     },
     "metadata": {
      "needs_background": "light"
     },
     "output_type": "display_data"
    }
   ],
   "source": [
    "# Plot the relative scores of each model against each other for comparison\n",
    "\n",
    "x = np.arange(4)\n",
    "xlabels = [['f-beta'],\n",
    "           ['Accuracy'],\n",
    "           ['Precision'],\n",
    "           ['Recall']]\n",
    " \n",
    "fig=plt.figure()\n",
    "ax=fig.add_subplot(111)\n",
    " \n",
    "tv = np.transpose(tableValues)\n",
    "\n",
    "for v in tv:\n",
    "    ax.plot(x, [v[1], v[2], v[3], v[4]], label = v[0])\n",
    "\n",
    "plt.xticks(x, [l[0] for l in xlabels], rotation = 45)\n",
    "plt.ylabel('Relative Score')\n",
    "axes = plt.gca()\n",
    "ax.yaxis.set_major_locator(plt.NullLocator())\n",
    "plt.gca().invert_yaxis()\n",
    "plt.title('Score Comparisons for Leading Models')\n",
    "plt.legend(loc='center left', bbox_to_anchor=(1.0, 0.5))\n",
    "plt.show()"
   ]
  }
 ],
 "metadata": {
  "kernelspec": {
   "display_name": "Python 3",
   "language": "python",
   "name": "python3"
  },
  "language_info": {
   "codemirror_mode": {
    "name": "ipython",
    "version": 3
   },
   "file_extension": ".py",
   "mimetype": "text/x-python",
   "name": "python",
   "nbconvert_exporter": "python",
   "pygments_lexer": "ipython3",
   "version": "3.7.9"
  }
 },
 "nbformat": 4,
 "nbformat_minor": 2
}
